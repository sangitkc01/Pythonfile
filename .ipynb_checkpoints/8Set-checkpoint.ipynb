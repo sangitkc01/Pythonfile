{
 "cells": [
  {
   "cell_type": "code",
   "execution_count": 1,
   "id": "712bc662",
   "metadata": {},
   "outputs": [],
   "source": [
    "# Set\n",
    "# - No indexing\n",
    "# - unordered\n",
    "# - mutable\n",
    "# - no duplicate data\n",
    "# - multiple values\n"
   ]
  },
  {
   "cell_type": "code",
   "execution_count": 2,
   "id": "b5b4725e",
   "metadata": {},
   "outputs": [
    {
     "name": "stdout",
     "output_type": "stream",
     "text": [
      "<class 'set'>\n"
     ]
    }
   ],
   "source": [
    "s = {\"apple\", \"ball\", \"cat\", \"dog\"}\n",
    "print (type(s))"
   ]
  },
  {
   "cell_type": "code",
   "execution_count": 3,
   "id": "a541a2ea",
   "metadata": {},
   "outputs": [
    {
     "data": {
      "text/plain": [
       "dict"
      ]
     },
     "execution_count": 3,
     "metadata": {},
     "output_type": "execute_result"
    }
   ],
   "source": [
    "s = {}\n",
    "type (s)"
   ]
  },
  {
   "cell_type": "code",
   "execution_count": 4,
   "id": "ec922a78",
   "metadata": {},
   "outputs": [
    {
     "data": {
      "text/plain": [
       "set"
      ]
     },
     "execution_count": 4,
     "metadata": {},
     "output_type": "execute_result"
    }
   ],
   "source": [
    "s = {1}\n",
    "type (s)"
   ]
  },
  {
   "cell_type": "code",
   "execution_count": 5,
   "id": "39df53a0",
   "metadata": {},
   "outputs": [
    {
     "name": "stdout",
     "output_type": "stream",
     "text": [
      "{'Apple', 'Cat', 'Dog', 'Ball'}\n"
     ]
    }
   ],
   "source": [
    "# no indexing because it is unordered\n",
    "\n",
    "s = {\"Apple\", \"Ball\", \"Cat\", \"Dog\"}\n",
    "print (s)                              #print lekhna sath the result is unordered"
   ]
  },
  {
   "cell_type": "code",
   "execution_count": 6,
   "id": "25d16229",
   "metadata": {},
   "outputs": [
    {
     "data": {
      "text/plain": [
       "{'Apple', 'Ball', 'Cat', 'Dog'}"
      ]
     },
     "execution_count": 6,
     "metadata": {},
     "output_type": "execute_result"
    }
   ],
   "source": [
    "s"
   ]
  },
  {
   "cell_type": "code",
   "execution_count": 7,
   "id": "b52f8730",
   "metadata": {},
   "outputs": [
    {
     "name": "stdout",
     "output_type": "stream",
     "text": [
      "{3344, 1, 3300, 677, 12}\n"
     ]
    }
   ],
   "source": [
    "s = {12,3344,1,3300,677}\n",
    "print (s)\n"
   ]
  },
  {
   "cell_type": "code",
   "execution_count": 8,
   "id": "546b6660",
   "metadata": {},
   "outputs": [
    {
     "data": {
      "text/plain": [
       "{1, 12, 677, 3300, 3344}"
      ]
     },
     "execution_count": 8,
     "metadata": {},
     "output_type": "execute_result"
    }
   ],
   "source": [
    "s"
   ]
  },
  {
   "cell_type": "code",
   "execution_count": 9,
   "id": "df93d4b4",
   "metadata": {},
   "outputs": [
    {
     "name": "stdout",
     "output_type": "stream",
     "text": [
      "{'dog', 'cat', 'ball', 'apple'}\n"
     ]
    }
   ],
   "source": [
    "s = {\"apple\", \"ball\", \"cat\", \"dog\", \"apple\"}     #does'nt support duplicate value\n",
    "print (s)"
   ]
  },
  {
   "cell_type": "code",
   "execution_count": 10,
   "id": "765ca466",
   "metadata": {},
   "outputs": [
    {
     "data": {
      "text/plain": [
       "{11, 22, 33, 44}"
      ]
     },
     "execution_count": 10,
     "metadata": {},
     "output_type": "execute_result"
    }
   ],
   "source": [
    "s = [11,22,33,11,22,33,44,33,11]\n",
    "s = set(s)                #if you convert into set, it automatically removes the duplicate value\n",
    "s"
   ]
  },
  {
   "cell_type": "code",
   "execution_count": 11,
   "id": "ca9c3a6a",
   "metadata": {
    "scrolled": true
   },
   "outputs": [
    {
     "data": {
      "text/plain": [
       "[33, 11, 44, 22]"
      ]
     },
     "execution_count": 11,
     "metadata": {},
     "output_type": "execute_result"
    }
   ],
   "source": [
    "s = list(s)\n",
    "s                    #set ma hune bitikai it changes the order type and again converted into list\n"
   ]
  },
  {
   "cell_type": "code",
   "execution_count": 12,
   "id": "d67ca0f9",
   "metadata": {},
   "outputs": [
    {
     "name": "stdout",
     "output_type": "stream",
     "text": [
      "enter n = 2\n",
      "enter x = sangit\n",
      "enter x = ram\n",
      "{'ram', 'sangit'}\n"
     ]
    }
   ],
   "source": [
    "# How to create set?\n",
    "\n",
    "\n",
    "s = set ()\n",
    "n = int (input (\"enter n = \"))\n",
    "for i in range (n):\n",
    "    x = input(\"enter x = \")\n",
    "    s.add(x)\n",
    "    \n",
    "print(s)"
   ]
  },
  {
   "cell_type": "code",
   "execution_count": 13,
   "id": "2513dac3",
   "metadata": {},
   "outputs": [
    {
     "data": {
      "text/plain": [
       "{'ball', 'cat'}"
      ]
     },
     "execution_count": 13,
     "metadata": {},
     "output_type": "execute_result"
    }
   ],
   "source": [
    "s = {'apple',\"ball\",\"cat\"}\n",
    "s.remove('apple')\n",
    "s"
   ]
  },
  {
   "cell_type": "code",
   "execution_count": 14,
   "id": "04438ef6",
   "metadata": {},
   "outputs": [],
   "source": [
    "# how to relate it with mathematics set? \n",
    "# # it is used to compare the value.\n",
    "# no concatenation in set\n"
   ]
  },
  {
   "cell_type": "code",
   "execution_count": 15,
   "id": "948c6b70",
   "metadata": {},
   "outputs": [
    {
     "ename": "TypeError",
     "evalue": "unsupported operand type(s) for +: 'set' and 'set'",
     "output_type": "error",
     "traceback": [
      "\u001b[1;31m---------------------------------------------------------------------------\u001b[0m",
      "\u001b[1;31mTypeError\u001b[0m                                 Traceback (most recent call last)",
      "\u001b[1;32m~\\AppData\\Local\\Temp/ipykernel_5912/4123411024.py\u001b[0m in \u001b[0;36m<module>\u001b[1;34m\u001b[0m\n\u001b[0;32m      2\u001b[0m \u001b[0mb\u001b[0m \u001b[1;33m=\u001b[0m \u001b[1;33m{\u001b[0m\u001b[1;34m\"sodhi\"\u001b[0m\u001b[1;33m,\u001b[0m\u001b[1;34m\"iyer\"\u001b[0m\u001b[1;33m,\u001b[0m \u001b[1;34m\"jetha lal\"\u001b[0m\u001b[1;33m,\u001b[0m \u001b[1;34m\"babita\"\u001b[0m\u001b[1;33m,\u001b[0m \u001b[1;34m\"babuji\"\u001b[0m\u001b[1;33m}\u001b[0m\u001b[1;33m\u001b[0m\u001b[1;33m\u001b[0m\u001b[0m\n\u001b[0;32m      3\u001b[0m \u001b[1;33m\u001b[0m\u001b[0m\n\u001b[1;32m----> 4\u001b[1;33m \u001b[0mc\u001b[0m \u001b[1;33m=\u001b[0m \u001b[0ma\u001b[0m \u001b[1;33m+\u001b[0m \u001b[0mb\u001b[0m\u001b[1;33m\u001b[0m\u001b[1;33m\u001b[0m\u001b[0m\n\u001b[0m\u001b[0;32m      5\u001b[0m \u001b[0mc\u001b[0m\u001b[1;33m\u001b[0m\u001b[1;33m\u001b[0m\u001b[0m\n",
      "\u001b[1;31mTypeError\u001b[0m: unsupported operand type(s) for +: 'set' and 'set'"
     ]
    }
   ],
   "source": [
    "a = {\"rajan\",\"krish\",\"joe\",\"love\",\"pushpa\"}\n",
    "b = {\"sodhi\",\"iyer\", \"jetha lal\", \"babita\", \"babuji\"}\n",
    "\n",
    "c = a + b\n",
    "c"
   ]
  },
  {
   "cell_type": "code",
   "execution_count": 16,
   "id": "23fb940e",
   "metadata": {},
   "outputs": [
    {
     "name": "stdout",
     "output_type": "stream",
     "text": [
      "{'pushpa', 'iyer', 'love', 'joe', 'sodhi', 'krish', 'babita', 'rajan', 'jetha lal', 'babuji'}\n"
     ]
    }
   ],
   "source": [
    "a= {\"rajan\",\"krish\",\"joe\",\"love\",\"pushpa\",\"jetha lal\"}\n",
    "b = {\"sodhi\",\"iyer\", \"jetha lal\", \"babita\", \"babuji\",\"pushpa\"}\n",
    "a.update(b)\n",
    "print(a)\n"
   ]
  },
  {
   "cell_type": "code",
   "execution_count": 17,
   "id": "9c497ed6",
   "metadata": {},
   "outputs": [
    {
     "data": {
      "text/plain": [
       "{'babita',\n",
       " 'babuji',\n",
       " 'iyer',\n",
       " 'jetha lal',\n",
       " 'joe',\n",
       " 'krish',\n",
       " 'love',\n",
       " 'pushpa',\n",
       " 'rajan',\n",
       " 'sodhi'}"
      ]
     },
     "execution_count": 17,
     "metadata": {},
     "output_type": "execute_result"
    }
   ],
   "source": [
    "a = {\"rajan\",\"krish\",\"joe\",\"love\",\"pushpa\",\"jetha lal\"}\n",
    "b = {\"sodhi\",\"iyer\", \"jetha lal\", \"babita\", \"babuji\",\"pushpa\"}\n",
    "a.union(b)\n"
   ]
  },
  {
   "cell_type": "code",
   "execution_count": 18,
   "id": "1e61bfed",
   "metadata": {},
   "outputs": [
    {
     "data": {
      "text/plain": [
       "{'jetha lal', 'pushpa'}"
      ]
     },
     "execution_count": 18,
     "metadata": {},
     "output_type": "execute_result"
    }
   ],
   "source": [
    "a = {\"rajan\",\"krish\",\"joe\",\"love\",\"pushpa\",\"jetha lal\"}\n",
    "b = {\"sodhi\",\"iyer\", \"jetha lal\", \"babita\", \"babuji\",\"pushpa\"}\n",
    "a.intersection(b)\n"
   ]
  },
  {
   "cell_type": "code",
   "execution_count": 21,
   "id": "97bdeb11",
   "metadata": {},
   "outputs": [
    {
     "name": "stdout",
     "output_type": "stream",
     "text": [
      "{'pushpa', 'jetha lal'}\n",
      "2\n"
     ]
    }
   ],
   "source": [
    "a = {\"rajan\",\"krish\",\"joe\",\"love\",\"pushpa\",\"jetha lal\"}\n",
    "b = {\"sodhi\",\"iyer\", \"jetha lal\", \"babita\", \"babuji\",\"pushpa\"}\n",
    "x = a.intersection(b)\n",
    "print(x)\n",
    "print(len(x))"
   ]
  },
  {
   "cell_type": "code",
   "execution_count": 22,
   "id": "7b6a72c1",
   "metadata": {},
   "outputs": [
    {
     "data": {
      "text/plain": [
       "{'joe', 'krish', 'love', 'rajan'}"
      ]
     },
     "execution_count": 22,
     "metadata": {},
     "output_type": "execute_result"
    }
   ],
   "source": [
    "a.difference(b)"
   ]
  },
  {
   "cell_type": "code",
   "execution_count": 23,
   "id": "ff4bccca",
   "metadata": {},
   "outputs": [
    {
     "data": {
      "text/plain": [
       "{'babita', 'babuji', 'iyer', 'sodhi'}"
      ]
     },
     "execution_count": 23,
     "metadata": {},
     "output_type": "execute_result"
    }
   ],
   "source": [
    "b.difference(a)"
   ]
  },
  {
   "cell_type": "code",
   "execution_count": 24,
   "id": "588c035d",
   "metadata": {},
   "outputs": [
    {
     "data": {
      "text/plain": [
       "False"
      ]
     },
     "execution_count": 24,
     "metadata": {},
     "output_type": "execute_result"
    }
   ],
   "source": [
    "a.isdisjoint(b)#a pair of sets which doesnot have any common elements is called disjoint set.eg:-(2,3)and(4,5) are disjoint set."
   ]
  },
  {
   "cell_type": "code",
   "execution_count": 25,
   "id": "7da49251",
   "metadata": {},
   "outputs": [
    {
     "data": {
      "text/plain": [
       "True"
      ]
     },
     "execution_count": 25,
     "metadata": {},
     "output_type": "execute_result"
    }
   ],
   "source": [
    "a = {1,2,3,4}\n",
    "b = {1,2,3,4,5,6,7,8}\n",
    "a.issubset(b)"
   ]
  },
  {
   "cell_type": "code",
   "execution_count": 26,
   "id": "6d5f1d01",
   "metadata": {},
   "outputs": [
    {
     "data": {
      "text/plain": [
       "False"
      ]
     },
     "execution_count": 26,
     "metadata": {},
     "output_type": "execute_result"
    }
   ],
   "source": [
    "a = {1,2,3,4}\n",
    "b = {1,2,3,4,5,6,7,8}\n",
    "a.issuperset(b)"
   ]
  },
  {
   "cell_type": "code",
   "execution_count": 27,
   "id": "63b055aa",
   "metadata": {},
   "outputs": [
    {
     "data": {
      "text/plain": [
       "{'ful kumari', 'mika lal'}"
      ]
     },
     "execution_count": 27,
     "metadata": {},
     "output_type": "execute_result"
    }
   ],
   "source": [
    "u = {\"rajan\",\"krish\",\"joe\",\"love\",\"pushpa\",\"jetha lal\",\"steve jobs\",\n",
    "     \"rajan\",\"krish\",\"joe\",\"love\",\"pushpa\",\"jetha lal\",\"steve jobs\", \"mika lal\", \"ful kumari\"}\n",
    "\n",
    "apple = {\"rajan\",\"krish\",\"joe\",\"love\",\"pushpa\",\"jetha lal\",\"steve jobs\"}\n",
    "ms = {\"sodhi\",\"iyer\", \"jetha lal\", \"babita\", \"babuji\",\"pushpa\", \"billu barber\"}\n",
    "\n",
    "un = apple.union(ms)\n",
    "u.difference(un)\n"
   ]
  },
  {
   "cell_type": "code",
   "execution_count": null,
   "id": "804f0978",
   "metadata": {},
   "outputs": [],
   "source": []
  }
 ],
 "metadata": {
  "kernelspec": {
   "display_name": "Python 3 (ipykernel)",
   "language": "python",
   "name": "python3"
  },
  "language_info": {
   "codemirror_mode": {
    "name": "ipython",
    "version": 3
   },
   "file_extension": ".py",
   "mimetype": "text/x-python",
   "name": "python",
   "nbconvert_exporter": "python",
   "pygments_lexer": "ipython3",
   "version": "3.9.7"
  }
 },
 "nbformat": 4,
 "nbformat_minor": 5
}
