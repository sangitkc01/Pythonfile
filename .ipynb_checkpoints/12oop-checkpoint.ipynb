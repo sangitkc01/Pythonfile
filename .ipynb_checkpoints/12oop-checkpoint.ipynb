{
 "cells": [
  {
   "cell_type": "code",
   "execution_count": 1,
   "id": "f4f092ac",
   "metadata": {},
   "outputs": [],
   "source": [
    "#Python is also object-oriented programming language"
   ]
  },
  {
   "cell_type": "code",
   "execution_count": 2,
   "id": "72a03487",
   "metadata": {},
   "outputs": [],
   "source": [
    "# oop ko operation fast hunxa\n",
    "# oop le memory kam linxa"
   ]
  },
  {
   "cell_type": "code",
   "execution_count": 3,
   "id": "d348a81a",
   "metadata": {},
   "outputs": [],
   "source": [
    "# class\n",
    "# object\n",
    "# method"
   ]
  },
  {
   "cell_type": "code",
   "execution_count": 4,
   "id": "0026e0d2",
   "metadata": {},
   "outputs": [],
   "source": [
    "#inheritance\n",
    "#encapsulation\n",
    "#polymorphism"
   ]
  },
  {
   "cell_type": "code",
   "execution_count": 5,
   "id": "a6686bb2",
   "metadata": {},
   "outputs": [],
   "source": [
    "class Hello:                      #class\n",
    "    pass"
   ]
  },
  {
   "cell_type": "code",
   "execution_count": 6,
   "id": "5acb0edc",
   "metadata": {},
   "outputs": [],
   "source": [
    "obj=Hello()                       #object\n",
    "                                   "
   ]
  },
  {
   "cell_type": "code",
   "execution_count": 7,
   "id": "8c052455",
   "metadata": {},
   "outputs": [
    {
     "name": "stdout",
     "output_type": "stream",
     "text": [
      "Hello World\n"
     ]
    }
   ],
   "source": [
    "class Hello():\n",
    "    print(\"Hello World\")\n",
    "obj=Hello()                        #object le class lai initialized garxa"
   ]
  },
  {
   "cell_type": "code",
   "execution_count": 2,
   "id": "bebc2424",
   "metadata": {},
   "outputs": [
    {
     "name": "stdout",
     "output_type": "stream",
     "text": [
      "Hello World\n"
     ]
    }
   ],
   "source": [
    "class Hello():                    # class\n",
    "    def hello(self):                  # method/function  # self lekhe pani vayo aru kunai word lekhe pani vayo\n",
    "        print(\"Hello World\")\n",
    "obj=Hello()                       #object\n",
    "obj.hello()                       #class vitra ko method lai execute garna ko lagi\n"
   ]
  },
  {
   "cell_type": "code",
   "execution_count": 9,
   "id": "29135bcc",
   "metadata": {},
   "outputs": [
    {
     "name": "stdout",
     "output_type": "stream",
     "text": [
      "Hello World\n"
     ]
    }
   ],
   "source": [
    "class Hello():                    # class\n",
    "    @staticmethod                 #decorator # staticmethod le class ko parameter ledaina\n",
    "    def hello():                  # method/function\n",
    "        print(\"Hello World\")\n",
    "obj=Hello()                       #object\n",
    "obj.hello()"
   ]
  },
  {
   "cell_type": "code",
   "execution_count": 4,
   "id": "c055ab62",
   "metadata": {},
   "outputs": [
    {
     "name": "stdout",
     "output_type": "stream",
     "text": [
      "Hello World\n"
     ]
    }
   ],
   "source": [
    "def hello(obj):                  # method/function\n",
    "    print(\"Hello World\")\n",
    "\n",
    "class Hello():                    # class\n",
    "    obj=Hello()                       #object\n",
    "obj.hello()                       # object le class bahira ko method lai execute garxa\n"
   ]
  },
  {
   "cell_type": "code",
   "execution_count": 15,
   "id": "e3edb8e6",
   "metadata": {},
   "outputs": [
    {
     "name": "stdout",
     "output_type": "stream",
     "text": [
      "50\n",
      "100\n"
     ]
    }
   ],
   "source": [
    "class cal:\n",
    "    @staticmethod\n",
    "    def area(l,b):\n",
    "        a=l*b\n",
    "        return a\n",
    "    \n",
    "    @staticmethod\n",
    "    def volumn(l,b,h):\n",
    "        v=l*b*h\n",
    "        return v\n",
    "\n",
    "obj=cal()\n",
    "print(obj.area(10,5))\n",
    "print(obj.volumn(10,5,2))"
   ]
  },
  {
   "cell_type": "code",
   "execution_count": 16,
   "id": "d814a9cc",
   "metadata": {},
   "outputs": [
    {
     "name": "stdout",
     "output_type": "stream",
     "text": [
      "50\n",
      "100\n"
     ]
    }
   ],
   "source": [
    "# Method / Function ma parameter pass gareko program\n",
    "\n",
    "class cal:\n",
    " \n",
    "    def area(self,l,b):           # self is always a first parameter\n",
    "        a=l*b\n",
    "        return a\n",
    "    \n",
    "\n",
    "    def volumn(self,l,b,h):\n",
    "        v=l*b*h\n",
    "        return v\n",
    "\n",
    "obj=cal()\n",
    "print(obj.area(10,5))\n",
    "print(obj.volumn(10,5,2))"
   ]
  },
  {
   "cell_type": "code",
   "execution_count": 6,
   "id": "42f742e8",
   "metadata": {},
   "outputs": [
    {
     "ename": "TypeError",
     "evalue": "area() missing 1 required positional argument: 'self'",
     "output_type": "error",
     "traceback": [
      "\u001b[1;31m---------------------------------------------------------------------------\u001b[0m",
      "\u001b[1;31mTypeError\u001b[0m                                 Traceback (most recent call last)",
      "\u001b[1;32m~\\AppData\\Local\\Temp/ipykernel_13420/3239913708.py\u001b[0m in \u001b[0;36m<module>\u001b[1;34m\u001b[0m\n\u001b[0;32m     18\u001b[0m \u001b[1;33m\u001b[0m\u001b[0m\n\u001b[0;32m     19\u001b[0m \u001b[0mobj\u001b[0m\u001b[1;33m=\u001b[0m\u001b[0mcal\u001b[0m\u001b[1;33m(\u001b[0m\u001b[1;36m10\u001b[0m\u001b[1;33m,\u001b[0m\u001b[1;36m5\u001b[0m\u001b[1;33m,\u001b[0m\u001b[1;36m2\u001b[0m\u001b[1;33m)\u001b[0m\u001b[1;33m\u001b[0m\u001b[1;33m\u001b[0m\u001b[0m\n\u001b[1;32m---> 20\u001b[1;33m \u001b[0mprint\u001b[0m\u001b[1;33m(\u001b[0m\u001b[0mobj\u001b[0m\u001b[1;33m.\u001b[0m\u001b[0marea\u001b[0m\u001b[1;33m(\u001b[0m\u001b[1;33m)\u001b[0m\u001b[1;33m)\u001b[0m\u001b[1;33m\u001b[0m\u001b[1;33m\u001b[0m\u001b[0m\n\u001b[0m\u001b[0;32m     21\u001b[0m \u001b[0mprint\u001b[0m\u001b[1;33m(\u001b[0m\u001b[0mobj\u001b[0m\u001b[1;33m.\u001b[0m\u001b[0mvolumn\u001b[0m\u001b[1;33m(\u001b[0m\u001b[1;33m)\u001b[0m\u001b[1;33m)\u001b[0m\u001b[1;33m\u001b[0m\u001b[1;33m\u001b[0m\u001b[0m\n",
      "\u001b[1;31mTypeError\u001b[0m: area() missing 1 required positional argument: 'self'"
     ]
    }
   ],
   "source": [
    "# Class ma parameter pass gareko program\n",
    "\n",
    "class cal:\n",
    "    def __init__(self,l,b,h):\n",
    "        #attribute\n",
    "        self.a = l                     # a,b,c is new variable. yasma l,b,h rakhe pani hunxa\n",
    "        self.b = b\n",
    "        self.c = h\n",
    "   \n",
    "    def area(self):           \n",
    "        a=self.a*self.b\n",
    "        return a\n",
    "    \n",
    "   \n",
    "    def volumn(self):\n",
    "        v=self.a*self.b*self.c\n",
    "        return v\n",
    "\n",
    "obj=cal(10,5,2)\n",
    "print(obj.area())\n",
    "print(obj.volumn())"
   ]
  },
  {
   "cell_type": "code",
   "execution_count": 22,
   "id": "29e33295",
   "metadata": {},
   "outputs": [
    {
     "name": "stdout",
     "output_type": "stream",
     "text": [
      "50\n",
      "100\n"
     ]
    }
   ],
   "source": [
    "class cal:\n",
    "    def __init__(self,l,b):\n",
    "        #attribute\n",
    "        self.a = l                     # a is new variable. yasma l rakhe pani hunxa\n",
    "        self.b = b\n",
    "       \n",
    "    \n",
    "    def area(self):           \n",
    "        a=self.a*self.b\n",
    "        return a\n",
    "    \n",
    "\n",
    "    def volumn(self,h):\n",
    "        v=self.a*self.b*h\n",
    "        return v\n",
    "\n",
    "obj=cal(10,5)\n",
    "print(obj.area())\n",
    "print(obj.volumn(2))"
   ]
  },
  {
   "cell_type": "code",
   "execution_count": 6,
   "id": "c7793b7d",
   "metadata": {},
   "outputs": [
    {
     "name": "stdout",
     "output_type": "stream",
     "text": [
      "50\n",
      "150\n"
     ]
    }
   ],
   "source": [
    "class Area:\n",
    "    def __init__(self,l,b):\n",
    "        #attribute\n",
    "        self.a = l                     # a is new variable. yasma l rakhe pani hunxa\n",
    "        self.b = b\n",
    "       \n",
    "    \n",
    "    def area(self):           \n",
    "        a=self.a*self.b\n",
    "        return a\n",
    "    \n",
    "class Volumn:\n",
    "    def __init__(self,l,b,h):\n",
    "        #attribute\n",
    "        self.a = l                     # a is new variable. yasma l rakhe pani hunxa\n",
    "        self.b = b\n",
    "        self.c = h\n",
    "      \n",
    "    def volumn(self):\n",
    "        v=self.a*self.b*self.c\n",
    "        return v\n",
    "\n",
    "obj1=Area(10,5)\n",
    "obj2=Volumn(10,5,3)\n",
    "print(obj1.area())\n",
    "print(obj2.volumn())"
   ]
  },
  {
   "cell_type": "code",
   "execution_count": 7,
   "id": "b1d9e4fb",
   "metadata": {},
   "outputs": [
    {
     "name": "stdout",
     "output_type": "stream",
     "text": [
      "enter name = sangit\n",
      "enter age = 22\n",
      "enter add = dang\n",
      "sangit\n"
     ]
    }
   ],
   "source": [
    "class Info:\n",
    "    def __init__(self,name,age,add):\n",
    "        self.name=name\n",
    "        self.age=age\n",
    "        self.add=add\n",
    "        \n",
    "    \n",
    "    def __str__(self):\n",
    "        return self.name\n",
    "        \n",
    "        \n",
    "\n",
    "name=input('enter name = ')\n",
    "age=int(input('enter age = '))\n",
    "add=input('enter add = ')\n",
    "\n",
    "obj = Info(name,age,add)\n",
    "print(obj)"
   ]
  },
  {
   "cell_type": "code",
   "execution_count": 8,
   "id": "13c80651",
   "metadata": {},
   "outputs": [
    {
     "name": "stdout",
     "output_type": "stream",
     "text": [
      "enter name = sangit\n",
      "enter age = 22\n",
      "enter add = dagn\n",
      "sangit\n",
      "sangit\n"
     ]
    }
   ],
   "source": [
    "class Info:\n",
    "    def __init__(self,name,age,add):\n",
    "        self.name=name\n",
    "        self.age=age\n",
    "        self.add=add\n",
    "    \n",
    "    def info(self):\n",
    "        return self.name\n",
    "    \n",
    "    \n",
    "    def __str__(self):\n",
    "        return self.name\n",
    "        \n",
    "        \n",
    "\n",
    "name=input('enter name = ')\n",
    "age=int(input('enter age = '))\n",
    "add=input('enter add = ')\n",
    "\n",
    "obj = Info(name,age,add)\n",
    "print(obj)\n",
    "print(obj.info())"
   ]
  },
  {
   "cell_type": "code",
   "execution_count": 9,
   "id": "4e081cf9",
   "metadata": {},
   "outputs": [
    {
     "name": "stdout",
     "output_type": "stream",
     "text": [
      "enter name = sangit kc\n",
      "enter age = 22\n",
      "enter add = dang\n",
      "sangit kc\n",
      "Hello World I am sangit kc. I am from dang. I am 22\n",
      "<class '__main__.Info'>\n",
      "<class 'str'>\n"
     ]
    }
   ],
   "source": [
    "class Info:\n",
    "    def __init__(self,name,age,add):\n",
    "        self.name=name\n",
    "        self.age=age\n",
    "        self.add=add\n",
    "    \n",
    "    def info(self):\n",
    "        return f\"Hello World I am {self.name}. I am from {self.add}. I am {self.age}\"\n",
    "    \n",
    "    \n",
    "    def __str__(self):           #str le string datatype lai matra return garxa but it isnot string\n",
    "        return self.name\n",
    "        \n",
    "        \n",
    "\n",
    "name=input('enter name = ')\n",
    "age=int(input('enter age = '))\n",
    "add=input('enter add = ')\n",
    "\n",
    "obj = Info(name,age,add)\n",
    "print(obj)\n",
    "print(obj.info())\n",
    "\n",
    "print(type(obj))                   #object ko datatype hudaina\n",
    "print(type(obj.info()))"
   ]
  },
  {
   "cell_type": "code",
   "execution_count": 12,
   "id": "25036953",
   "metadata": {},
   "outputs": [
    {
     "name": "stdout",
     "output_type": "stream",
     "text": [
      "enter name = sangit\n",
      "enter age = 22\n",
      "enter add = dang\n",
      "sangit\n",
      "sangit\n",
      "sangit\n",
      "sangit Hello how are you\n",
      "Hello World I am sangit. I am from dang. I am 22\n"
     ]
    }
   ],
   "source": [
    "class Info:\n",
    "    def __init__(self,name,age,add):\n",
    "        self.name=name\n",
    "        self.age=age\n",
    "        self.add=add\n",
    "    \n",
    "    def info(self):\n",
    "        return f\"Hello World I am {self.name}. I am from {self.add}. I am {self.age}\"\n",
    "    \n",
    "    \n",
    "    def __str__(self):\n",
    "        return self.name\n",
    "        \n",
    "        \n",
    "\n",
    "name=input('enter name = ')\n",
    "age=int(input('enter age = '))\n",
    "add=input('enter add = ')\n",
    "\n",
    "obj = Info(name,age,add)\n",
    "print(obj)\n",
    "print(obj.__str__())\n",
    "print(str(obj))\n",
    "print(str(obj) + \" Hello how are you\")\n",
    "print(obj.info())\n"
   ]
  },
  {
   "cell_type": "code",
   "execution_count": 13,
   "id": "cc54b0d4",
   "metadata": {
    "scrolled": true
   },
   "outputs": [
    {
     "name": "stdout",
     "output_type": "stream",
     "text": [
      "enter l = 3\n",
      "enter b = 4\n",
      "12\n"
     ]
    }
   ],
   "source": [
    "# WAP to input values from users and pass it to method and perform some operations.\n",
    "\n",
    "\n",
    "class cal():\n",
    "    def __init__(self, l, b):\n",
    "        self.l= l\n",
    "        self.b=b\n",
    "        \n",
    "    def area(self):\n",
    "        a=self.l*self.b\n",
    "        return a\n",
    "    \n",
    "l=int(input('enter l = '))\n",
    "b=int(input('enter b = '))\n",
    "\n",
    "obj=cal(l,b)\n",
    "print(obj.area())\n"
   ]
  },
  {
   "cell_type": "code",
   "execution_count": 15,
   "id": "8528637d",
   "metadata": {},
   "outputs": [
    {
     "name": "stdout",
     "output_type": "stream",
     "text": [
      "enter name = sangit\n",
      "enter age = 22\n",
      "enter add = dang\n",
      "Hello World I am sangit. I am from dang. I am 22\n"
     ]
    }
   ],
   "source": [
    "# WAP to input values from users and pass it to method and perform some operations.\n",
    "# files\n",
    "\n",
    "class cal():\n",
    "    def __init__(self,name,age,add):\n",
    "        self.name=name\n",
    "        self.age=age\n",
    "        self.add=add\n",
    "        \n",
    "    def area(self):\n",
    "        return f\"Hello World I am {self.name}. I am from {self.add}. I am {self.age}\"\n",
    "    \n",
    "    \n",
    "name=input('enter name = ')\n",
    "age=int(input('enter age = '))\n",
    "add=input('enter add = ')\n",
    "\n",
    "obj=cal(name,age,add)\n",
    "print(obj.area())\n",
    "\n",
    "file=open('oop1.txt','w')\n",
    "file.write(obj.area())\n",
    "file.close()\n"
   ]
  },
  {
   "cell_type": "code",
   "execution_count": 1,
   "id": "aaec0d75",
   "metadata": {},
   "outputs": [
    {
     "name": "stdout",
     "output_type": "stream",
     "text": [
      "50\n",
      "100\n"
     ]
    }
   ],
   "source": [
    "# Method / Function ma parameter pass gareko program\n",
    "\n",
    "class cal:\n",
    "    @staticmethod            # staticmethod le class ko parameter ledaina\n",
    "    def area(l,b):           # self is always a first parameter\n",
    "        a=l*b\n",
    "        return a\n",
    "    \n",
    "    @staticmethod\n",
    "    def volumn(l,b,h):\n",
    "        v=l*b*h\n",
    "        return v\n",
    "\n",
    "obj=cal()\n",
    "print(obj.area(10,5))\n",
    "print(obj.volumn(10,5,2))"
   ]
  },
  {
   "cell_type": "code",
   "execution_count": null,
   "id": "a8c5cfa3",
   "metadata": {},
   "outputs": [],
   "source": []
  }
 ],
 "metadata": {
  "kernelspec": {
   "display_name": "Python 3 (ipykernel)",
   "language": "python",
   "name": "python3"
  },
  "language_info": {
   "codemirror_mode": {
    "name": "ipython",
    "version": 3
   },
   "file_extension": ".py",
   "mimetype": "text/x-python",
   "name": "python",
   "nbconvert_exporter": "python",
   "pygments_lexer": "ipython3",
   "version": "3.9.7"
  }
 },
 "nbformat": 4,
 "nbformat_minor": 5
}
