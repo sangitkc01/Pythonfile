{
 "cells": [
  {
   "cell_type": "code",
   "execution_count": 1,
   "id": "122850b4",
   "metadata": {},
   "outputs": [],
   "source": [
    "class A:\n",
    "    pass\n",
    "class B(A):\n",
    "    pass\n",
    "\n",
    "obj=B()"
   ]
  },
  {
   "cell_type": "code",
   "execution_count": 1,
   "id": "97297af9",
   "metadata": {},
   "outputs": [
    {
     "name": "stdout",
     "output_type": "stream",
     "text": [
      "enter name  = sangit\n",
      "enter address = dang\n",
      "Hello World I am sangit. I am from dang\n",
      "sangit\n",
      "dang\n"
     ]
    }
   ],
   "source": [
    "class Info:                                                               #parent class\n",
    "    def __init__(self):                                     #attribute initizalize garna ko lagi init define garinxa\n",
    "        self.name=input('enter name  = ')\n",
    "        self.add=input('enter address = ')\n",
    "        \n",
    "class Data(Info):                                                         #child class\n",
    "    def data(self):\n",
    "        print(f\"Hello World I am {self.name}. I am from {self.add}\")\n",
    "        \n",
    "obj=Data()\n",
    "obj.data()\n",
    "print(obj.name)\n",
    "print(obj.add)"
   ]
  },
  {
   "cell_type": "code",
   "execution_count": 6,
   "id": "fd4fc4ea",
   "metadata": {},
   "outputs": [
    {
     "name": "stdout",
     "output_type": "stream",
     "text": [
      "enter name  = sangit\n",
      "enter address = dang\n",
      "Hello World I am sangit. I am from dang\n",
      "sangit\n",
      "dang\n"
     ]
    }
   ],
   "source": [
    "class Info:                                                               #parent class\n",
    "    def __init__(self,name,add):\n",
    "        self.name=name\n",
    "        self.add=add\n",
    "        \n",
    "class Data(Info):                                                         #child class\n",
    "    def data(self):\n",
    "        print(f\"Hello World I am {self.name}. I am from {self.add}\")\n",
    "        \n",
    "name=input('enter name  = ')\n",
    "add=input('enter address = ')\n",
    "                \n",
    "obj=Data(name,add)\n",
    "obj.data()\n",
    "print(obj.name)\n",
    "print(obj.add)"
   ]
  },
  {
   "cell_type": "code",
   "execution_count": 7,
   "id": "bbbadd71",
   "metadata": {},
   "outputs": [
    {
     "name": "stdout",
     "output_type": "stream",
     "text": [
      "enter name  = sangit\n",
      "enter address = dang\n",
      "Hello World I am sangit. I am from dang\n",
      "Hello I am from dang\n",
      "sangit\n",
      "dang\n"
     ]
    }
   ],
   "source": [
    "class Info:                                                               #parent class\n",
    "    def __init__(self,add):\n",
    "        self.add=add\n",
    "        \n",
    "    def info(self):\n",
    "        print(f\"Hello I am from {self.add}\")\n",
    "        \n",
    "class Data(Info):                                                         #child class\n",
    "    def __init__(self,name,add):\n",
    "        self.name=name\n",
    "        Info.__init__(self,add)\n",
    "        \n",
    "    def data(self):\n",
    "        print(f\"Hello World I am {self.name}. I am from {self.add}\")\n",
    "        \n",
    "name=input('enter name  = ')\n",
    "add=input('enter address = ')\n",
    "                \n",
    "obj=Data(name,add)\n",
    "obj.data()\n",
    "obj.info()\n",
    "print(obj.name)\n",
    "print(obj.add)"
   ]
  },
  {
   "cell_type": "code",
   "execution_count": 10,
   "id": "5f13b6b5",
   "metadata": {},
   "outputs": [
    {
     "name": "stdout",
     "output_type": "stream",
     "text": [
      "enter name  = sangit\n",
      "enter address = dang\n",
      "enter phone = 876\n",
      "Hello World I am sangit. I am from dang. My contact no. is 876\n",
      "Hello I am from dang. My contact no. is 876\n"
     ]
    }
   ],
   "source": [
    "class Info:                                                               #parent class\n",
    "    def __init__(self,add,phone):\n",
    "        self.add=add\n",
    "        self.phone=phone\n",
    "        \n",
    "    def info(self):\n",
    "        print(f\"Hello I am from {self.add}. My contact no. is {self.phone}\")\n",
    "        \n",
    "class Data(Info):                                                         #child class\n",
    "    def __init__(self,name,add,phone):\n",
    "        self.name=name\n",
    "        Info.__init__(self,add,phone)\n",
    "        \n",
    "    def data(self):\n",
    "        print(f\"Hello World I am {self.name}. I am from {self.add}. My contact no. is {self.phone}\")\n",
    "        \n",
    "name=input('enter name  = ')\n",
    "add=input('enter address = ')\n",
    "phone=int(input('enter phone = ')) \n",
    "\n",
    "obj=Data(name,add,phone)\n",
    "obj.data()\n",
    "obj.info()\n"
   ]
  },
  {
   "cell_type": "code",
   "execution_count": 11,
   "id": "1f7bcf8d",
   "metadata": {},
   "outputs": [
    {
     "name": "stdout",
     "output_type": "stream",
     "text": [
      "enter name  = sangit\n",
      "enter address = dagn\n",
      "enter phone = 543\n",
      "Hello World I am sangit. I am from dagn. My contact no. is 543\n",
      "Hello I am from dagn. My contact no. is 543\n",
      "Hello I am from Kathmandu. My contact no. is 8765456\n"
     ]
    }
   ],
   "source": [
    "class Info:                                                               #parent class\n",
    "    def __init__(self,add,phone):\n",
    "        self.add=add\n",
    "        self.phone=phone\n",
    "        \n",
    "    def info(self):\n",
    "        print(f\"Hello I am from {self.add}. My contact no. is {self.phone}\")\n",
    "        \n",
    "class Data(Info):                                                         #child class\n",
    "    def __init__(self,name,add,phone):\n",
    "        self.name=name\n",
    "        Info.__init__(self,add,phone)\n",
    "        \n",
    "    def data(self):\n",
    "        print(f\"Hello World I am {self.name}. I am from {self.add}. My contact no. is {self.phone}\")\n",
    "        \n",
    "name=input('enter name  = ')\n",
    "add=input('enter address = ')\n",
    "phone=int(input('enter phone = ')) \n",
    "\n",
    "obj=Data(name,add,phone)\n",
    "obj.data()\n",
    "obj.info()\n",
    "obj1 = Info(\"Kathmandu\",8765456)\n",
    "obj1.info()"
   ]
  },
  {
   "cell_type": "code",
   "execution_count": 13,
   "id": "aa7c51ed",
   "metadata": {},
   "outputs": [
    {
     "name": "stdout",
     "output_type": "stream",
     "text": [
      "enter name  = sangit\n",
      "enter address = dang\n",
      "enter phone = 543\n",
      "Hello this is contact detail. SO My contact no. is 543\n",
      "Hello I am from dang. My contact no. is 543\n",
      "Hello World I am sangit. I am from dang. My contact no. is 543\n"
     ]
    }
   ],
   "source": [
    "# multi-level\n",
    "\n",
    "class Contact:\n",
    "    def __init__(self,phone):\n",
    "        self.phone=phone\n",
    "        \n",
    "    def ct(self):\n",
    "        print(f\"Hello this is contact detail. SO My contact no. is {self.phone}\")\n",
    "        \n",
    "class Info(Contact):                                                               \n",
    "    def __init__(self,add,phone):\n",
    "        self.add=add\n",
    "        Contact.__init__(self,phone)\n",
    "        \n",
    "    def info(self):\n",
    "        print(f\"Hello I am from {self.add}. My contact no. is {self.phone}\")\n",
    "        \n",
    "class Data(Info):                                                         \n",
    "    def __init__(self,name,add,phone):\n",
    "        self.name=name\n",
    "        Info.__init__(self,add,phone)\n",
    "        \n",
    "    def data(self):\n",
    "        print(f\"Hello World I am {self.name}. I am from {self.add}. My contact no. is {self.phone}\")\n",
    "        \n",
    "name=input('enter name  = ')\n",
    "add=input('enter address = ')\n",
    "phone=int(input('enter phone = ')) \n",
    "\n",
    "obj=Data(name,add,phone)\n",
    "obj.ct()\n",
    "obj.info()\n",
    "obj.data()\n"
   ]
  },
  {
   "cell_type": "code",
   "execution_count": 14,
   "id": "fc449e29",
   "metadata": {},
   "outputs": [
    {
     "name": "stdout",
     "output_type": "stream",
     "text": [
      "enter name  = sangit\n",
      "enter address = dang\n",
      "enter phone = 233\n",
      "Hello this is contact detail. SO My contact no. is 233\n",
      "Hello I am from dang. My contact no. is 233\n",
      "Hello World I am sangit. I am from dang. My contact no. is 233\n"
     ]
    }
   ],
   "source": [
    "# multiple\n",
    "\n",
    "\n",
    "class Contact:\n",
    "    def __init__(self,phone):\n",
    "        self.phone=phone\n",
    "        \n",
    "    def ct(self):\n",
    "        print(f\"Hello this is contact detail. SO My contact no. is {self.phone}\")\n",
    "        \n",
    "class Info():                                                               \n",
    "    def __init__(self,add):\n",
    "        self.add=add\n",
    "              \n",
    "    def info(self):\n",
    "        print(f\"Hello I am from {self.add}. My contact no. is {self.phone}\")\n",
    "        \n",
    "class Data(Info,Contact):                                                         \n",
    "    def __init__(self,name,add,phone):\n",
    "        self.name=name\n",
    "        Info.__init__(self,add)\n",
    "        Contact.__init__(self,phone)\n",
    "        \n",
    "    def data(self):\n",
    "        print(f\"Hello World I am {self.name}. I am from {self.add}. My contact no. is {self.phone}\")\n",
    "        \n",
    "name=input('enter name  = ')\n",
    "add=input('enter address = ')\n",
    "phone=int(input('enter phone = ')) \n",
    "\n",
    "obj=Data(name,add,phone)\n",
    "obj.ct()\n",
    "obj.info()\n",
    "obj.data()\n"
   ]
  },
  {
   "cell_type": "code",
   "execution_count": null,
   "id": "2ae5e8ba",
   "metadata": {},
   "outputs": [],
   "source": []
  }
 ],
 "metadata": {
  "kernelspec": {
   "display_name": "Python 3 (ipykernel)",
   "language": "python",
   "name": "python3"
  },
  "language_info": {
   "codemirror_mode": {
    "name": "ipython",
    "version": 3
   },
   "file_extension": ".py",
   "mimetype": "text/x-python",
   "name": "python",
   "nbconvert_exporter": "python",
   "pygments_lexer": "ipython3",
   "version": "3.9.7"
  }
 },
 "nbformat": 4,
 "nbformat_minor": 5
}
