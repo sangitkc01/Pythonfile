{
 "cells": [
  {
   "cell_type": "code",
   "execution_count": 1,
   "id": "704bc6e5",
   "metadata": {},
   "outputs": [],
   "source": [
    "# String\n",
    "# sequence of char\n",
    "# imutable datatype====>>> Those data which cannot be changed after its creation.(or it cannot be modified)\n"
   ]
  },
  {
   "cell_type": "code",
   "execution_count": 2,
   "id": "e42a5b2e",
   "metadata": {},
   "outputs": [
    {
     "name": "stdout",
     "output_type": "stream",
     "text": [
      "hello world\n",
      "<class 'str'>\n"
     ]
    }
   ],
   "source": [
    "a= \"hello world\"\n",
    "b= 'hello world'\n",
    "print(a)\n",
    "print(type(a))"
   ]
  },
  {
   "cell_type": "code",
   "execution_count": 3,
   "id": "aba383e6",
   "metadata": {},
   "outputs": [
    {
     "name": "stdout",
     "output_type": "stream",
     "text": [
      "hello world\n"
     ]
    }
   ],
   "source": [
    "a=\"hello \"\n",
    "b=\"world\"\n",
    "c=a+b\n",
    "print(c)"
   ]
  },
  {
   "cell_type": "code",
   "execution_count": 4,
   "id": "4d7bbc08",
   "metadata": {},
   "outputs": [
    {
     "name": "stdout",
     "output_type": "stream",
     "text": [
      "Hello world \n",
      "Hello world \n",
      "\n"
     ]
    }
   ],
   "source": [
    "a=\"Hello world \\n\"\n",
    "print(a*2)"
   ]
  },
  {
   "cell_type": "code",
   "execution_count": 5,
   "id": "68c68704",
   "metadata": {},
   "outputs": [
    {
     "name": "stdout",
     "output_type": "stream",
     "text": [
      "enter a= Hello World\n",
      "enter b= I am from Dang\n",
      "Hello World I am from Dang\n"
     ]
    }
   ],
   "source": [
    "a=input(\"enter a= \")\n",
    "b=input(\"enter b= \")\n",
    "c=a+\" \"+b\n",
    "print(c)"
   ]
  },
  {
   "cell_type": "code",
   "execution_count": 6,
   "id": "94d38ade",
   "metadata": {},
   "outputs": [
    {
     "data": {
      "text/plain": [
       "'1920'"
      ]
     },
     "execution_count": 6,
     "metadata": {},
     "output_type": "execute_result"
    }
   ],
   "source": [
    "a=\"19\"\n",
    "b=\"20\"\n",
    "a+b"
   ]
  },
  {
   "cell_type": "code",
   "execution_count": 7,
   "id": "91c8d084",
   "metadata": {},
   "outputs": [
    {
     "data": {
      "text/plain": [
       "'P'"
      ]
     },
     "execution_count": 7,
     "metadata": {},
     "output_type": "execute_result"
    }
   ],
   "source": [
    "a='Python'\n",
    "a[0]"
   ]
  },
  {
   "cell_type": "code",
   "execution_count": 8,
   "id": "1d37d31a",
   "metadata": {},
   "outputs": [
    {
     "data": {
      "text/plain": [
       "'n'"
      ]
     },
     "execution_count": 8,
     "metadata": {},
     "output_type": "execute_result"
    }
   ],
   "source": [
    "a='python'\n",
    "a[-1]"
   ]
  },
  {
   "cell_type": "code",
   "execution_count": 9,
   "id": "4a530e47",
   "metadata": {},
   "outputs": [
    {
     "name": "stdout",
     "output_type": "stream",
     "text": [
      "Hello Worl\n"
     ]
    }
   ],
   "source": [
    "# String Slicing\n",
    "\n",
    "a='Hello World I am Python'\n",
    "print(a[0:10])"
   ]
  },
  {
   "cell_type": "code",
   "execution_count": 10,
   "id": "0a9731bd",
   "metadata": {},
   "outputs": [
    {
     "name": "stdout",
     "output_type": "stream",
     "text": [
      "HloWrdIa y\n"
     ]
    }
   ],
   "source": [
    "# String Slicing\n",
    "\n",
    "a='Hello World I am Python'\n",
    "print(a[0:20:2])"
   ]
  },
  {
   "cell_type": "code",
   "execution_count": 11,
   "id": "1fd137f3",
   "metadata": {},
   "outputs": [
    {
     "name": "stdout",
     "output_type": "stream",
     "text": [
      "Hello World I am Pyt\n"
     ]
    }
   ],
   "source": [
    "# String Slicing\n",
    "\n",
    "a='Hello World I am Python'\n",
    "print(a[0:20:1])"
   ]
  },
  {
   "cell_type": "code",
   "execution_count": 12,
   "id": "ae4d9fdb",
   "metadata": {},
   "outputs": [
    {
     "name": "stdout",
     "output_type": "stream",
     "text": [
      "nohty\n"
     ]
    }
   ],
   "source": [
    "a=\"python\"\n",
    "print(a[-1:-6:-1])"
   ]
  },
  {
   "cell_type": "code",
   "execution_count": 13,
   "id": "a4de3980",
   "metadata": {},
   "outputs": [
    {
     "name": "stdout",
     "output_type": "stream",
     "text": [
      "nohtyp\n"
     ]
    }
   ],
   "source": [
    "a=\"python\"\n",
    "print(a[-1:-7:-1])"
   ]
  },
  {
   "cell_type": "code",
   "execution_count": 14,
   "id": "3a48c1ca",
   "metadata": {},
   "outputs": [
    {
     "name": "stdout",
     "output_type": "stream",
     "text": [
      "nohtyp\n"
     ]
    }
   ],
   "source": [
    "a=\"python\"\n",
    "print(a[::-1])"
   ]
  },
  {
   "cell_type": "code",
   "execution_count": 15,
   "id": "faa9532b",
   "metadata": {},
   "outputs": [
    {
     "name": "stdout",
     "output_type": "stream",
     "text": [
      "nohtyp\n"
     ]
    }
   ],
   "source": [
    "a='python'\n",
    "print(a[-1::-1])"
   ]
  },
  {
   "cell_type": "code",
   "execution_count": 16,
   "id": "65f6dd7a",
   "metadata": {},
   "outputs": [
    {
     "name": "stdout",
     "output_type": "stream",
     "text": [
      "pytho\n"
     ]
    }
   ],
   "source": [
    "a=\"python\"\n",
    "print(a[:-1])"
   ]
  },
  {
   "cell_type": "code",
   "execution_count": 17,
   "id": "b67c00a1",
   "metadata": {},
   "outputs": [
    {
     "name": "stdout",
     "output_type": "stream",
     "text": [
      "Hello I am Ram I am 40\n"
     ]
    }
   ],
   "source": [
    "\n",
    "a= \"Ram\"\n",
    "b= 40\n",
    "c= \"Hello I am \"+a+\" I am \"+str(b)\n",
    "print(c)\n"
   ]
  },
  {
   "cell_type": "code",
   "execution_count": 18,
   "id": "4a0ad8ee",
   "metadata": {},
   "outputs": [
    {
     "name": "stdout",
     "output_type": "stream",
     "text": [
      "Hello I am Sangit. I am 22\n"
     ]
    }
   ],
   "source": [
    "# String Formating # important\n",
    "\n",
    "a=\"Sangit\"\n",
    "b=22\n",
    "info = f\"Hello I am {a}. I am {b}\"\n",
    "print(info)"
   ]
  },
  {
   "cell_type": "code",
   "execution_count": 19,
   "id": "08abebfd",
   "metadata": {},
   "outputs": [
    {
     "name": "stdout",
     "output_type": "stream",
     "text": [
      "enter name = Sangit\n",
      "enter age = 22\n",
      "enter add = Dang\n",
      "Hello World I am Sangit. I am from Dang. I am 22.\n"
     ]
    }
   ],
   "source": [
    "name= input(\"enter name = \")\n",
    "age= int(input(\"enter age = \"))\n",
    "add= input(\"enter add = \")\n",
    "\n",
    "info = f\"Hello World I am {name}. I am from {add}. I am {age}.\"\n",
    "print(info)"
   ]
  },
  {
   "cell_type": "code",
   "execution_count": 20,
   "id": "92c9d7aa",
   "metadata": {},
   "outputs": [],
   "source": [
    "# WAP to create a billing system using String.\n",
    "# WAP to create a phone no. entry system."
   ]
  },
  {
   "cell_type": "code",
   "execution_count": 21,
   "id": "bf9fc4bb",
   "metadata": {},
   "outputs": [
    {
     "name": "stdout",
     "output_type": "stream",
     "text": [
      "python\n",
      "PYTHON\n"
     ]
    }
   ],
   "source": [
    "a=\"Python\"\n",
    "print(a.lower())\n",
    "print(a.upper())"
   ]
  },
  {
   "cell_type": "code",
   "execution_count": 22,
   "id": "6b7b5f70",
   "metadata": {},
   "outputs": [
    {
     "name": "stdout",
     "output_type": "stream",
     "text": [
      "python\n"
     ]
    }
   ],
   "source": [
    "print(a.lower())"
   ]
  },
  {
   "cell_type": "code",
   "execution_count": 23,
   "id": "8706f8b5",
   "metadata": {},
   "outputs": [
    {
     "name": "stdout",
     "output_type": "stream",
     "text": [
      "PYTHON\n"
     ]
    }
   ],
   "source": [
    "print(a.upper())"
   ]
  },
  {
   "cell_type": "code",
   "execution_count": 24,
   "id": "dc3ab805",
   "metadata": {},
   "outputs": [
    {
     "data": {
      "text/plain": [
       "'python'"
      ]
     },
     "execution_count": 24,
     "metadata": {},
     "output_type": "execute_result"
    }
   ],
   "source": [
    "a=\"Python\"    # immutable type\n",
    "a=a.lower()\n",
    "a"
   ]
  },
  {
   "cell_type": "code",
   "execution_count": 2,
   "id": "acb5b1e5",
   "metadata": {},
   "outputs": [
    {
     "name": "stdout",
     "output_type": "stream",
     "text": [
      "enter name = Ram\n",
      "Yes\n",
      "2\n"
     ]
    }
   ],
   "source": [
    "a=\"Ram Shyam Hari Sita Gita Sita Ram\"\n",
    "name=input(\"enter name = \")\n",
    "if name in a:\n",
    "    print(\"Yes\")\n",
    "    print(a.count(name))\n",
    "else:\n",
    "    print(\"No\")\n",
    "    "
   ]
  },
  {
   "cell_type": "code",
   "execution_count": 26,
   "id": "4f999c22",
   "metadata": {},
   "outputs": [
    {
     "name": "stdout",
     "output_type": "stream",
     "text": [
      "enter name = ram\n",
      "No\n"
     ]
    }
   ],
   "source": [
    "a=\"Ram Shyam Hari Sita Gita Sita Ram\"\n",
    "name=input(\"enter name = \")\n",
    "if name in a:\n",
    "    print(\"Yes\")\n",
    "    print(a.count(name))\n",
    "else:\n",
    "    print(\"No\")\n",
    "    "
   ]
  },
  {
   "cell_type": "code",
   "execution_count": 27,
   "id": "f411144f",
   "metadata": {},
   "outputs": [
    {
     "name": "stdout",
     "output_type": "stream",
     "text": [
      "enter name = ram\n"
     ]
    }
   ],
   "source": [
    "a=\"Ram Shyam Hari Sita Gita Sita Ram\"\n",
    "name=input(\"enter name = \")\n",
    "if name in a:\n",
    "    print(\"Yes\")\n",
    "    print(a.count(name))\n"
   ]
  },
  {
   "cell_type": "code",
   "execution_count": 4,
   "id": "7156dda9",
   "metadata": {},
   "outputs": [
    {
     "name": "stdout",
     "output_type": "stream",
     "text": [
      "enter name = ram\n",
      "Yes\n",
      "2\n"
     ]
    }
   ],
   "source": [
    "a=\"Ram Shyam Hari Sita Gita Sita Ram\".lower()\n",
    "name=input(\"enter name = \").lower()\n",
    "if name in a:\n",
    "    print(\"Yes\")\n",
    "    print(a.count(name))\n"
   ]
  },
  {
   "cell_type": "code",
   "execution_count": 29,
   "id": "b3a60011",
   "metadata": {},
   "outputs": [
    {
     "name": "stdout",
     "output_type": "stream",
     "text": [
      "enter name = Ram\n",
      "Yes\n",
      "2\n"
     ]
    }
   ],
   "source": [
    "a=\"Ram Shyam Hari Sita Gita Sita Ram\".upper()\n",
    "name=input(\"enter name = \").upper()\n",
    "if name in a:\n",
    "    print(\"Yes\")\n",
    "    print(a.count(name))\n"
   ]
  },
  {
   "cell_type": "code",
   "execution_count": 30,
   "id": "74918965",
   "metadata": {},
   "outputs": [
    {
     "name": "stdout",
     "output_type": "stream",
     "text": [
      "Rama Shyam Hari Sita Gita Sita Rama\n"
     ]
    }
   ],
   "source": [
    "a=\"Ram Shyam Hari Sita Gita Sita Ram\"\n",
    "a=a.replace('Ram','Rama')\n",
    "print(a)"
   ]
  },
  {
   "cell_type": "code",
   "execution_count": 31,
   "id": "3ba3f940",
   "metadata": {},
   "outputs": [
    {
     "name": "stdout",
     "output_type": "stream",
     "text": [
      "Rama Shyam Hari Sita Gita Sita Ram\n"
     ]
    }
   ],
   "source": [
    "# This is not effective\n",
    "\n",
    "a=\"Ram Shyam Hari Sita Gita Sita Ram\"\n",
    "b=\"Rama\"\n",
    "c=b+a[3:]\n",
    "print(c)"
   ]
  },
  {
   "cell_type": "code",
   "execution_count": 6,
   "id": "50bd75f4",
   "metadata": {},
   "outputs": [
    {
     "name": "stdout",
     "output_type": "stream",
     "text": [
      "enter number = 2\n",
      "enter name = sangit\n",
      "enter address = dang\n",
      "enter phone number = 987656\n",
      "enter Amount = 70000\n",
      "enter name = pramit\n",
      "enter address = kathmandu\n",
      "enter phone number = 876545678\n",
      "enter Amount = 90000\n",
      "sangit -- dang -- 987656 -- 70000\n",
      "pramit -- kathmandu -- 876545678 -- 90000\n",
      "\n"
     ]
    }
   ],
   "source": [
    "# WAP to create a billing system using String.\n",
    "\n",
    "Bill=\"\"\n",
    "n=int(input(\"enter number = \"))\n",
    "for i in range(n):\n",
    "    name = input(\"enter name = \")\n",
    "    address = input(\"enter address = \")\n",
    "    phone = int(input(\"enter phone number = \"))\n",
    "    Amount = int(input(\"enter Amount = \"))\n",
    "\n",
    "    Bill = Bill + f\"{name} -- {address} -- {phone} -- {Amount}\"+\"\\n\"\n",
    "    \n",
    "print(Bill)\n"
   ]
  },
  {
   "cell_type": "code",
   "execution_count": 4,
   "id": "ac1b2ce8",
   "metadata": {},
   "outputs": [
    {
     "name": "stdout",
     "output_type": "stream",
     "text": [
      "enter num = 2\n",
      "enter number = 98765678\n",
      "enter number = 87655\n",
      "98765678\n",
      "87655\n",
      "\n"
     ]
    }
   ],
   "source": [
    "# WAP to create a phone no. entry system.\n",
    "s = \"\"\n",
    "a = 0\n",
    "num= int(input('enter num = '))\n",
    "while a < num:\n",
    "    phoneno = input(\"enter number = \")\n",
    "    s = s + phoneno + \"\\n\"\n",
    "    a = a + 1\n",
    "print(s)"
   ]
  },
  {
   "cell_type": "code",
   "execution_count": 14,
   "id": "8a42535a",
   "metadata": {},
   "outputs": [
    {
     "name": "stdout",
     "output_type": "stream",
     "text": [
      "enter a number = 2\n",
      "enter name = bag\n",
      "enter quantity = 2\n",
      "enter price = 300\n",
      "enter name = Shoes\n",
      "enter quantity = 1\n",
      "enter price = 3000\n",
      "bag----2----300----600\n",
      "Shoes----1----3000----3000\n",
      "\n",
      "Toal NetValue is = 3600\n"
     ]
    }
   ],
   "source": [
    "# WAP to create a billing system using String.\n",
    "\n",
    "Bill=\"\"\n",
    "NetValue=0\n",
    "n=int(input(\"enter a number = \"))\n",
    "for i in range(n):\n",
    "    name=input(\"enter name = \")\n",
    "    quantity=int(input(\"enter quantity = \"))\n",
    "    price= int(input(\"enter price = \"))\n",
    "    Totalprice= quantity*price\n",
    "    Bill=Bill + f\"{name}----{quantity}----{price}----{Totalprice}\"+\"\\n\"\n",
    "    NetValue=NetValue+Totalprice\n",
    "    \n",
    "print(Bill)\n",
    "\n",
    "print(f\"Toal NetValue is = {NetValue}\" )\n",
    "\n"
   ]
  },
  {
   "cell_type": "code",
   "execution_count": 5,
   "id": "3b31760b",
   "metadata": {},
   "outputs": [
    {
     "name": "stdout",
     "output_type": "stream",
     "text": [
      "enter a number = 2\n",
      "enter name of student = Ram\n",
      "enter a phone number = 987456789\n",
      "enter name of student = Shyam\n",
      "enter a phone number = 85489234\n",
      "Ram  987456789\n",
      "Shyam  85489234\n",
      "\n"
     ]
    }
   ],
   "source": [
    "# WAP to create a phone no. entry system.\n",
    "\n",
    "num=\"\"\n",
    "n=int(input(\"enter a number = \"))\n",
    "for i in range(n):\n",
    "    name= input(\"enter name of student = \")\n",
    "    phone= int(input(\"enter a phone number = \"))\n",
    "    num= num + f\"{name}  {phone}\" + \"\\n\"\n",
    "print(num)\n",
    "    "
   ]
  },
  {
   "cell_type": "code",
   "execution_count": 2,
   "id": "d4d75bb0",
   "metadata": {},
   "outputs": [
    {
     "name": "stdout",
     "output_type": "stream",
     "text": [
      "Rama Shyam Hari Sita Gita Sita Rama\n"
     ]
    }
   ],
   "source": [
    "a=\"Ram Shyam Hari Sita Gita Sita Ram\"\n",
    "a=a.replace(\"Ram\",\"Rama\")\n",
    "print(a)"
   ]
  },
  {
   "cell_type": "code",
   "execution_count": 4,
   "id": "2befab98",
   "metadata": {},
   "outputs": [
    {
     "name": "stdout",
     "output_type": "stream",
     "text": [
      "😪\n",
      "😷\n",
      "😀\n",
      "😘\n",
      "🤗\n"
     ]
    }
   ],
   "source": [
    "print(\"\\U0001F62A\")\n",
    "print(\"\\U0001F637\")\n",
    "print(\"\\U0001F600\")\n",
    "print(\"\\U0001F618\")\n",
    "print(\"\\U0001F917\")"
   ]
  },
  {
   "cell_type": "code",
   "execution_count": null,
   "id": "ea9d676d",
   "metadata": {},
   "outputs": [],
   "source": []
  }
 ],
 "metadata": {
  "kernelspec": {
   "display_name": "Python 3 (ipykernel)",
   "language": "python",
   "name": "python3"
  },
  "language_info": {
   "codemirror_mode": {
    "name": "ipython",
    "version": 3
   },
   "file_extension": ".py",
   "mimetype": "text/x-python",
   "name": "python",
   "nbconvert_exporter": "python",
   "pygments_lexer": "ipython3",
   "version": "3.9.7"
  }
 },
 "nbformat": 4,
 "nbformat_minor": 5
}
