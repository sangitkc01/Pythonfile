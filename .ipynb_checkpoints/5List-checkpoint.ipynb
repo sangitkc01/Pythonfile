{
 "cells": [
  {
   "cell_type": "code",
   "execution_count": 1,
   "id": "d27b4fed",
   "metadata": {},
   "outputs": [],
   "source": [
    "# Basic Python Collection\n",
    "# List\n",
    "# Tuple\n",
    "# Dictionary\n",
    "# set"
   ]
  },
  {
   "cell_type": "code",
   "execution_count": 3,
   "id": "056815cd",
   "metadata": {},
   "outputs": [
    {
     "name": "stdout",
     "output_type": "stream",
     "text": [
      "['Apple', 'Ball', 'Cat', 'Dog']\n",
      "[1, 2, 3, 4, 5, 6, 32, 75, 38, 100, 34, 22]\n",
      "<class 'list'>\n",
      "<class 'list'>\n"
     ]
    }
   ],
   "source": [
    "# List\n",
    "# - Indexed\n",
    "# - Multiple and duplicate data\n",
    "# - Ordered\n",
    "#  -Mutable Datatypes======>>>>>> Those datatypes whose state can be changed even after runtime.(eg;- list,set,dict)\n",
    "\n",
    "\n",
    "ListA = [\"Apple\", \"Ball\", \"Cat\", \"Dog\"]\n",
    "ListB = [1,2,3,4,5,6,32,75,38,100,34,22]\n",
    "print(ListA)\n",
    "print(ListB)\n",
    "print(type(ListA))\n",
    "print(type(ListB))\n"
   ]
  },
  {
   "cell_type": "code",
   "execution_count": 4,
   "id": "ee343df2",
   "metadata": {},
   "outputs": [
    {
     "name": "stdout",
     "output_type": "stream",
     "text": [
      "Apple\n"
     ]
    }
   ],
   "source": [
    "print(ListA[0])"
   ]
  },
  {
   "cell_type": "code",
   "execution_count": 7,
   "id": "ea6854ec",
   "metadata": {},
   "outputs": [
    {
     "name": "stdout",
     "output_type": "stream",
     "text": [
      "['Apple', 'Ball', 'Cat', 'Dog']\n"
     ]
    }
   ],
   "source": [
    "print(ListA[0:4])"
   ]
  },
  {
   "cell_type": "code",
   "execution_count": 8,
   "id": "43bdb139",
   "metadata": {},
   "outputs": [
    {
     "name": "stdout",
     "output_type": "stream",
     "text": [
      "['Apple', 'Cat']\n"
     ]
    }
   ],
   "source": [
    "print(ListA[0:4:2])"
   ]
  },
  {
   "cell_type": "code",
   "execution_count": 9,
   "id": "2db9d8bc",
   "metadata": {},
   "outputs": [
    {
     "data": {
      "text/plain": [
       "['Apple', 'Ball', 'Cat', 'Dog', 'Apple']"
      ]
     },
     "execution_count": 9,
     "metadata": {},
     "output_type": "execute_result"
    }
   ],
   "source": [
    "ListA = [\"Apple\", \"Ball\", \"Cat\", \"Dog\",\"Apple\"]  # Also contain duplicate value like apple in ListA\n",
    "ListA"
   ]
  },
  {
   "cell_type": "code",
   "execution_count": 11,
   "id": "87ad097a",
   "metadata": {},
   "outputs": [
    {
     "name": "stdout",
     "output_type": "stream",
     "text": [
      "['Apple', 'Ball', 'Cat', 'Dog', 'Apple', 'rabbit', 'dog', 'ball']\n"
     ]
    }
   ],
   "source": [
    "a= [\"Apple\", \"Ball\", \"Cat\", \"Dog\",\"Apple\"]        # Concatenation between two list\n",
    "b= [\"rabbit\",\"dog\",\"ball\"]\n",
    "c= a+b\n",
    "print(c)"
   ]
  },
  {
   "cell_type": "code",
   "execution_count": 12,
   "id": "cf3cc9e6",
   "metadata": {},
   "outputs": [
    {
     "data": {
      "text/plain": [
       "['Apple', 'Ball', 'Cat', 'Dog', 'rabbit']"
      ]
     },
     "execution_count": 12,
     "metadata": {},
     "output_type": "execute_result"
    }
   ],
   "source": [
    "ListA = [\"Apple\", \"Ball\", \"Cat\", \"Dog\"]\n",
    "\n",
    "ListA.append(\"rabbit\")\n",
    "ListA"
   ]
  },
  {
   "cell_type": "code",
   "execution_count": 13,
   "id": "3cf1b270",
   "metadata": {},
   "outputs": [
    {
     "name": "stdout",
     "output_type": "stream",
     "text": [
      "Apple\n",
      "Ball\n",
      "Cat\n",
      "Dog\n",
      "Apple\n"
     ]
    }
   ],
   "source": [
    "a = [\"Apple\", \"Ball\", \"Cat\", \"Dog\",\"Apple\"] \n",
    "for i in a:\n",
    "    print(i)"
   ]
  },
  {
   "cell_type": "code",
   "execution_count": 14,
   "id": "599494e1",
   "metadata": {},
   "outputs": [
    {
     "name": "stdout",
     "output_type": "stream",
     "text": [
      "['apple']\n"
     ]
    }
   ],
   "source": [
    "# Functions in List\n",
    "\n",
    "# append() insert() extend()    ----->> Adding value in the list at the end part\n",
    "\n",
    "a=[]\n",
    "a.append(\"apple\")\n",
    "print(a)\n"
   ]
  },
  {
   "cell_type": "code",
   "execution_count": 21,
   "id": "a7936254",
   "metadata": {},
   "outputs": [
    {
     "name": "stdout",
     "output_type": "stream",
     "text": [
      "enter n = 4\n",
      "enter x = 76\n",
      "enter x = 34\n",
      "enter x = 23\n",
      "enter x = 12\n",
      "[76, 34, 23, 12]\n"
     ]
    }
   ],
   "source": [
    "data = []\n",
    "n=int(input(\"enter n = \"))\n",
    "for i in range(n):\n",
    "    x= int(input(\"enter x = \"))\n",
    "    data.append(x)\n",
    "print(data)"
   ]
  },
  {
   "cell_type": "code",
   "execution_count": 24,
   "id": "f5c611cf",
   "metadata": {},
   "outputs": [
    {
     "name": "stdout",
     "output_type": "stream",
     "text": [
      "the sum of the value =  145\n",
      "the maximum value of the list =  76\n",
      "the minimum value of the list =  12\n",
      "the average value of the list =  36.25\n"
     ]
    }
   ],
   "source": [
    "print(\"the sum of the value = \", sum(data))\n",
    "print(\"the maximum value of the list = \",max(data))\n",
    "print(\"the minimum value of the list = \",min(data))\n",
    "print(\"the average value of the list = \",sum(data)/n)"
   ]
  },
  {
   "cell_type": "code",
   "execution_count": 26,
   "id": "9378dbc2",
   "metadata": {},
   "outputs": [
    {
     "name": "stdout",
     "output_type": "stream",
     "text": [
      "[12, 23, 34, 76]\n"
     ]
    }
   ],
   "source": [
    "data.sort()      # Ascending Order\n",
    "print(data)"
   ]
  },
  {
   "cell_type": "code",
   "execution_count": 27,
   "id": "573e4df6",
   "metadata": {},
   "outputs": [
    {
     "name": "stdout",
     "output_type": "stream",
     "text": [
      "[76, 34, 23, 12]\n"
     ]
    }
   ],
   "source": [
    "data.reverse()      # Descending Order\n",
    "print(data)"
   ]
  },
  {
   "cell_type": "code",
   "execution_count": 28,
   "id": "a8ab41e2",
   "metadata": {},
   "outputs": [
    {
     "name": "stdout",
     "output_type": "stream",
     "text": [
      "['Banana', 'Dog', 'Fish', 'Zebra', 'apple', 'xray']\n"
     ]
    }
   ],
   "source": [
    "a = [\"Zebra\",\"Banana\",\"apple\",\"xray\",\"Fish\",\"Dog\"]      # first priority for Capital Letter then small letter\n",
    "a.sort()                                                \n",
    "print(a)"
   ]
  },
  {
   "cell_type": "code",
   "execution_count": 29,
   "id": "a04b5e30",
   "metadata": {},
   "outputs": [
    {
     "name": "stdout",
     "output_type": "stream",
     "text": [
      "['1apple', 'Banana', 'Dog', 'Fish', 'Zebra', 'xray']\n"
     ]
    }
   ],
   "source": [
    "a = [\"Zebra\",\"Banana\",\"1apple\",\"xray\",\"Fish\",\"Dog\"]         # if there is number then number is our first priority\n",
    "a.sort()\n",
    "print(a)"
   ]
  },
  {
   "cell_type": "code",
   "execution_count": 30,
   "id": "72f88ad0",
   "metadata": {},
   "outputs": [
    {
     "name": "stdout",
     "output_type": "stream",
     "text": [
      "['Zebra', 'bus', 'Banana', 'apple', 'xray', 'Fish', 'Dog']\n"
     ]
    }
   ],
   "source": [
    "a = [\"Zebra\",\"Banana\",\"apple\",\"xray\",\"Fish\",\"Dog\"]          # ------->>>  Adding value where you want in the list\n",
    "a.insert(1,\"bus\")\n",
    "print(a)"
   ]
  },
  {
   "cell_type": "code",
   "execution_count": 31,
   "id": "7a26cef3",
   "metadata": {},
   "outputs": [
    {
     "name": "stdout",
     "output_type": "stream",
     "text": [
      "['Zebra', 'bus', 'Banana', 'apple', 'Sangit', 'xray', 'Fish', 'Dog']\n"
     ]
    }
   ],
   "source": [
    "a.insert(4,\"Sangit\")\n",
    "print(a)"
   ]
  },
  {
   "cell_type": "code",
   "execution_count": 33,
   "id": "97718c91",
   "metadata": {},
   "outputs": [
    {
     "name": "stdout",
     "output_type": "stream",
     "text": [
      "[1, 2, 3, 4, 5, 'Apple', 'Ball', 'Cat', 'Dog']\n"
     ]
    }
   ],
   "source": [
    "a= [1,2,3,4,5]\n",
    "b= [\"Apple\",\"Ball\",\"Cat\",\"Dog\"]                             # -------->>> Adding value of one list to another list\n",
    "a.extend(b)\n",
    "print(a)"
   ]
  },
  {
   "cell_type": "code",
   "execution_count": 35,
   "id": "df2fe289",
   "metadata": {},
   "outputs": [
    {
     "name": "stdout",
     "output_type": "stream",
     "text": [
      "['xero', 'Banana', 'apple', 'xray', 'Fish', 'Dog']\n"
     ]
    }
   ],
   "source": [
    "a = [\"Zebra\",\"Banana\",\"apple\",\"xray\",\"Fish\",\"Dog\"]          # value update in the list\n",
    "a[0] = \"xero\"\n",
    "print(a)"
   ]
  },
  {
   "cell_type": "code",
   "execution_count": 37,
   "id": "e3f45576",
   "metadata": {},
   "outputs": [
    {
     "name": "stdout",
     "output_type": "stream",
     "text": [
      "['Banned', 'Hello', 'Laptop', 'xray', 'Fish', 'Dog']\n"
     ]
    }
   ],
   "source": [
    "a = [\"Zebra\",\"Banana\",\"apple\",\"xray\",\"Fish\",\"Dog\"]\n",
    "a[0:3] = [\"Banned\",\"Hello\",\"Laptop\"]\n",
    "print(a)"
   ]
  },
  {
   "cell_type": "code",
   "execution_count": 1,
   "id": "d56f8ce8",
   "metadata": {},
   "outputs": [
    {
     "name": "stdout",
     "output_type": "stream",
     "text": [
      "['Banana', 'apple', 'xray', 'Fish', 'Dog', 'Zebra']\n"
     ]
    }
   ],
   "source": [
    "#del remove() pop()\n",
    "\n",
    "a = [\"Zebra\",\"Banana\",\"apple\",\"xray\",\"Fish\",\"Dog\",\"Zebra\"]         # value remove in the list   \n",
    "a.remove(\"Zebra\")\n",
    "print(a)"
   ]
  },
  {
   "cell_type": "code",
   "execution_count": 6,
   "id": "d1fea1b9",
   "metadata": {},
   "outputs": [
    {
     "name": "stdout",
     "output_type": "stream",
     "text": [
      "['Banana', 'apple', 'xray', 'Fish', 'Dog']\n"
     ]
    }
   ],
   "source": [
    "a = [\"Zebra\",\"Banana\",\"apple\",\"xray\",\"Fish\",\"Dog\"]        # value delete in the list\n",
    "del a[0]                                                  \n",
    "print(a)"
   ]
  },
  {
   "cell_type": "code",
   "execution_count": 7,
   "id": "abbf0101",
   "metadata": {},
   "outputs": [
    {
     "name": "stdout",
     "output_type": "stream",
     "text": [
      "['xray', 'Fish', 'Dog']\n"
     ]
    }
   ],
   "source": [
    "a = [\"Zebra\",\"Banana\",\"apple\",\"xray\",\"Fish\",\"Dog\"] \n",
    "del a[0:3]\n",
    "print(a)"
   ]
  },
  {
   "cell_type": "code",
   "execution_count": 2,
   "id": "309320ad",
   "metadata": {},
   "outputs": [
    {
     "data": {
      "text/plain": [
       "2"
      ]
     },
     "execution_count": 2,
     "metadata": {},
     "output_type": "execute_result"
    }
   ],
   "source": [
    "a = [\"Zebra\",\"Banana\",\"apple\",\"xray\",\"Fish\",\"Dog\"]          # list ma index patta lagauna lai\n",
    "a.index(\"apple\")\n"
   ]
  },
  {
   "cell_type": "code",
   "execution_count": 9,
   "id": "4ddbdfbb",
   "metadata": {},
   "outputs": [
    {
     "name": "stdout",
     "output_type": "stream",
     "text": [
      "['Zebra', 'Banana', 'xray', 'Fish', 'Dog', 'apple']\n"
     ]
    }
   ],
   "source": [
    "a = [\"Zebra\",\"Banana\",\"apple\",\"xray\",\"Fish\",\"Dog\",\"apple\"]     # if there is duplicated value in the list then only first value is removed\n",
    "a.remove(\"apple\")\n",
    "print(a)"
   ]
  },
  {
   "cell_type": "code",
   "execution_count": 10,
   "id": "1f4b2b32",
   "metadata": {},
   "outputs": [
    {
     "data": {
      "text/plain": [
       "['Zebra', 'Banana', 'apple', 'xray', 'Fish']"
      ]
     },
     "execution_count": 10,
     "metadata": {},
     "output_type": "execute_result"
    }
   ],
   "source": [
    "a = [\"Zebra\",\"Banana\",\"apple\",\"xray\",\"Fish\",\"Dog\"]     # pop() --> remove last value in the list\n",
    "a.pop()\n",
    "a"
   ]
  },
  {
   "cell_type": "code",
   "execution_count": 11,
   "id": "658a85c6",
   "metadata": {},
   "outputs": [
    {
     "name": "stdout",
     "output_type": "stream",
     "text": [
      "['Banana', 'apple', 'xray', 'Fish', 'Dog']\n",
      "Zebra\n"
     ]
    }
   ],
   "source": [
    "a = [\"Zebra\",\"Banana\",\"apple\",\"xray\",\"Fish\",\"Dog\"] \n",
    "b= a.pop(0)\n",
    "print(a)\n",
    "print(b)"
   ]
  },
  {
   "cell_type": "code",
   "execution_count": 12,
   "id": "f4a1e1fe",
   "metadata": {},
   "outputs": [
    {
     "name": "stdout",
     "output_type": "stream",
     "text": [
      "['Banana', 'apple', 'xray', 'Fish', 'Dog']\n"
     ]
    }
   ],
   "source": [
    "a = [\"Zebra\",\"Banana\",\"apple\",\"xray\",\"Fish\",\"Dog\"] \n",
    "a.pop(0)\n",
    "print(a)"
   ]
  },
  {
   "cell_type": "code",
   "execution_count": 13,
   "id": "b6ef9588",
   "metadata": {},
   "outputs": [
    {
     "name": "stdout",
     "output_type": "stream",
     "text": [
      "['Zebra', 'Banana', 'xray', 'Fish', 'Dog']\n"
     ]
    }
   ],
   "source": [
    "b=[]\n",
    "a = [\"Zebra\",\"Banana\",\"apple\",\"xray\",\"Fish\",\"Dog\",\"apple\"]\n",
    "for i in a:\n",
    "    if i!=\"apple\":\n",
    "        b.append(i)\n",
    "print(b)"
   ]
  },
  {
   "cell_type": "code",
   "execution_count": 19,
   "id": "6f44e832",
   "metadata": {},
   "outputs": [
    {
     "name": "stdout",
     "output_type": "stream",
     "text": [
      "2\n",
      "6\n"
     ]
    }
   ],
   "source": [
    "a = [\"Zebra\",\"Banana\",\"apple\",\"xray\",\"Fish\",\"Dog\",\"apple\"]\n",
    "for i in range(len(a)):\n",
    "    if a[i] == \"apple\":\n",
    "        print(i)\n",
    "        \n"
   ]
  },
  {
   "cell_type": "code",
   "execution_count": 16,
   "id": "0e566253",
   "metadata": {},
   "outputs": [
    {
     "name": "stdout",
     "output_type": "stream",
     "text": [
      "yes 2\n"
     ]
    }
   ],
   "source": [
    "\n",
    "a = [\"Zebra\",\"Banana\",\"apple\",\"xray\",\"Fish\",\"Dog\",\"apple\"]\n",
    "if \"apple\" in a:\n",
    "    print(\"yes\",a.count(\"apple\"))\n",
    "else:\n",
    "    print(\"no\")\n"
   ]
  },
  {
   "cell_type": "code",
   "execution_count": 1,
   "id": "5ea463cf",
   "metadata": {},
   "outputs": [
    {
     "name": "stdout",
     "output_type": "stream",
     "text": [
      "no\n"
     ]
    }
   ],
   "source": [
    "a = [\"Zebra\",\"Banana\",\"apple\",\"xray\",\"Fish\",\"Dog\",\"apple\"]\n",
    "if \"app\" in a:\n",
    "    print(\"yes\",a.count(\"apple\"))\n",
    "else:\n",
    "    print(\"no\")\n"
   ]
  },
  {
   "cell_type": "code",
   "execution_count": 25,
   "id": "1267db5e",
   "metadata": {},
   "outputs": [
    {
     "name": "stdout",
     "output_type": "stream",
     "text": [
      "[[1, 2, 3], [4, 5, 6], [7, 8, 9]]\n",
      "<class 'list'>\n",
      "3\n",
      "[1, 2, 3]\n"
     ]
    }
   ],
   "source": [
    "#  list inside list  # real world problem solved hunxa\n",
    "\n",
    "a=[[1,2,3],[4,5,6],[7,8,9]]\n",
    "print(a)\n",
    "print(type(a))\n",
    "print(len(a))\n",
    "\n",
    "print(a[0])"
   ]
  },
  {
   "cell_type": "code",
   "execution_count": 27,
   "id": "d1ec6626",
   "metadata": {},
   "outputs": [
    {
     "name": "stdout",
     "output_type": "stream",
     "text": [
      "1\n",
      "5\n"
     ]
    }
   ],
   "source": [
    "a=[[1,2,3],\n",
    "   [4,5,6],\n",
    "   [7,8,9]]\n",
    "\n",
    "print(a[0][0])\n",
    "print(a[1][1])"
   ]
  },
  {
   "cell_type": "code",
   "execution_count": 28,
   "id": "f5db765d",
   "metadata": {},
   "outputs": [
    {
     "name": "stdout",
     "output_type": "stream",
     "text": [
      "Z\n"
     ]
    }
   ],
   "source": [
    "a = [\"Zebra\",\"Banana\",\"apple\",\"xray\",\"Fish\",\"Dog\",\"apple\"]\n",
    "print(a[0][0])"
   ]
  },
  {
   "cell_type": "code",
   "execution_count": 2,
   "id": "7c753361",
   "metadata": {},
   "outputs": [
    {
     "name": "stdout",
     "output_type": "stream",
     "text": [
      "enter a number = 2\n",
      "enter name = Sangit\n",
      "enter age = 22\n",
      "enter address = Dang\n",
      "enter name = Pramit\n",
      "enter age = 27\n",
      "enter address = Kathmandu\n",
      "[['Sangit', 22, 'Dang'], ['Pramit', 27, 'Kathmandu']]\n"
     ]
    }
   ],
   "source": [
    "# WAP to create a list inside list\n",
    "\n",
    "data = []\n",
    "n= int(input(\"enter a number = \"))\n",
    "for i in range(n):\n",
    "    name=input(\"enter name = \")\n",
    "    age= int(input(\"enter age = \"))\n",
    "    address= input(\"enter address = \")\n",
    "    info = [name,age,address]\n",
    "    data.append(info)\n",
    "print(data)\n",
    "\n"
   ]
  },
  {
   "cell_type": "code",
   "execution_count": 3,
   "id": "0e44760d",
   "metadata": {},
   "outputs": [
    {
     "name": "stdout",
     "output_type": "stream",
     "text": [
      "[['Sangit', 22, 'Dang'], ['Pramit', 27, 'Kathmandu'], ['Hari', 25, 'Lalitpur']]\n"
     ]
    }
   ],
   "source": [
    "data.append(['Hari',25,'Lalitpur'])\n",
    "print(data)"
   ]
  },
  {
   "cell_type": "code",
   "execution_count": 4,
   "id": "6da7facc",
   "metadata": {},
   "outputs": [
    {
     "name": "stdout",
     "output_type": "stream",
     "text": [
      "['Sangit', 22, 'Dang']\n",
      "['Pramit', 27, 'Kathmandu']\n",
      "['Hari', 25, 'Lalitpur']\n"
     ]
    }
   ],
   "source": [
    "for i in data:\n",
    "    print(i)"
   ]
  },
  {
   "cell_type": "code",
   "execution_count": 5,
   "id": "5090ce27",
   "metadata": {},
   "outputs": [
    {
     "data": {
      "text/plain": [
       "['Pramit', 27, 'Kathmandu']"
      ]
     },
     "execution_count": 5,
     "metadata": {},
     "output_type": "execute_result"
    }
   ],
   "source": [
    "data[1]"
   ]
  },
  {
   "cell_type": "code",
   "execution_count": 6,
   "id": "145ccaea",
   "metadata": {},
   "outputs": [
    {
     "name": "stdout",
     "output_type": "stream",
     "text": [
      "['Sangit', 22, 'Dang']\n",
      "['Pramit', 27, 'Kathmandu']\n",
      "['Hari', 25, 'Lalitpur']\n"
     ]
    }
   ],
   "source": [
    "for i in data:\n",
    "    print(i)"
   ]
  },
  {
   "cell_type": "code",
   "execution_count": 8,
   "id": "2f2ba75f",
   "metadata": {},
   "outputs": [
    {
     "name": "stdout",
     "output_type": "stream",
     "text": [
      "enter name = Sangit\n",
      "['Sangit', 22, 'Dang']\n"
     ]
    }
   ],
   "source": [
    "name= input(\"enter name = \")             # Searching\n",
    "for i in data:\n",
    "    if name in i:\n",
    "        print(i)\n",
    "        "
   ]
  },
  {
   "cell_type": "code",
   "execution_count": 9,
   "id": "f5a08e6a",
   "metadata": {},
   "outputs": [
    {
     "name": "stdout",
     "output_type": "stream",
     "text": [
      "enter name = sangit\n",
      "['Sangit', 22, 'Dang']\n"
     ]
    }
   ],
   "source": [
    "name= input(\"enter name = \").lower()\n",
    "for i in data:\n",
    "    if name in i[0].lower():\n",
    "        print(i)\n",
    "        "
   ]
  },
  {
   "cell_type": "code",
   "execution_count": 43,
   "id": "26c580d4",
   "metadata": {},
   "outputs": [
    {
     "name": "stdout",
     "output_type": "stream",
     "text": [
      "[['San', 16, 'ktm'], ['Pramit', '26', 'Kathmandu']]\n"
     ]
    }
   ],
   "source": [
    "a = [['Sangit', '22', 'dang'],['Pramit', '26', 'Kathmandu']]             # updating\n",
    "a[0]=[\"San\",16,\"ktm\"]\n",
    "print(a)"
   ]
  },
  {
   "cell_type": "code",
   "execution_count": 44,
   "id": "c2474dc5",
   "metadata": {},
   "outputs": [
    {
     "name": "stdout",
     "output_type": "stream",
     "text": [
      "[['San', '22', 'dang'], ['Pramit', '26', 'Kathmandu']]\n"
     ]
    }
   ],
   "source": [
    "a = [['Sangit', '22', 'dang'],['Pramit', '26', 'Kathmandu']]\n",
    "a[0][0]=\"San\"\n",
    "print(a)"
   ]
  },
  {
   "cell_type": "code",
   "execution_count": 45,
   "id": "6697e7e1",
   "metadata": {},
   "outputs": [
    {
     "name": "stdout",
     "output_type": "stream",
     "text": [
      "[['22', 'dang'], ['Pramit', '26', 'Kathmandu']]\n"
     ]
    }
   ],
   "source": [
    "a = [['Sangit', '22', 'dang'],['Pramit', '26', 'Kathmandu']]\n",
    "del a[0][0]\n",
    "print(a)"
   ]
  },
  {
   "cell_type": "code",
   "execution_count": 46,
   "id": "512af6d2",
   "metadata": {},
   "outputs": [
    {
     "name": "stdout",
     "output_type": "stream",
     "text": [
      "[['Pramit', '26', 'Kathmandu']]\n"
     ]
    }
   ],
   "source": [
    "a = [['Sangit', '22', 'dang'],['Pramit', '26', 'Kathmandu']]\n",
    "del a[0]\n",
    "print(a)"
   ]
  },
  {
   "cell_type": "code",
   "execution_count": 48,
   "id": "d78af664",
   "metadata": {},
   "outputs": [],
   "source": [
    "# WAP to create a matrix with given row and column\n",
    "# [[1,2,3],\n",
    "# [4,5,6],\n",
    "# [7,8,9]]"
   ]
  },
  {
   "cell_type": "code",
   "execution_count": 14,
   "id": "b6e5c3de",
   "metadata": {},
   "outputs": [
    {
     "name": "stdout",
     "output_type": "stream",
     "text": [
      "enter age = 27\n",
      "['Pramit', 27, 'Kathmandu']\n"
     ]
    }
   ],
   "source": [
    "age= int(input(\"enter age = \"))\n",
    "for i in data:\n",
    "    if age in i:\n",
    "        print(i)"
   ]
  },
  {
   "cell_type": "code",
   "execution_count": 17,
   "id": "35626bed",
   "metadata": {},
   "outputs": [
    {
     "name": "stdout",
     "output_type": "stream",
     "text": [
      " 1 * 1 = 1\n",
      " 1 * 2 = 2\n",
      " 1 * 3 = 3\n",
      " 1 * 4 = 4\n",
      " 1 * 5 = 5\n",
      " 1 * 6 = 6\n",
      " 1 * 7 = 7\n",
      " 1 * 8 = 8\n",
      " 1 * 9 = 9\n",
      " 1 * 10 = 10\n",
      " \n",
      " 2 * 1 = 2\n",
      " 2 * 2 = 4\n",
      " 2 * 3 = 6\n",
      " 2 * 4 = 8\n",
      " 2 * 5 = 10\n",
      " 2 * 6 = 12\n",
      " 2 * 7 = 14\n",
      " 2 * 8 = 16\n",
      " 2 * 9 = 18\n",
      " 2 * 10 = 20\n",
      " \n",
      " 3 * 1 = 3\n",
      " 3 * 2 = 6\n",
      " 3 * 3 = 9\n",
      " 3 * 4 = 12\n",
      " 3 * 5 = 15\n",
      " 3 * 6 = 18\n",
      " 3 * 7 = 21\n",
      " 3 * 8 = 24\n",
      " 3 * 9 = 27\n",
      " 3 * 10 = 30\n",
      " \n",
      " 4 * 1 = 4\n",
      " 4 * 2 = 8\n",
      " 4 * 3 = 12\n",
      " 4 * 4 = 16\n",
      " 4 * 5 = 20\n",
      " 4 * 6 = 24\n",
      " 4 * 7 = 28\n",
      " 4 * 8 = 32\n",
      " 4 * 9 = 36\n",
      " 4 * 10 = 40\n",
      " \n",
      " 5 * 1 = 5\n",
      " 5 * 2 = 10\n",
      " 5 * 3 = 15\n",
      " 5 * 4 = 20\n",
      " 5 * 5 = 25\n",
      " 5 * 6 = 30\n",
      " 5 * 7 = 35\n",
      " 5 * 8 = 40\n",
      " 5 * 9 = 45\n",
      " 5 * 10 = 50\n",
      " \n",
      " 6 * 1 = 6\n",
      " 6 * 2 = 12\n",
      " 6 * 3 = 18\n",
      " 6 * 4 = 24\n",
      " 6 * 5 = 30\n",
      " 6 * 6 = 36\n",
      " 6 * 7 = 42\n",
      " 6 * 8 = 48\n",
      " 6 * 9 = 54\n",
      " 6 * 10 = 60\n",
      " \n",
      " 7 * 1 = 7\n",
      " 7 * 2 = 14\n",
      " 7 * 3 = 21\n",
      " 7 * 4 = 28\n",
      " 7 * 5 = 35\n",
      " 7 * 6 = 42\n",
      " 7 * 7 = 49\n",
      " 7 * 8 = 56\n",
      " 7 * 9 = 63\n",
      " 7 * 10 = 70\n",
      " \n",
      " 8 * 1 = 8\n",
      " 8 * 2 = 16\n",
      " 8 * 3 = 24\n",
      " 8 * 4 = 32\n",
      " 8 * 5 = 40\n",
      " 8 * 6 = 48\n",
      " 8 * 7 = 56\n",
      " 8 * 8 = 64\n",
      " 8 * 9 = 72\n",
      " 8 * 10 = 80\n",
      " \n",
      " 9 * 1 = 9\n",
      " 9 * 2 = 18\n",
      " 9 * 3 = 27\n",
      " 9 * 4 = 36\n",
      " 9 * 5 = 45\n",
      " 9 * 6 = 54\n",
      " 9 * 7 = 63\n",
      " 9 * 8 = 72\n",
      " 9 * 9 = 81\n",
      " 9 * 10 = 90\n",
      " \n",
      " 10 * 1 = 10\n",
      " 10 * 2 = 20\n",
      " 10 * 3 = 30\n",
      " 10 * 4 = 40\n",
      " 10 * 5 = 50\n",
      " 10 * 6 = 60\n",
      " 10 * 7 = 70\n",
      " 10 * 8 = 80\n",
      " 10 * 9 = 90\n",
      " 10 * 10 = 100\n",
      " \n"
     ]
    }
   ],
   "source": [
    "for i in range(1,11):\n",
    "    for j in range(1,11):\n",
    "        print(f\" {i} * {j} = {i*j}\")\n",
    "    print(\" \")"
   ]
  },
  {
   "cell_type": "code",
   "execution_count": 13,
   "id": "14fcb6c4",
   "metadata": {},
   "outputs": [
    {
     "name": "stdout",
     "output_type": "stream",
     "text": [
      "enter rows = 3\n",
      "enter columns = 3\n",
      "enter user value = 1\n",
      "enter user value = 2\n",
      "enter user value = 3\n",
      "enter user value = 4\n",
      "enter user value = 5\n",
      "enter user value = 6\n",
      "enter user value = 7\n",
      "enter user value = 8\n",
      "enter user value = 9\n",
      "1 2 3 \n",
      "4 5 6 \n",
      "7 8 9 \n"
     ]
    }
   ],
   "source": [
    "# WAP to create a matrix with given row and column\n",
    "# [[1,2,3],\n",
    "# [4,5,6],\n",
    "# [7,8,9]]\n",
    "\n",
    "matrix = []\n",
    "\n",
    "r= int(input(\"enter rows = \"))\n",
    "c= int(input(\"enter columns = \"))\n",
    "\n",
    "for i in range(r):\n",
    "    k= []\n",
    "    for j in range(c):\n",
    "        u= int(input(\"enter user value = \"))\n",
    "        k.append(u)\n",
    "    matrix.append(k)\n",
    "    \n",
    "#print(matrix, end =\" \")  ---->>>>  if we do this result will be [[1, 2, 3], [4, 5, 6], [7, 8, 9]] \n",
    "\n",
    "for i in range(r):\n",
    "    for j in range(c):\n",
    "        print(matrix[i][j],end=\" \")\n",
    "    print()"
   ]
  },
  {
   "cell_type": "markdown",
   "id": "7ed2a4e4",
   "metadata": {},
   "source": [
    " "
   ]
  },
  {
   "cell_type": "code",
   "execution_count": 1,
   "id": "038e5499",
   "metadata": {},
   "outputs": [
    {
     "name": "stdout",
     "output_type": "stream",
     "text": [
      "enter r = 3\n",
      "enter c = 4\n",
      "enter user name = 1\n",
      "enter user name = 2\n",
      "enter user name = 3\n",
      "enter user name = 4\n",
      "enter user name = 5\n",
      "enter user name = 6\n",
      "enter user name = 7\n",
      "enter user name = 8\n",
      "enter user name = 9\n",
      "enter user name = 1\n",
      "enter user name = 2\n",
      "enter user name = 3\n",
      "1234\n",
      "5678\n",
      "9123\n"
     ]
    }
   ],
   "source": [
    "matrix = []\n",
    "r = int(input(\"enter r = \"))\n",
    "c = int(input(\"enter c = \"))\n",
    "\n",
    "for i in range(r):\n",
    "    v= []\n",
    "    for j in range(c):\n",
    "        u= int(input(\"enter user name = \"))\n",
    "        v.append(u)\n",
    "    matrix.append(v)\n",
    "\n",
    "for i in range(r):\n",
    "    for j in range(c):\n",
    "        print(matrix[i][j], end=\"\")\n",
    "    print()\n"
   ]
  },
  {
   "cell_type": "code",
   "execution_count": 2,
   "id": "8c9ca3e5",
   "metadata": {},
   "outputs": [
    {
     "name": "stdout",
     "output_type": "stream",
     "text": [
      "enter r = 3\n",
      "enter c = 3\n",
      "enter user name = 1\n",
      "enter user name = 2\n",
      "enter user name = 3\n",
      "enter user name = 4\n",
      "enter user name = 5\n",
      "enter user name = 6\n",
      "enter user name = 7\n",
      "enter user name = 7\n",
      "enter user name = 8\n",
      "1 2 3 \n",
      "4 5 6 \n",
      "7 7 8 \n"
     ]
    }
   ],
   "source": [
    "matrix = []\n",
    "r = int(input(\"enter r = \"))\n",
    "c = int(input(\"enter c = \"))\n",
    "\n",
    "for i in range(r):\n",
    "    v= []\n",
    "    for j in range(c):\n",
    "        u= int(input(\"enter user name = \"))\n",
    "        v.append(u)\n",
    "    matrix.append(v)\n",
    "\n",
    "for i in range(r):\n",
    "    for j in range(c):\n",
    "        print(matrix[i][j],end=\" \")\n",
    "    print()"
   ]
  },
  {
   "cell_type": "markdown",
   "id": "e242fa80",
   "metadata": {},
   "source": [
    "\n"
   ]
  },
  {
   "cell_type": "code",
   "execution_count": 3,
   "id": "d58b817d",
   "metadata": {},
   "outputs": [
    {
     "name": "stdout",
     "output_type": "stream",
     "text": [
      "sangit 6\n",
      "pramit 6\n",
      "kailash 7\n",
      "micheal 7\n"
     ]
    }
   ],
   "source": [
    "words=['sangit','pramit','kailash','micheal']\n",
    "for w in words:\n",
    "    print(w, len(w))\n"
   ]
  },
  {
   "cell_type": "code",
   "execution_count": null,
   "id": "382454de",
   "metadata": {},
   "outputs": [],
   "source": []
  }
 ],
 "metadata": {
  "kernelspec": {
   "display_name": "Python 3 (ipykernel)",
   "language": "python",
   "name": "python3"
  },
  "language_info": {
   "codemirror_mode": {
    "name": "ipython",
    "version": 3
   },
   "file_extension": ".py",
   "mimetype": "text/x-python",
   "name": "python",
   "nbconvert_exporter": "python",
   "pygments_lexer": "ipython3",
   "version": "3.9.7"
  }
 },
 "nbformat": 4,
 "nbformat_minor": 5
}
