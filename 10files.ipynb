{
 "cells": [
  {
   "cell_type": "code",
   "execution_count": 2,
   "id": "c98b1a2f",
   "metadata": {},
   "outputs": [],
   "source": [
    "# file=open('<file_name>','<modes>')\n",
    "# file.close()                                        # # file_name==>> file name\n",
    "                                                      # # modes==>>create,read,write,append garna lai ho"
   ]
  },
  {
   "cell_type": "code",
   "execution_count": 4,
   "id": "4ec2f498",
   "metadata": {},
   "outputs": [],
   "source": [
    "# with open(\"<file_name>\",\"mode\")as file:\n",
    "#     <operation>"
   ]
  },
  {
   "cell_type": "code",
   "execution_count": 5,
   "id": "0eb23998",
   "metadata": {},
   "outputs": [],
   "source": [
    "# modes\n",
    "# x=> \"create\"\n",
    "# r=> \"read\"\n",
    "# a=> \"append\"\n",
    "# w=> \"write\""
   ]
  },
  {
   "cell_type": "code",
   "execution_count": null,
   "id": "589c6bc2",
   "metadata": {},
   "outputs": [],
   "source": []
  },
  {
   "cell_type": "code",
   "execution_count": null,
   "id": "9e2b9a29",
   "metadata": {},
   "outputs": [],
   "source": [
    "file=open(\"data.txt\",\"x\")\n",
    "file.close()"
   ]
  },
  {
   "cell_type": "code",
   "execution_count": 4,
   "id": "2666c9b1",
   "metadata": {},
   "outputs": [
    {
     "name": "stdout",
     "output_type": "stream",
     "text": [
      "the file is already exists\n"
     ]
    }
   ],
   "source": [
    "# this is done for bug free  (or)\n",
    "# exception create vayo vane yasto garne   (or)\n",
    "# ferai fera hamile file lai same name bata create garna sakdainau so yasto gareko\n",
    "\n",
    "try:\n",
    "    file=open(\"data.txt\",\"x\")\n",
    "    file.close()\n",
    "except:\n",
    "    print(\"the file is already exists\")"
   ]
  },
  {
   "cell_type": "code",
   "execution_count": 20,
   "id": "022d4231",
   "metadata": {},
   "outputs": [
    {
     "name": "stdout",
     "output_type": "stream",
     "text": [
      "enter a = sa\n",
      "enter b = 2\n",
      "invalid literal for int() with base 10: 'sa'\n",
      "this is very important to print\n"
     ]
    }
   ],
   "source": [
    "#exception wala example\n",
    "\n",
    "a=input(\"enter a = \")\n",
    "b=input(\"enter b = \")\n",
    "\n",
    "try: \n",
    "    print(int(a)+int(b))\n",
    "    \n",
    "except Exception as e:\n",
    "    print(e)\n",
    "        \n",
    "print(\"this is very important to print\")"
   ]
  },
  {
   "cell_type": "code",
   "execution_count": 2,
   "id": "490674df",
   "metadata": {},
   "outputs": [
    {
     "name": "stdout",
     "output_type": "stream",
     "text": [
      "1 Hello World\n",
      "2 Hello World\n",
      "3 Hello World\n",
      "4 Hello World\n",
      "5 Hello World\n",
      "6 Hello World\n",
      "7 Hello World\n",
      "8 Hello World\n",
      "9 Hello World\n",
      "10 Hello World\n"
     ]
    }
   ],
   "source": [
    "# read mode use gareko yasma\n",
    "file=open(\"data.txt\",\"r\")\n",
    "x=file.read()\n",
    "print(x)\n",
    "file.close()"
   ]
  },
  {
   "cell_type": "code",
   "execution_count": 3,
   "id": "03283f29",
   "metadata": {},
   "outputs": [
    {
     "name": "stdout",
     "output_type": "stream",
     "text": [
      "<class 'str'>\n"
     ]
    }
   ],
   "source": [
    "print(type(x))"
   ]
  },
  {
   "cell_type": "code",
   "execution_count": 4,
   "id": "0b2b3fec",
   "metadata": {},
   "outputs": [
    {
     "data": {
      "text/plain": [
       "'1 Hello World\\n2 Hello World\\n3 Hello World\\n4 Hello World\\n5 Hello World\\n6 Hello World\\n7 Hello World\\n8 Hello World\\n9 Hello World\\n10 Hello World'"
      ]
     },
     "execution_count": 4,
     "metadata": {},
     "output_type": "execute_result"
    }
   ],
   "source": [
    "x"
   ]
  },
  {
   "cell_type": "code",
   "execution_count": 13,
   "id": "eb8f56ee",
   "metadata": {},
   "outputs": [
    {
     "data": {
      "text/plain": [
       "['1 Hello World',\n",
       " '2 Hello World',\n",
       " '3 Hello World',\n",
       " '4 Hello World',\n",
       " '5 Hello World',\n",
       " '6 Hello World',\n",
       " '7 Hello World',\n",
       " '8 Hello World',\n",
       " '9 Hello World',\n",
       " '10 Hello World']"
      ]
     },
     "execution_count": 13,
     "metadata": {},
     "output_type": "execute_result"
    }
   ],
   "source": [
    "x.split(\"\\n\")"
   ]
  },
  {
   "cell_type": "code",
   "execution_count": 14,
   "id": "261eb64e",
   "metadata": {},
   "outputs": [
    {
     "data": {
      "text/plain": [
       "'2 Hello World'"
      ]
     },
     "execution_count": 14,
     "metadata": {},
     "output_type": "execute_result"
    }
   ],
   "source": [
    "y=x.split('\\n')\n",
    "y[1]"
   ]
  },
  {
   "cell_type": "code",
   "execution_count": 6,
   "id": "0066cb68",
   "metadata": {},
   "outputs": [],
   "source": [
    "file=open(\"datas.txt\",\"w\")\n",
    "file.write(\"Hello World I am sangit\")\n",
    "file.close()"
   ]
  },
  {
   "cell_type": "code",
   "execution_count": 13,
   "id": "894aa291",
   "metadata": {},
   "outputs": [],
   "source": [
    "file=open(\"data.txt\",\"w\")    # data override hunxa that means purano data delete vayara naya data file ma rakhdenxa\n",
    "file.write(\" #this sentence is printed.\")\n",
    "file.close()"
   ]
  },
  {
   "cell_type": "code",
   "execution_count": 14,
   "id": "f2aef76f",
   "metadata": {},
   "outputs": [
    {
     "name": "stdout",
     "output_type": "stream",
     "text": [
      " #this sentence is printed.\n"
     ]
    }
   ],
   "source": [
    "# read mode use gareko yasma\n",
    "file=open(\"data.txt\",\"r\")\n",
    "x=file.read()\n",
    "print(x)\n",
    "file.close()"
   ]
  },
  {
   "cell_type": "code",
   "execution_count": 37,
   "id": "122d5ba6",
   "metadata": {},
   "outputs": [
    {
     "name": "stdout",
     "output_type": "stream",
     "text": [
      "enter a number = 2\n",
      "enter name = milk\n",
      "enter quantity = 3\n",
      "enter price = 50\n",
      "enter name = bread\n",
      "enter quantity = 3\n",
      "enter price = 30\n",
      "milk----3----50----150\n",
      "bread----3----30----90\n",
      "\n",
      "Toal NetValue is = 240\n",
      "\n"
     ]
    }
   ],
   "source": [
    "# WAP to create a billing system using String.\n",
    "# write mode use gareko yasma\n",
    "\n",
    "Bill=\"\"\n",
    "NetValue=0\n",
    "n=int(input(\"enter a number = \"))\n",
    "for i in range(n):\n",
    "    name=input(\"enter name = \")\n",
    "    quantity=int(input(\"enter quantity = \"))\n",
    "    price= int(input(\"enter price = \"))\n",
    "    Totalprice= quantity*price\n",
    "    Bill=Bill + f\"{name}----{quantity}----{price}----{Totalprice}\"+\"\\n\"\n",
    "    NetValue=NetValue+Totalprice\n",
    "    \n",
    "print(Bill)\n",
    "\n",
    "print(f\"Toal NetValue is = {NetValue}\\n\" )\n",
    "\n",
    "file=open(\"datas.txt\",\"w\")\n",
    "file.write(Bill)\n",
    "file.write(str(NetValue))            # write value always be string\n",
    "file.close()"
   ]
  },
  {
   "cell_type": "code",
   "execution_count": 38,
   "id": "c37e47a6",
   "metadata": {},
   "outputs": [
    {
     "name": "stdout",
     "output_type": "stream",
     "text": [
      "enter a number = 2\n",
      "enter name = mobile\n",
      "enter quantity = 2\n",
      "enter price = 50000\n",
      "enter name = laptop\n",
      "enter quantity = 1\n",
      "enter price = 100000\n"
     ]
    }
   ],
   "source": [
    "# WAP to create a billing system using String.\n",
    "# append mode use gareko yasma\n",
    "\n",
    "file=open(\"datas.txt\",\"a\") \n",
    "Bill=\"\"\n",
    "n=int(input(\"enter a number = \"))\n",
    "for i in range(n):\n",
    "    name=input(\"enter name = \")\n",
    "    quantity=int(input(\"enter quantity = \"))\n",
    "    price= int(input(\"enter price = \"))\n",
    "    Totalprice= quantity*price\n",
    "    Bill= \"\\n\"+f\"{name}----{quantity}----{price}----{Totalprice}\"\n",
    "    file.write(Bill)\n",
    "    \n",
    "\n",
    "file.close()"
   ]
  },
  {
   "cell_type": "code",
   "execution_count": 40,
   "id": "f23db51b",
   "metadata": {},
   "outputs": [
    {
     "name": "stdout",
     "output_type": "stream",
     "text": [
      "enter a number = 2\n",
      "enter name = apple\n",
      "enter quantity = 2\n",
      "enter price = 60\n",
      "enter name = banana\n",
      "enter quantity = 2\n",
      "enter price = 100\n",
      "\n",
      "\n",
      "apple----2----60----120\n",
      "banana----2----100----200\n",
      "\n"
     ]
    }
   ],
   "source": [
    "# WAP to create a billing system using String.\n",
    "# append mode use gareko yasma\n",
    "\n",
    "file=open(\"datas.txt\",\"a\") \n",
    "Bill=\"\"\n",
    "n=int(input(\"enter a number = \"))\n",
    "for i in range(n):\n",
    "    name=input(\"enter name = \")\n",
    "    quantity=int(input(\"enter quantity = \"))\n",
    "    price= int(input(\"enter price = \"))\n",
    "    Totalprice= quantity*price\n",
    "    Bill= \"\\n\"+Bill + f\"{name}----{quantity}----{price}----{Totalprice}\"+\"\\n\"\n",
    "file.write(Bill)\n",
    "print(Bill)   \n",
    "\n",
    "file.close()"
   ]
  },
  {
   "cell_type": "code",
   "execution_count": 41,
   "id": "ccf8c0cd",
   "metadata": {},
   "outputs": [
    {
     "name": "stdout",
     "output_type": "stream",
     "text": [
      "enter a number = 2\n",
      "enter name = copy\n",
      "enter quantity = 2\n",
      "enter price = 50\n",
      "enter name = book\n",
      "enter quantity = 2\n",
      "enter price = 1000\n",
      "\n",
      "\n",
      "copy----2----50----100\n",
      "book----2----1000----2000\n",
      "\n"
     ]
    }
   ],
   "source": [
    "# WAP to create a billing system using String.\n",
    "# append mode use gareko yasma\n",
    "\n",
    "Bill=\"\"\n",
    "n=int(input(\"enter a number = \"))\n",
    "for i in range(n):\n",
    "    name=input(\"enter name = \")\n",
    "    quantity=int(input(\"enter quantity = \"))\n",
    "    price= int(input(\"enter price = \"))\n",
    "    Totalprice= quantity*price\n",
    "    Bill= \"\\n\"+Bill + f\"{name}----{quantity}----{price}----{Totalprice}\"+\"\\n\"\n",
    "\n",
    "print(Bill) \n",
    "\n",
    "file=open(\"datas.txt\",\"a\") \n",
    "file.write(Bill)\n",
    "file.close()"
   ]
  },
  {
   "cell_type": "code",
   "execution_count": 33,
   "id": "65dc44c0",
   "metadata": {},
   "outputs": [
    {
     "name": "stdout",
     "output_type": "stream",
     "text": [
      "enter a number = 2\n",
      "enter name = coke\n",
      "enter quantity = 2\n",
      "enter price = 100\n",
      "enter name = water\n",
      "enter quantity = 2\n",
      "enter price = 50\n",
      "coke,2,100,200\n",
      "water,2,50,100\n",
      "\n"
     ]
    }
   ],
   "source": [
    "# WAP to create a billing system using String.\n",
    "\n",
    "Bill=\"\"\n",
    "n=int(input(\"enter a number = \"))\n",
    "for i in range(n):\n",
    "    name=input(\"enter name = \")\n",
    "    quantity=int(input(\"enter quantity = \"))\n",
    "    price= int(input(\"enter price = \"))\n",
    "    Totalprice= quantity*price\n",
    "    Bill=Bill + f\"{name},{quantity},{price},{Totalprice}\"+\"\\n\"\n",
    "\n",
    "print(Bill)\n",
    "\n",
    "file=open(\"datas.csv\",\"w\")\n",
    "file.write(Bill)\n",
    "file.close()"
   ]
  },
  {
   "cell_type": "code",
   "execution_count": 32,
   "id": "0b0039fc",
   "metadata": {},
   "outputs": [
    {
     "name": "stdout",
     "output_type": "stream",
     "text": [
      "enter a number = 3\n",
      "enter name = coke\n",
      "enter quantity = 3\n",
      "enter price = 100\n",
      "enter name = momo\n",
      "enter quantity = 3\n",
      "enter price = 160\n",
      "enter name = water\n",
      "enter quantity = 2\n",
      "enter price = 50\n",
      "coke,3,100,300\n",
      "momo,3,160,480\n",
      "water,2,50,100\n",
      "\n"
     ]
    }
   ],
   "source": [
    "# WAP to create a billing system using String.\n",
    "\n",
    "Bill=\"\"\n",
    "\n",
    "file=open(\"datas.txt\",\"w\") \n",
    "n=int(input(\"enter a number = \"))\n",
    "for i in range(n):\n",
    "    name=input(\"enter name = \")\n",
    "    quantity=int(input(\"enter quantity = \"))\n",
    "    price= int(input(\"enter price = \"))\n",
    "    Totalprice= quantity*price\n",
    "    Bill=Bill + f\"{name},{quantity},{price},{Totalprice}\"+\"\\n\"\n",
    "\n",
    "print(Bill)\n",
    "\n",
    "file=open(\"datanext.csv\",\"w\")\n",
    "file.write(\"Name,Quantity,Price,Total\\n\")\n",
    "file.write(Bill)\n",
    "file.close()"
   ]
  },
  {
   "cell_type": "code",
   "execution_count": 4,
   "id": "afbaba48",
   "metadata": {},
   "outputs": [],
   "source": [
    "# pandas is used for data analyst\n",
    "\n",
    "import pandas as pd\n",
    "Dict={\n",
    "    \"name\":[\"sangit\",\"rohan\",\"tiger\",\"sonu\"],\n",
    "    \"age\":[22,12,34,25],\n",
    "    \"subject\":[\"python\",\"html\",\"css\",\".net\"]\n",
    "}\n",
    "df=pd.DataFrame(Dict)                             # DataFrame is an excel sheet presented inside python."
   ]
  },
  {
   "cell_type": "code",
   "execution_count": 7,
   "id": "5f4bdb84",
   "metadata": {},
   "outputs": [
    {
     "data": {
      "text/html": [
       "<div>\n",
       "<style scoped>\n",
       "    .dataframe tbody tr th:only-of-type {\n",
       "        vertical-align: middle;\n",
       "    }\n",
       "\n",
       "    .dataframe tbody tr th {\n",
       "        vertical-align: top;\n",
       "    }\n",
       "\n",
       "    .dataframe thead th {\n",
       "        text-align: right;\n",
       "    }\n",
       "</style>\n",
       "<table border=\"1\" class=\"dataframe\">\n",
       "  <thead>\n",
       "    <tr style=\"text-align: right;\">\n",
       "      <th></th>\n",
       "      <th>name</th>\n",
       "      <th>age</th>\n",
       "      <th>subject</th>\n",
       "    </tr>\n",
       "  </thead>\n",
       "  <tbody>\n",
       "    <tr>\n",
       "      <th>0</th>\n",
       "      <td>sangit</td>\n",
       "      <td>22</td>\n",
       "      <td>python</td>\n",
       "    </tr>\n",
       "    <tr>\n",
       "      <th>1</th>\n",
       "      <td>rohan</td>\n",
       "      <td>12</td>\n",
       "      <td>html</td>\n",
       "    </tr>\n",
       "    <tr>\n",
       "      <th>2</th>\n",
       "      <td>tiger</td>\n",
       "      <td>34</td>\n",
       "      <td>css</td>\n",
       "    </tr>\n",
       "    <tr>\n",
       "      <th>3</th>\n",
       "      <td>sonu</td>\n",
       "      <td>25</td>\n",
       "      <td>.net</td>\n",
       "    </tr>\n",
       "  </tbody>\n",
       "</table>\n",
       "</div>"
      ],
      "text/plain": [
       "     name  age subject\n",
       "0  sangit   22  python\n",
       "1   rohan   12    html\n",
       "2   tiger   34     css\n",
       "3    sonu   25    .net"
      ]
     },
     "execution_count": 7,
     "metadata": {},
     "output_type": "execute_result"
    }
   ],
   "source": [
    "df"
   ]
  },
  {
   "cell_type": "code",
   "execution_count": 8,
   "id": "b30aeb47",
   "metadata": {},
   "outputs": [],
   "source": [
    "df.to_csv(\"datanext2.csv\")"
   ]
  },
  {
   "cell_type": "code",
   "execution_count": 9,
   "id": "58e60e1b",
   "metadata": {},
   "outputs": [],
   "source": [
    "df.to_csv(\"datanext2_remove_index.csv\",index=False)"
   ]
  },
  {
   "cell_type": "code",
   "execution_count": 10,
   "id": "5eeab84c",
   "metadata": {},
   "outputs": [
    {
     "data": {
      "text/html": [
       "<div>\n",
       "<style scoped>\n",
       "    .dataframe tbody tr th:only-of-type {\n",
       "        vertical-align: middle;\n",
       "    }\n",
       "\n",
       "    .dataframe tbody tr th {\n",
       "        vertical-align: top;\n",
       "    }\n",
       "\n",
       "    .dataframe thead th {\n",
       "        text-align: right;\n",
       "    }\n",
       "</style>\n",
       "<table border=\"1\" class=\"dataframe\">\n",
       "  <thead>\n",
       "    <tr style=\"text-align: right;\">\n",
       "      <th></th>\n",
       "      <th>name</th>\n",
       "      <th>age</th>\n",
       "      <th>subject</th>\n",
       "    </tr>\n",
       "  </thead>\n",
       "  <tbody>\n",
       "    <tr>\n",
       "      <th>0</th>\n",
       "      <td>sangit</td>\n",
       "      <td>22</td>\n",
       "      <td>python</td>\n",
       "    </tr>\n",
       "    <tr>\n",
       "      <th>1</th>\n",
       "      <td>rohan</td>\n",
       "      <td>12</td>\n",
       "      <td>html</td>\n",
       "    </tr>\n",
       "  </tbody>\n",
       "</table>\n",
       "</div>"
      ],
      "text/plain": [
       "     name  age subject\n",
       "0  sangit   22  python\n",
       "1   rohan   12    html"
      ]
     },
     "execution_count": 10,
     "metadata": {},
     "output_type": "execute_result"
    }
   ],
   "source": [
    "df.head(2)"
   ]
  },
  {
   "cell_type": "code",
   "execution_count": 11,
   "id": "cc55bbcf",
   "metadata": {},
   "outputs": [
    {
     "data": {
      "text/html": [
       "<div>\n",
       "<style scoped>\n",
       "    .dataframe tbody tr th:only-of-type {\n",
       "        vertical-align: middle;\n",
       "    }\n",
       "\n",
       "    .dataframe tbody tr th {\n",
       "        vertical-align: top;\n",
       "    }\n",
       "\n",
       "    .dataframe thead th {\n",
       "        text-align: right;\n",
       "    }\n",
       "</style>\n",
       "<table border=\"1\" class=\"dataframe\">\n",
       "  <thead>\n",
       "    <tr style=\"text-align: right;\">\n",
       "      <th></th>\n",
       "      <th>name</th>\n",
       "      <th>age</th>\n",
       "      <th>subject</th>\n",
       "    </tr>\n",
       "  </thead>\n",
       "  <tbody>\n",
       "    <tr>\n",
       "      <th>2</th>\n",
       "      <td>tiger</td>\n",
       "      <td>34</td>\n",
       "      <td>css</td>\n",
       "    </tr>\n",
       "    <tr>\n",
       "      <th>3</th>\n",
       "      <td>sonu</td>\n",
       "      <td>25</td>\n",
       "      <td>.net</td>\n",
       "    </tr>\n",
       "  </tbody>\n",
       "</table>\n",
       "</div>"
      ],
      "text/plain": [
       "    name  age subject\n",
       "2  tiger   34     css\n",
       "3   sonu   25    .net"
      ]
     },
     "execution_count": 11,
     "metadata": {},
     "output_type": "execute_result"
    }
   ],
   "source": [
    "df.tail(2)"
   ]
  },
  {
   "cell_type": "code",
   "execution_count": 12,
   "id": "03a20dd1",
   "metadata": {},
   "outputs": [
    {
     "data": {
      "text/html": [
       "<div>\n",
       "<style scoped>\n",
       "    .dataframe tbody tr th:only-of-type {\n",
       "        vertical-align: middle;\n",
       "    }\n",
       "\n",
       "    .dataframe tbody tr th {\n",
       "        vertical-align: top;\n",
       "    }\n",
       "\n",
       "    .dataframe thead th {\n",
       "        text-align: right;\n",
       "    }\n",
       "</style>\n",
       "<table border=\"1\" class=\"dataframe\">\n",
       "  <thead>\n",
       "    <tr style=\"text-align: right;\">\n",
       "      <th></th>\n",
       "      <th>age</th>\n",
       "    </tr>\n",
       "  </thead>\n",
       "  <tbody>\n",
       "    <tr>\n",
       "      <th>count</th>\n",
       "      <td>4.000000</td>\n",
       "    </tr>\n",
       "    <tr>\n",
       "      <th>mean</th>\n",
       "      <td>23.250000</td>\n",
       "    </tr>\n",
       "    <tr>\n",
       "      <th>std</th>\n",
       "      <td>9.069179</td>\n",
       "    </tr>\n",
       "    <tr>\n",
       "      <th>min</th>\n",
       "      <td>12.000000</td>\n",
       "    </tr>\n",
       "    <tr>\n",
       "      <th>25%</th>\n",
       "      <td>19.500000</td>\n",
       "    </tr>\n",
       "    <tr>\n",
       "      <th>50%</th>\n",
       "      <td>23.500000</td>\n",
       "    </tr>\n",
       "    <tr>\n",
       "      <th>75%</th>\n",
       "      <td>27.250000</td>\n",
       "    </tr>\n",
       "    <tr>\n",
       "      <th>max</th>\n",
       "      <td>34.000000</td>\n",
       "    </tr>\n",
       "  </tbody>\n",
       "</table>\n",
       "</div>"
      ],
      "text/plain": [
       "             age\n",
       "count   4.000000\n",
       "mean   23.250000\n",
       "std     9.069179\n",
       "min    12.000000\n",
       "25%    19.500000\n",
       "50%    23.500000\n",
       "75%    27.250000\n",
       "max    34.000000"
      ]
     },
     "execution_count": 12,
     "metadata": {},
     "output_type": "execute_result"
    }
   ],
   "source": [
    "df.describe()"
   ]
  },
  {
   "cell_type": "code",
   "execution_count": 13,
   "id": "a13c2e4e",
   "metadata": {},
   "outputs": [],
   "source": [
    "harry=pd.read_csv('datanext.csv')"
   ]
  },
  {
   "cell_type": "code",
   "execution_count": 14,
   "id": "0966f926",
   "metadata": {},
   "outputs": [
    {
     "data": {
      "text/html": [
       "<div>\n",
       "<style scoped>\n",
       "    .dataframe tbody tr th:only-of-type {\n",
       "        vertical-align: middle;\n",
       "    }\n",
       "\n",
       "    .dataframe tbody tr th {\n",
       "        vertical-align: top;\n",
       "    }\n",
       "\n",
       "    .dataframe thead th {\n",
       "        text-align: right;\n",
       "    }\n",
       "</style>\n",
       "<table border=\"1\" class=\"dataframe\">\n",
       "  <thead>\n",
       "    <tr style=\"text-align: right;\">\n",
       "      <th></th>\n",
       "      <th>Name</th>\n",
       "      <th>Quantity</th>\n",
       "      <th>Price</th>\n",
       "      <th>Total</th>\n",
       "    </tr>\n",
       "  </thead>\n",
       "  <tbody>\n",
       "    <tr>\n",
       "      <th>0</th>\n",
       "      <td>coke</td>\n",
       "      <td>3</td>\n",
       "      <td>100</td>\n",
       "      <td>300</td>\n",
       "    </tr>\n",
       "    <tr>\n",
       "      <th>1</th>\n",
       "      <td>momo</td>\n",
       "      <td>3</td>\n",
       "      <td>160</td>\n",
       "      <td>480</td>\n",
       "    </tr>\n",
       "    <tr>\n",
       "      <th>2</th>\n",
       "      <td>water</td>\n",
       "      <td>2</td>\n",
       "      <td>50</td>\n",
       "      <td>100</td>\n",
       "    </tr>\n",
       "  </tbody>\n",
       "</table>\n",
       "</div>"
      ],
      "text/plain": [
       "    Name  Quantity  Price  Total\n",
       "0   coke         3    100    300\n",
       "1   momo         3    160    480\n",
       "2  water         2     50    100"
      ]
     },
     "execution_count": 14,
     "metadata": {},
     "output_type": "execute_result"
    }
   ],
   "source": [
    "harry"
   ]
  },
  {
   "cell_type": "code",
   "execution_count": 15,
   "id": "5edc161f",
   "metadata": {},
   "outputs": [
    {
     "data": {
      "text/plain": [
       "0    100\n",
       "1    160\n",
       "2     50\n",
       "Name: Price, dtype: int64"
      ]
     },
     "execution_count": 15,
     "metadata": {},
     "output_type": "execute_result"
    }
   ],
   "source": [
    "harry['Price']"
   ]
  },
  {
   "cell_type": "code",
   "execution_count": 16,
   "id": "bf9263b5",
   "metadata": {},
   "outputs": [
    {
     "data": {
      "text/plain": [
       "100"
      ]
     },
     "execution_count": 16,
     "metadata": {},
     "output_type": "execute_result"
    }
   ],
   "source": [
    "harry[\"Price\"][0]"
   ]
  },
  {
   "cell_type": "code",
   "execution_count": 17,
   "id": "7b9b0c45",
   "metadata": {},
   "outputs": [
    {
     "name": "stderr",
     "output_type": "stream",
     "text": [
      "C:\\Users\\Dell\\AppData\\Local\\Temp/ipykernel_9652/3437316585.py:1: SettingWithCopyWarning: \n",
      "A value is trying to be set on a copy of a slice from a DataFrame\n",
      "\n",
      "See the caveats in the documentation: https://pandas.pydata.org/pandas-docs/stable/user_guide/indexing.html#returning-a-view-versus-a-copy\n",
      "  harry[\"Price\"][0]=50\n"
     ]
    }
   ],
   "source": [
    "harry[\"Price\"][0]=50"
   ]
  },
  {
   "cell_type": "code",
   "execution_count": 18,
   "id": "5dd5b54e",
   "metadata": {},
   "outputs": [
    {
     "data": {
      "text/html": [
       "<div>\n",
       "<style scoped>\n",
       "    .dataframe tbody tr th:only-of-type {\n",
       "        vertical-align: middle;\n",
       "    }\n",
       "\n",
       "    .dataframe tbody tr th {\n",
       "        vertical-align: top;\n",
       "    }\n",
       "\n",
       "    .dataframe thead th {\n",
       "        text-align: right;\n",
       "    }\n",
       "</style>\n",
       "<table border=\"1\" class=\"dataframe\">\n",
       "  <thead>\n",
       "    <tr style=\"text-align: right;\">\n",
       "      <th></th>\n",
       "      <th>Name</th>\n",
       "      <th>Quantity</th>\n",
       "      <th>Price</th>\n",
       "      <th>Total</th>\n",
       "    </tr>\n",
       "  </thead>\n",
       "  <tbody>\n",
       "    <tr>\n",
       "      <th>0</th>\n",
       "      <td>coke</td>\n",
       "      <td>3</td>\n",
       "      <td>50</td>\n",
       "      <td>300</td>\n",
       "    </tr>\n",
       "    <tr>\n",
       "      <th>1</th>\n",
       "      <td>momo</td>\n",
       "      <td>3</td>\n",
       "      <td>160</td>\n",
       "      <td>480</td>\n",
       "    </tr>\n",
       "    <tr>\n",
       "      <th>2</th>\n",
       "      <td>water</td>\n",
       "      <td>2</td>\n",
       "      <td>50</td>\n",
       "      <td>100</td>\n",
       "    </tr>\n",
       "  </tbody>\n",
       "</table>\n",
       "</div>"
      ],
      "text/plain": [
       "    Name  Quantity  Price  Total\n",
       "0   coke         3     50    300\n",
       "1   momo         3    160    480\n",
       "2  water         2     50    100"
      ]
     },
     "execution_count": 18,
     "metadata": {},
     "output_type": "execute_result"
    }
   ],
   "source": [
    "harry"
   ]
  },
  {
   "cell_type": "code",
   "execution_count": 21,
   "id": "bee501a3",
   "metadata": {},
   "outputs": [],
   "source": [
    "harry.to_csv(\"datanext.csv\")"
   ]
  },
  {
   "cell_type": "code",
   "execution_count": 25,
   "id": "2dbaaa4d",
   "metadata": {},
   "outputs": [],
   "source": [
    "harry.index=['first' , 'second' , 'third']"
   ]
  },
  {
   "cell_type": "code",
   "execution_count": 26,
   "id": "6b390a6f",
   "metadata": {},
   "outputs": [
    {
     "data": {
      "text/html": [
       "<div>\n",
       "<style scoped>\n",
       "    .dataframe tbody tr th:only-of-type {\n",
       "        vertical-align: middle;\n",
       "    }\n",
       "\n",
       "    .dataframe tbody tr th {\n",
       "        vertical-align: top;\n",
       "    }\n",
       "\n",
       "    .dataframe thead th {\n",
       "        text-align: right;\n",
       "    }\n",
       "</style>\n",
       "<table border=\"1\" class=\"dataframe\">\n",
       "  <thead>\n",
       "    <tr style=\"text-align: right;\">\n",
       "      <th></th>\n",
       "      <th>Name</th>\n",
       "      <th>Quantity</th>\n",
       "      <th>Price</th>\n",
       "      <th>Total</th>\n",
       "    </tr>\n",
       "  </thead>\n",
       "  <tbody>\n",
       "    <tr>\n",
       "      <th>first</th>\n",
       "      <td>coke</td>\n",
       "      <td>3</td>\n",
       "      <td>50</td>\n",
       "      <td>300</td>\n",
       "    </tr>\n",
       "    <tr>\n",
       "      <th>second</th>\n",
       "      <td>momo</td>\n",
       "      <td>3</td>\n",
       "      <td>160</td>\n",
       "      <td>480</td>\n",
       "    </tr>\n",
       "    <tr>\n",
       "      <th>third</th>\n",
       "      <td>water</td>\n",
       "      <td>2</td>\n",
       "      <td>50</td>\n",
       "      <td>100</td>\n",
       "    </tr>\n",
       "  </tbody>\n",
       "</table>\n",
       "</div>"
      ],
      "text/plain": [
       "         Name  Quantity  Price  Total\n",
       "first    coke         3     50    300\n",
       "second   momo         3    160    480\n",
       "third   water         2     50    100"
      ]
     },
     "execution_count": 26,
     "metadata": {},
     "output_type": "execute_result"
    }
   ],
   "source": [
    "harry"
   ]
  },
  {
   "cell_type": "code",
   "execution_count": null,
   "id": "b5b5988b",
   "metadata": {},
   "outputs": [],
   "source": []
  }
 ],
 "metadata": {
  "kernelspec": {
   "display_name": "Python 3 (ipykernel)",
   "language": "python",
   "name": "python3"
  },
  "language_info": {
   "codemirror_mode": {
    "name": "ipython",
    "version": 3
   },
   "file_extension": ".py",
   "mimetype": "text/x-python",
   "name": "python",
   "nbconvert_exporter": "python",
   "pygments_lexer": "ipython3",
   "version": "3.9.7"
  }
 },
 "nbformat": 4,
 "nbformat_minor": 5
}
