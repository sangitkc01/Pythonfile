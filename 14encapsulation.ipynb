{
 "cells": [
  {
   "cell_type": "code",
   "execution_count": null,
   "id": "2d55998a",
   "metadata": {},
   "outputs": [],
   "source": [
    "# Encapsulation\n",
    "\n",
    "# -private data\n",
    "# -public data\n",
    "# -protected data"
   ]
  },
  {
   "cell_type": "code",
   "execution_count": 1,
   "id": "96525c6c",
   "metadata": {},
   "outputs": [
    {
     "name": "stdout",
     "output_type": "stream",
     "text": [
      "Ram\n",
      "34\n",
      "Kathmandu\n"
     ]
    }
   ],
   "source": [
    "# public attributes\n",
    "\n",
    "class Info:\n",
    "    def __init__(self,name,age,add):\n",
    "        self.name=name\n",
    "        self.add=add\n",
    "        self.age=age\n",
    "        \n",
    "obj=Info(\"Ram\",34,\"Kathmandu\")\n",
    "print(obj.name)\n",
    "print(obj.age)\n",
    "print(obj.add)"
   ]
  },
  {
   "cell_type": "code",
   "execution_count": 2,
   "id": "2138bf4b",
   "metadata": {},
   "outputs": [
    {
     "name": "stdout",
     "output_type": "stream",
     "text": [
      "Ram\n",
      "34\n",
      "Kathmandu\n"
     ]
    }
   ],
   "source": [
    "# protected attributes\n",
    "\n",
    "class Info:\n",
    "    def __init__(self,name,age,add):\n",
    "        self._name=name\n",
    "        self._add=add\n",
    "        self._age=age\n",
    "        \n",
    "obj=Info(\"Ram\",34,\"Kathmandu\")\n",
    "print(obj._name)\n",
    "print(obj._age)\n",
    "print(obj._add)"
   ]
  },
  {
   "cell_type": "code",
   "execution_count": 3,
   "id": "e26ed7ad",
   "metadata": {},
   "outputs": [
    {
     "ename": "AttributeError",
     "evalue": "'Info' object has no attribute '__name'",
     "output_type": "error",
     "traceback": [
      "\u001b[1;31m---------------------------------------------------------------------------\u001b[0m",
      "\u001b[1;31mAttributeError\u001b[0m                            Traceback (most recent call last)",
      "\u001b[1;32m~\\AppData\\Local\\Temp/ipykernel_5636/3316456289.py\u001b[0m in \u001b[0;36m<module>\u001b[1;34m\u001b[0m\n\u001b[0;32m      8\u001b[0m \u001b[1;33m\u001b[0m\u001b[0m\n\u001b[0;32m      9\u001b[0m \u001b[0mobj\u001b[0m\u001b[1;33m=\u001b[0m\u001b[0mInfo\u001b[0m\u001b[1;33m(\u001b[0m\u001b[1;34m\"Ram\"\u001b[0m\u001b[1;33m,\u001b[0m\u001b[1;36m34\u001b[0m\u001b[1;33m,\u001b[0m\u001b[1;34m\"Kathmandu\"\u001b[0m\u001b[1;33m)\u001b[0m\u001b[1;33m\u001b[0m\u001b[1;33m\u001b[0m\u001b[0m\n\u001b[1;32m---> 10\u001b[1;33m \u001b[0mprint\u001b[0m\u001b[1;33m(\u001b[0m\u001b[0mobj\u001b[0m\u001b[1;33m.\u001b[0m\u001b[0m__name\u001b[0m\u001b[1;33m)\u001b[0m\u001b[1;33m\u001b[0m\u001b[1;33m\u001b[0m\u001b[0m\n\u001b[0m\u001b[0;32m     11\u001b[0m \u001b[0mprint\u001b[0m\u001b[1;33m(\u001b[0m\u001b[0mobj\u001b[0m\u001b[1;33m.\u001b[0m\u001b[0m__age\u001b[0m\u001b[1;33m)\u001b[0m\u001b[1;33m\u001b[0m\u001b[1;33m\u001b[0m\u001b[0m\n\u001b[0;32m     12\u001b[0m \u001b[0mprint\u001b[0m\u001b[1;33m(\u001b[0m\u001b[0mobj\u001b[0m\u001b[1;33m.\u001b[0m\u001b[0m__add\u001b[0m\u001b[1;33m)\u001b[0m\u001b[1;33m\u001b[0m\u001b[1;33m\u001b[0m\u001b[0m\n",
      "\u001b[1;31mAttributeError\u001b[0m: 'Info' object has no attribute '__name'"
     ]
    }
   ],
   "source": [
    "# private attributes\n",
    "# publicly use garna paedaina private key use garda\n",
    "# private use garda same class ma matrai use garna paeinxa\n",
    "class Info:\n",
    "    def __init__(self,name,age,add):\n",
    "        self.__name=name\n",
    "        self.__add=add\n",
    "        self.__age=age\n",
    "        \n",
    "obj=Info(\"Ram\",34,\"Kathmandu\")\n",
    "print(obj.__name)\n",
    "print(obj.__age)\n",
    "print(obj.__add)"
   ]
  },
  {
   "cell_type": "code",
   "execution_count": 1,
   "id": "8906c171",
   "metadata": {},
   "outputs": [
    {
     "name": "stdout",
     "output_type": "stream",
     "text": [
      "enter name  = sangit\n",
      "enter address = dang\n",
      "I am from dang\n",
      "Hello I am sangit. I am from dang\n",
      "dang\n",
      "sangit\n"
     ]
    }
   ],
   "source": [
    "class Info:                                                               #parent class\n",
    "    def __init__(self,name,add):\n",
    "        self.__name=name\n",
    "        self._add=add\n",
    "        \n",
    "    def info(self):\n",
    "        print(f\"Hello I am {self.__name}. I am from {self._add}\") # private key aautai class ma matrai access garne i.e., self.__name\n",
    "\n",
    "class Data(Info):                                                         #child class\n",
    "    def data(self):\n",
    "        print(f\"I am from {self._add}\")\n",
    "        \n",
    "name=input('enter name  = ')\n",
    "add=input('enter address = ')\n",
    "                \n",
    "obj=Data(name,add)\n",
    "obj.data()\n",
    "obj.info()\n",
    "print(obj._add) \n",
    "print(obj._Info__name)        #we can access private like this"
   ]
  },
  {
   "cell_type": "code",
   "execution_count": 2,
   "id": "bb355eea",
   "metadata": {},
   "outputs": [
    {
     "name": "stdout",
     "output_type": "stream",
     "text": [
      "enter name  = sangit\n",
      "enter address = dang\n",
      "enter phone = 5432\n",
      "Hello this is sangit. SO My contact no. is 5432\n",
      "Hello I am from dang.\n",
      "Hello World I am sangit. I am from dang.\n",
      "5432\n"
     ]
    }
   ],
   "source": [
    "# multi-level\n",
    "\n",
    "class Contact:\n",
    "    def __init__(self,phone):\n",
    "        self.__phone=phone\n",
    "        \n",
    "    def ct(self):\n",
    "        print(f\"Hello this is {self.name}. SO My contact no. is {self.__phone}\")\n",
    "        \n",
    "class Info(Contact):                                                               \n",
    "    def __init__(self,add,phone):\n",
    "        self._add=add\n",
    "        Contact.__init__(self,phone)\n",
    "        \n",
    "    def info(self):\n",
    "        print(f\"Hello I am from {self._add}.\")\n",
    "        \n",
    "class Data(Info):                                                         \n",
    "    def __init__(self,name,add,phone):\n",
    "        self.name=name\n",
    "        Info.__init__(self,add,phone)\n",
    "        \n",
    "    def data(self):\n",
    "        print(f\"Hello World I am {self.name}. I am from {self._add}.\")\n",
    "        \n",
    "name=input('enter name  = ')\n",
    "add=input('enter address = ')\n",
    "phone=int(input('enter phone = ')) \n",
    "\n",
    "obj=Data(name,add,phone)\n",
    "obj.ct()\n",
    "obj.info()\n",
    "obj.data()\n",
    "print(obj._Contact__phone)    #we can access private as like this\n",
    "\n"
   ]
  },
  {
   "cell_type": "code",
   "execution_count": 6,
   "id": "dc8a35b9",
   "metadata": {},
   "outputs": [
    {
     "name": "stdout",
     "output_type": "stream",
     "text": [
      "enter name  = Sangit\n",
      "enter address = dang\n",
      "enter phone = 34\n",
      "dang\n",
      "Hello this is contact detail. SO My contact no. is 34\n",
      "Hello I am from dang. My contact no. is 34\n",
      "Hello World I am Sangit. I am from dang. My contact no. is 34\n"
     ]
    }
   ],
   "source": [
    "# multiple\n",
    "\n",
    "\n",
    "class Contact:\n",
    "    def __init__(self,phone):\n",
    "        self._phone=phone\n",
    "        \n",
    "    def ct(self):\n",
    "        print(f\"Hello this is contact detail. SO My contact no. is {self._phone}\")\n",
    "        \n",
    "class Info():                                                               \n",
    "    def __init__(self,add):\n",
    "        self._add=add\n",
    "              \n",
    "    def info(self):\n",
    "        print(f\"Hello I am from {self._add}. My contact no. is {self._phone}\")\n",
    "        \n",
    "class Data(Info,Contact):                                                         \n",
    "    def __init__(self,name,add,phone):\n",
    "        self.__name=name\n",
    "        Info.__init__(self,add)\n",
    "        Contact.__init__(self,phone)\n",
    "        \n",
    "    def data(self):\n",
    "        print(f\"Hello World I am {self.__name}. I am from {self._add}. My contact no. is {self._phone}\")\n",
    "        \n",
    "name=input('enter name  = ')\n",
    "add=input('enter address = ')\n",
    "phone=int(input('enter phone = ')) \n",
    "\n",
    "obj=Data(name,add,phone)\n",
    "print(obj._add)\n",
    "obj.ct()\n",
    "obj.info()\n",
    "obj.data()\n"
   ]
  },
  {
   "cell_type": "code",
   "execution_count": 11,
   "id": "d265971b",
   "metadata": {},
   "outputs": [
    {
     "name": "stdout",
     "output_type": "stream",
     "text": [
      "enter name = sangit\n",
      "enter age = 22\n",
      "enter add = dang\n",
      "hello world i am frm dang\n",
      "hello world my name is sangit\n",
      "hello world i am 22\n"
     ]
    }
   ],
   "source": [
    "# hierarchical method\n",
    "\n",
    "class One():\n",
    "    def __init__(self,add):\n",
    "        self.__add=add\n",
    "    def one(self):\n",
    "        print(f'hello world i am frm {self.__add}')\n",
    "\n",
    "class Two(One):\n",
    "    def __init__(self,age):\n",
    "        self._age=age\n",
    "    def two(self):\n",
    "        print(f\"hello world i am {self._age}\")\n",
    "\n",
    "class Three(One):\n",
    "    def __init__(self,name,add):\n",
    "        self._name=name\n",
    "        One.__init__(self,add)\n",
    "    def three(self):\n",
    "        print(f'hello world my name is {self._name}')\n",
    "\n",
    "\n",
    "name=input('enter name = ')\n",
    "age=int(input('enter age = '))\n",
    "add=input('enter add = ')\n",
    "\n",
    "obj=Three(name,add)\n",
    "obj2=Two(age)\n",
    "obj.one()\n",
    "obj.three()\n",
    "obj2.two()"
   ]
  },
  {
   "cell_type": "code",
   "execution_count": 20,
   "id": "38d2cbed",
   "metadata": {},
   "outputs": [
    {
     "name": "stdout",
     "output_type": "stream",
     "text": [
      "enter name = sangit\n",
      "enter age = 22\n",
      "enter address = dang\n",
      "enter phone = 98765467\n",
      "Hello World I am 22\n",
      "hello world i am sangit. i am 22\n",
      "hello world my phone no. is 98765467\n",
      "Hello World I am from dang.\n"
     ]
    }
   ],
   "source": [
    "# Hybrid method\n",
    "\n",
    "class One:\n",
    "    def __init__(self,phone):\n",
    "        self.__phone=phone       #private\n",
    "    def one(self):\n",
    "        print(f'hello world my phone no. is {self.__phone}')\n",
    "\n",
    "class Two(One):\n",
    "    def __init__(self,address,phone):\n",
    "        self.__address=address\n",
    "        One.__init__(self,phone)\n",
    "    def two(self):\n",
    "        print(f'Hello World I am from {self.__address}.')\n",
    "\n",
    "class Three:\n",
    "    def __init__(self,age):\n",
    "        self._age=age                   #protected\n",
    "    def three(self):\n",
    "        print(f'Hello World I am {self._age}')\n",
    "        \n",
    "class Four(Two,Three):\n",
    "    def __init__(self,name,age,address,phone):\n",
    "        self.name=name                             #public\n",
    "        Three.__init__(self,age)\n",
    "        Two.__init__(self,address,phone)\n",
    "    def four(self):\n",
    "        print(f'hello world i am {self.name}. i am {self._age}')\n",
    "\n",
    "\n",
    "\n",
    "name=input('enter name = ')\n",
    "age=int(input('enter age = '))\n",
    "address=input('enter address = ')\n",
    "phone=int(input('enter phone = '))\n",
    "\n",
    "\n",
    "obj=Four(name,age,address,phone)\n",
    "obj.three()\n",
    "obj.four()\n",
    "\n",
    "obj.one()\n",
    "obj.two()\n",
    "#(or)\n",
    "# obj2=Two(address,phone)\n",
    "# obj2.one()\n",
    "# obj2.two()"
   ]
  },
  {
   "cell_type": "code",
   "execution_count": 18,
   "id": "2150b75d",
   "metadata": {},
   "outputs": [],
   "source": [
    "#polymorphism through method overloading\n",
    "#polymorphism through inheritance ( method overriding )\n",
    "#polymorphism through operator overloading"
   ]
  },
  {
   "cell_type": "code",
   "execution_count": 12,
   "id": "a8e6f5f2",
   "metadata": {},
   "outputs": [
    {
     "name": "stdout",
     "output_type": "stream",
     "text": [
      "Parrot can fly\n",
      "Penguin cannot fly\n"
     ]
    }
   ],
   "source": [
    "#polymorphism\n",
    "\n",
    "class Parrot:\n",
    "    def fly(self):\n",
    "        print(\"Parrot can fly\")\n",
    "    def swim(self):\n",
    "        print(\"Parrot cannot swim\")\n",
    "\n",
    "    \n",
    "class Penguin:\n",
    "    def fly(self):\n",
    "        print(\"Penguin cannot fly\")\n",
    "    def swim(self):\n",
    "        print(\"Penguin can swim\")\n",
    "        \n",
    "#common interfaces\n",
    "def flying_test(bird):\n",
    "    bird.fly()\n",
    "    \n",
    "#instantiate objects\n",
    "blu=Parrot()\n",
    "peggy=Penguin()\n",
    "\n",
    "#passing the objects\n",
    "flying_test(blu)\n",
    "flying_test(peggy)\n",
    "\n",
    "    "
   ]
  },
  {
   "cell_type": "code",
   "execution_count": 13,
   "id": "305e3a9d",
   "metadata": {},
   "outputs": [],
   "source": [
    "#pass by value\n",
    "#pass by reference\n",
    "#decorator\n"
   ]
  },
  {
   "cell_type": "code",
   "execution_count": 14,
   "id": "12bafb4c",
   "metadata": {},
   "outputs": [
    {
     "name": "stdout",
     "output_type": "stream",
     "text": [
      "enter name  = sangit\n",
      "enter address = dang\n",
      "Hello World I am sangit. I am from dang\n",
      "sangit\n",
      "dang\n"
     ]
    }
   ],
   "source": [
    "# super method use gareko\n",
    "\n",
    "\n",
    "class Info:                                                               #parent class\n",
    "    def __init__(self):                                     #attribute initizalize garna ko lagi init define garinxa\n",
    "        self.name=input('enter name  = ')\n",
    "        self.add=input('enter address = ')\n",
    "    def data(self):\n",
    "        print(f\"Hello World I am {self.name}. I am from {self.add}\")\n",
    "        \n",
    "        \n",
    "class Data(Info):                                                       #child class\n",
    "    \n",
    "    def call_data(self):\n",
    "        super().data()\n",
    "       \n",
    "    \n",
    "obj=Data()\n",
    "obj.call_data()\n",
    "print(obj.name)\n",
    "print(obj.add)"
   ]
  }
 ],
 "metadata": {
  "kernelspec": {
   "display_name": "Python 3 (ipykernel)",
   "language": "python",
   "name": "python3"
  },
  "language_info": {
   "codemirror_mode": {
    "name": "ipython",
    "version": 3
   },
   "file_extension": ".py",
   "mimetype": "text/x-python",
   "name": "python",
   "nbconvert_exporter": "python",
   "pygments_lexer": "ipython3",
   "version": "3.9.7"
  }
 },
 "nbformat": 4,
 "nbformat_minor": 5
}
