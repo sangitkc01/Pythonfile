{
 "cells": [
  {
   "cell_type": "code",
   "execution_count": 1,
   "id": "6d9393a5",
   "metadata": {},
   "outputs": [],
   "source": [
    "# Functions\n",
    "\n",
    "# pre-defined functions\n",
    "#  - print()\n",
    "#  - input()\n",
    "#  - str()\n",
    "#  - int()\n",
    "#  - list()\n",
    "#  - tuple()\n",
    "#  - set()\n",
    "#  - dict() , etc.\n",
    "\n",
    "\n",
    "# user-defined function\n",
    "\n",
    "#  def <function_name>():       #defining function\n",
    "#         <operations>\n",
    "#  function_name()              #calling function"
   ]
  },
  {
   "cell_type": "code",
   "execution_count": 4,
   "id": "5317e702",
   "metadata": {},
   "outputs": [
    {
     "name": "stdout",
     "output_type": "stream",
     "text": [
      "Hello World\n"
     ]
    }
   ],
   "source": [
    "def hello():\n",
    "    print(\"Hello World\")\n",
    "hello()"
   ]
  },
  {
   "cell_type": "code",
   "execution_count": 5,
   "id": "5d20765d",
   "metadata": {},
   "outputs": [
    {
     "name": "stdout",
     "output_type": "stream",
     "text": [
      "enter length = 5\n",
      "enter breadth = 6\n",
      "30\n"
     ]
    }
   ],
   "source": [
    "def area():\n",
    "    l=int(input(\"enter length = \"))                 #local variable\n",
    "    b=int(input(\"enter breadth = \"))                #local variable\n",
    "    a=l*b                                           #local variable\n",
    "    print(a)\n",
    "area()"
   ]
  },
  {
   "cell_type": "code",
   "execution_count": 7,
   "id": "b326fb7d",
   "metadata": {},
   "outputs": [
    {
     "name": "stdout",
     "output_type": "stream",
     "text": [
      "enter length = 5\n",
      "enter breadth = 6\n",
      "30\n",
      "5 6\n"
     ]
    }
   ],
   "source": [
    "# Function with no arguments and return type\n",
    "\n",
    "l=int(input(\"enter length = \"))                 #Global variable\n",
    "b=int(input(\"enter breadth = \"))                #Global variable\n",
    "\n",
    "def area():\n",
    "    a=l*b                                       #local variable\n",
    "    print(a)\n",
    "area()\n",
    "print(l,b)"
   ]
  },
  {
   "cell_type": "code",
   "execution_count": 8,
   "id": "58098d8c",
   "metadata": {},
   "outputs": [
    {
     "name": "stdout",
     "output_type": "stream",
     "text": [
      "enter length = 5\n",
      "enter breadth = 6\n",
      "enter height = 7\n",
      "30\n",
      "210\n"
     ]
    }
   ],
   "source": [
    "# Function with no arguments and return type\n",
    "\n",
    "l=int(input(\"enter length = \"))                 #Global variable\n",
    "b=int(input(\"enter breadth = \"))                #Global variable\n",
    "h=int(input(\"enter height = \"))\n",
    "def area():\n",
    "    a=l*b                                       #local variable\n",
    "    print(a)\n",
    "def volumn():\n",
    "    v=l*b*h\n",
    "    print(v)\n",
    "    \n",
    "area()\n",
    "volumn()"
   ]
  },
  {
   "cell_type": "code",
   "execution_count": 9,
   "id": "cae18b43",
   "metadata": {},
   "outputs": [
    {
     "name": "stdout",
     "output_type": "stream",
     "text": [
      "30\n"
     ]
    }
   ],
   "source": [
    "def area(l,b):       # parameter\n",
    "    a=l*b\n",
    "    print(a)\n",
    "    \n",
    "area(5,6)            # argument"
   ]
  },
  {
   "cell_type": "code",
   "execution_count": 10,
   "id": "0eb5bbe4",
   "metadata": {},
   "outputs": [
    {
     "name": "stdout",
     "output_type": "stream",
     "text": [
      "enter p = 1000\n",
      "enter t = 2\n",
      "enter r = 3\n",
      "60.0\n"
     ]
    }
   ],
   "source": [
    "# Function with aruments\n",
    "\n",
    "def cal(p,t,r):\n",
    "    I=(p*t*r)/100\n",
    "    print(I)\n",
    "p=int(input(\"enter p = \"))\n",
    "t=int(input(\"enter t = \"))\n",
    "r=int(input(\"enter r = \"))\n",
    "cal(p,t,r)"
   ]
  },
  {
   "cell_type": "code",
   "execution_count": 11,
   "id": "4f797de3",
   "metadata": {},
   "outputs": [
    {
     "name": "stdout",
     "output_type": "stream",
     "text": [
      "enter p = 1000\n",
      "enter t = 2\n",
      "enter r = 3\n",
      "60.0\n"
     ]
    }
   ],
   "source": [
    "# Function with aruments\n",
    "\n",
    "def cal(x,y,z):\n",
    "    I=x*y*z/100\n",
    "    print(I)\n",
    "p=int(input(\"enter p = \"))\n",
    "t=int(input(\"enter t = \"))\n",
    "r=int(input(\"enter r = \"))\n",
    "cal(p,t,r)"
   ]
  },
  {
   "cell_type": "code",
   "execution_count": 17,
   "id": "f89c45c4",
   "metadata": {},
   "outputs": [
    {
     "name": "stdout",
     "output_type": "stream",
     "text": [
      "enter p = 1000\n",
      "enter t = 2\n",
      "enter r = 3\n",
      "60.0\n"
     ]
    }
   ],
   "source": [
    "# Function with aruments use vayana yasma\n",
    "\n",
    "# def cal(x,y,z):\n",
    "#     p=int(input(\"enter p = \"))\n",
    "#     t=int(input(\"enter t = \"))\n",
    "#     r=int(input(\"enter r = \"))\n",
    "\n",
    "#     I=x*y*z/100\n",
    "#     print(I)\n",
    "# cal(p,t,r)\n",
    "\n",
    "#same mathi ko jastai\n",
    "# function with no arguments\n",
    "def cal():\n",
    "    p=int(input(\"enter p = \"))\n",
    "    t=int(input(\"enter t = \"))\n",
    "    r=int(input(\"enter r = \"))\n",
    "\n",
    "    I=p*t*r/100\n",
    "    print(I)\n",
    "cal()"
   ]
  },
  {
   "cell_type": "code",
   "execution_count": 19,
   "id": "933bdbbb",
   "metadata": {},
   "outputs": [
    {
     "name": "stdout",
     "output_type": "stream",
     "text": [
      "enter first number = 5\n",
      "enter second number = 6\n",
      "enter + - * / = /\n",
      "0.8333333333333334\n"
     ]
    }
   ],
   "source": [
    "# function with no arguments\n",
    "\n",
    "a=int(input('enter first number = '))\n",
    "b=int(input('enter second number = '))\n",
    "o=input('enter + - * / = ')\n",
    "\n",
    "def cal():\n",
    "    \n",
    "    if o=='+':\n",
    "        print(a+b)\n",
    "    elif o=='-':\n",
    "        print(a-b)\n",
    "    elif o=='*':\n",
    "        print(a*b)\n",
    "    elif o=='/':\n",
    "        if b!=0:\n",
    "            print(a/b)\n",
    "        else:\n",
    "            print('the value of b cannot be zero.')\n",
    "    else:\n",
    "        print('invalid')\n",
    "\n",
    "cal()"
   ]
  },
  {
   "cell_type": "code",
   "execution_count": 18,
   "id": "b9d81abc",
   "metadata": {},
   "outputs": [
    {
     "name": "stdout",
     "output_type": "stream",
     "text": [
      "enter first number = 5\n",
      "enter second number = 6\n",
      "enter + - * / = /\n",
      "0.8333333333333334\n"
     ]
    }
   ],
   "source": [
    "# function with arguments\n",
    "\n",
    "def cal(a,b,o):\n",
    "    if o=='+':\n",
    "        print(a+b)\n",
    "    elif o=='-':\n",
    "        print(a-b)\n",
    "    elif o=='*':\n",
    "        print(a*b)\n",
    "    elif o=='/':\n",
    "        if b!=0:\n",
    "            print(a/b)\n",
    "        else:\n",
    "            print('the value of b cannot be zero.')\n",
    "    else:\n",
    "        print('invalid')\n",
    "\n",
    "a=int(input('enter first number = '))\n",
    "b=int(input('enter second number = '))\n",
    "o=input('enter + - * / = ')\n",
    "\n",
    "cal(a,b,o)"
   ]
  },
  {
   "cell_type": "code",
   "execution_count": 21,
   "id": "026147f1",
   "metadata": {},
   "outputs": [
    {
     "data": {
      "text/plain": [
       "'Hello World'"
      ]
     },
     "execution_count": 21,
     "metadata": {},
     "output_type": "execute_result"
    }
   ],
   "source": [
    "# return type function\n",
    "\n",
    "def hello():\n",
    "    return \"Hello World\"\n",
    "hello()"
   ]
  },
  {
   "cell_type": "code",
   "execution_count": 22,
   "id": "0ec30e03",
   "metadata": {},
   "outputs": [
    {
     "name": "stdout",
     "output_type": "stream",
     "text": [
      "Hello World\n",
      "Hello World I am python\n"
     ]
    }
   ],
   "source": [
    "# return type function\n",
    "\n",
    "def hello():\n",
    "    return \"Hello World\"\n",
    "x=hello()\n",
    "print(x)\n",
    "print(x,\"I am python\")"
   ]
  },
  {
   "cell_type": "code",
   "execution_count": 28,
   "id": "88843bd3",
   "metadata": {},
   "outputs": [
    {
     "data": {
      "text/plain": [
       "50"
      ]
     },
     "execution_count": 28,
     "metadata": {},
     "output_type": "execute_result"
    }
   ],
   "source": [
    "# return type function\n",
    "\n",
    "def cal():\n",
    "    l=10\n",
    "    b=5\n",
    "    a=l*b\n",
    "    return a\n",
    "cal()"
   ]
  },
  {
   "cell_type": "code",
   "execution_count": 24,
   "id": "32697607",
   "metadata": {},
   "outputs": [
    {
     "name": "stdout",
     "output_type": "stream",
     "text": [
      "50\n",
      "100\n"
     ]
    }
   ],
   "source": [
    "# return type function\n",
    "\n",
    "def cal():\n",
    "    l=10\n",
    "    b=5\n",
    "    a=l*b\n",
    "    return a\n",
    "\n",
    "area=cal()\n",
    "print(area)\n",
    "h=2\n",
    "v=area*h\n",
    "print(v)"
   ]
  },
  {
   "cell_type": "code",
   "execution_count": 1,
   "id": "de7240fe",
   "metadata": {},
   "outputs": [
    {
     "data": {
      "text/plain": [
       "(50, 100)"
      ]
     },
     "execution_count": 1,
     "metadata": {},
     "output_type": "execute_result"
    }
   ],
   "source": [
    "def cal():\n",
    "    l=10\n",
    "    b=5\n",
    "    h=2\n",
    "    a=l*b\n",
    "    v=a*h\n",
    "    return a,v                        # return type ma multiple value rakhda tuple ma answer dinxa\n",
    "cal()"
   ]
  },
  {
   "cell_type": "code",
   "execution_count": 30,
   "id": "76596b00",
   "metadata": {},
   "outputs": [
    {
     "name": "stdout",
     "output_type": "stream",
     "text": [
      "the area is =  50\n",
      "the volumn is =  100\n"
     ]
    }
   ],
   "source": [
    "def cal():\n",
    "    l=10\n",
    "    b=5\n",
    "    h=2\n",
    "    a=l*b\n",
    "    v=a*h\n",
    "    return a,v\n",
    "area,volumn = cal()\n",
    "print(\"the area is = \",area)\n",
    "print(\"the volumn is = \",volumn)"
   ]
  },
  {
   "cell_type": "code",
   "execution_count": 1,
   "id": "cdad62d7",
   "metadata": {},
   "outputs": [
    {
     "data": {
      "text/plain": [
       "24"
      ]
     },
     "execution_count": 1,
     "metadata": {},
     "output_type": "execute_result"
    }
   ],
   "source": [
    "# Ceiling function\n",
    "\n",
    "import math as m\n",
    "x=23.54\n",
    "m.ceil(x)\n"
   ]
  },
  {
   "cell_type": "code",
   "execution_count": null,
   "id": "ae6328a7",
   "metadata": {},
   "outputs": [],
   "source": [
    "\n"
   ]
  }
 ],
 "metadata": {
  "kernelspec": {
   "display_name": "Python 3 (ipykernel)",
   "language": "python",
   "name": "python3"
  },
  "language_info": {
   "codemirror_mode": {
    "name": "ipython",
    "version": 3
   },
   "file_extension": ".py",
   "mimetype": "text/x-python",
   "name": "python",
   "nbconvert_exporter": "python",
   "pygments_lexer": "ipython3",
   "version": "3.9.7"
  }
 },
 "nbformat": 4,
 "nbformat_minor": 5
}
