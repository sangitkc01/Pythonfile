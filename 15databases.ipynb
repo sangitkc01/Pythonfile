{
 "cells": [
  {
   "cell_type": "code",
   "execution_count": 5,
   "id": "a75b7419",
   "metadata": {},
   "outputs": [],
   "source": [
    "import mysql.connector                # importing databses\n",
    "\n",
    "database=mysql.connector.connect(\n",
    "   host=\"localhost\",\n",
    "    user=\"root\",\n",
    "    password=\"\",\n",
    "    database=\"class8AM\"\n",
    ")\n",
    "\n",
    "db=database.cursor()        # this cursor hold the databases"
   ]
  },
  {
   "cell_type": "code",
   "execution_count": 3,
   "id": "40f71989",
   "metadata": {},
   "outputs": [
    {
     "name": "stdout",
     "output_type": "stream",
     "text": [
      "(1, 'love', 86.0, 78.0, 100.0, 88.0, 80.0, 500.0, 'A+')\n",
      "(2, 'Iran', 78.0, 76.0, 98.0, 50.0, 80.0, 500.0, 'A')\n",
      "(3, 'Indar', 87.0, 65.0, 88.0, 50.0, 80.0, 500.0, 'A')\n",
      "(4, 'sangit', 78.0, 87.0, 98.0, 67.0, 77.0, 500.0, 'A')\n",
      "(5, 'suprima', 89.0, 87.0, 76.0, 65.0, 96.0, 500.0, 'A')\n",
      "(6, 'jadav', 78.0, 56.0, 78.0, 98.0, 67.0, 400.0, 'B+')\n",
      "(7, 'ram', 78.0, 56.0, 67.0, 89.0, 95.0, 500.0, 'A')\n",
      "(8, 'rama', 78.0, 73.0, 71.0, 92.0, 56.0, 500.0, 'A')\n"
     ]
    }
   ],
   "source": [
    "# Reading from databases\n",
    "\n",
    "db.execute(\"SELECT * FROM student\")\n",
    "result=db.fetchall()\n",
    "for x in result:\n",
    "    print(x)"
   ]
  },
  {
   "cell_type": "code",
   "execution_count": 6,
   "id": "c64fdaa6",
   "metadata": {},
   "outputs": [
    {
     "name": "stdout",
     "output_type": "stream",
     "text": [
      "(1, 'love', 86.0, 78.0, 100.0, 88.0, 80.0, 500.0, 'A+')\n",
      "(2, 'Iran', 78.0, 76.0, 98.0, 50.0, 80.0, 500.0, 'A')\n",
      "(3, 'Indar', 87.0, 65.0, 88.0, 50.0, 80.0, 500.0, 'A')\n",
      "(4, 'sangit', 78.0, 87.0, 98.0, 67.0, 77.0, 500.0, 'A')\n",
      "(5, 'suprima', 89.0, 87.0, 76.0, 65.0, 96.0, 500.0, 'A')\n",
      "(6, 'jadav', 78.0, 56.0, 78.0, 98.0, 67.0, 400.0, 'B+')\n",
      "(7, 'ram', 78.0, 56.0, 67.0, 89.0, 95.0, 500.0, 'A')\n",
      "(8, 'rama', 78.0, 73.0, 71.0, 92.0, 56.0, 500.0, 'A')\n"
     ]
    }
   ],
   "source": [
    "# Reading from databases\n",
    "sql=\"select * from student\"\n",
    "db.execute(sql)\n",
    "result=db.fetchall()\n",
    "for x in result:\n",
    "    print(x)"
   ]
  },
  {
   "cell_type": "code",
   "execution_count": 7,
   "id": "a4c954a2",
   "metadata": {},
   "outputs": [
    {
     "data": {
      "text/plain": [
       "[(1, 'love', 86.0, 78.0, 100.0, 88.0, 80.0, 500.0, 'A+'),\n",
       " (2, 'Iran', 78.0, 76.0, 98.0, 50.0, 80.0, 500.0, 'A'),\n",
       " (3, 'Indar', 87.0, 65.0, 88.0, 50.0, 80.0, 500.0, 'A'),\n",
       " (4, 'sangit', 78.0, 87.0, 98.0, 67.0, 77.0, 500.0, 'A'),\n",
       " (5, 'suprima', 89.0, 87.0, 76.0, 65.0, 96.0, 500.0, 'A'),\n",
       " (6, 'jadav', 78.0, 56.0, 78.0, 98.0, 67.0, 400.0, 'B+'),\n",
       " (7, 'ram', 78.0, 56.0, 67.0, 89.0, 95.0, 500.0, 'A'),\n",
       " (8, 'rama', 78.0, 73.0, 71.0, 92.0, 56.0, 500.0, 'A')]"
      ]
     },
     "execution_count": 7,
     "metadata": {},
     "output_type": "execute_result"
    }
   ],
   "source": [
    "# Reading from databases\n",
    "\n",
    "data=[]\n",
    "sql=\"select * from student\"\n",
    "db.execute(sql)\n",
    "result=db.fetchall()\n",
    "for x in result:\n",
    "    data.append(x)\n",
    "data"
   ]
  },
  {
   "cell_type": "code",
   "execution_count": 13,
   "id": "5bbcce37",
   "metadata": {},
   "outputs": [
    {
     "data": {
      "text/plain": [
       "[(1, 'love', 86.0, 78.0, 'A+'),\n",
       " (2, 'Iran', 78.0, 76.0, 'A'),\n",
       " (3, 'Indar', 87.0, 65.0, 'A'),\n",
       " (4, 'sangit', 78.0, 87.0, 'A'),\n",
       " (5, 'suprima', 89.0, 87.0, 'A'),\n",
       " (6, 'jadav', 78.0, 56.0, 'B+'),\n",
       " (7, 'ram', 78.0, 56.0, 'A'),\n",
       " (8, 'rama', 78.0, 73.0, 'A')]"
      ]
     },
     "execution_count": 13,
     "metadata": {},
     "output_type": "execute_result"
    }
   ],
   "source": [
    "# Reading from databases\n",
    "\n",
    "data=[]\n",
    "sql=\"select sn,name,physics,Chemistry,Grade from student\"\n",
    "db.execute(sql)\n",
    "result=db.fetchall()\n",
    "for x in result:\n",
    "    data.append(x)\n",
    "data"
   ]
  },
  {
   "cell_type": "code",
   "execution_count": 14,
   "id": "78799061",
   "metadata": {},
   "outputs": [],
   "source": [
    "# Insert data in databases\n",
    "\n",
    "sql='''Insert into teacher (sn,name,age,address,salary) values (6,'sangit',22,'Dang',600000)'''\n",
    "db.execute(sql)\n",
    "database.commit()"
   ]
  },
  {
   "cell_type": "code",
   "execution_count": 15,
   "id": "31614602",
   "metadata": {},
   "outputs": [],
   "source": [
    "sql='''Insert into teacher (sn,Name,age,Address,salary) values (7,'Pramit',12,'ghorahi',66000)'''\n",
    "db.execute(sql)\n",
    "database.commit()"
   ]
  },
  {
   "cell_type": "code",
   "execution_count": 17,
   "id": "53ccb03e",
   "metadata": {},
   "outputs": [
    {
     "name": "stdout",
     "output_type": "stream",
     "text": [
      "enter n = 2\n",
      "enter name = sangit\n",
      "enter physics = 12\n",
      "enter chemistry = 23\n",
      "enter maths = 34\n",
      "enter english = 45\n",
      "enter nepali = 56\n",
      "enter name = sourya\n",
      "enter physics = 34\n",
      "enter chemistry = 45\n",
      "enter maths = 34\n",
      "enter english = 23\n",
      "enter nepali = 34\n"
     ]
    }
   ],
   "source": [
    "n=int(input('enter n = '))\n",
    "for i in range(n):\n",
    "    name=input('enter name = ')\n",
    "    physics=int(input('enter physics = '))\n",
    "    chemistry=int(input('enter chemistry = '))\n",
    "    math=int(input('enter maths = '))\n",
    "    english=int(input('enter english = '))\n",
    "    nepali=int(input('enter nepali = '))\n",
    "\n",
    "    total=physics + chemistry + math + english + nepali\n",
    "    sql=f\"insert into student (name,physics,chemistry,math,english,nepali,total) values ('{name}',{physics},{chemistry},{math},{english},{nepali},{total})\"\n",
    "    db.execute(sql)\n",
    "database.commit()\n",
    "\n"
   ]
  },
  {
   "cell_type": "code",
   "execution_count": 1,
   "id": "3c55d103",
   "metadata": {},
   "outputs": [],
   "source": [
    "# creating databases\n",
    "\n",
    "import mysql.connector\n",
    "\n",
    "database=mysql.connector.connect(\n",
    "    host='localhost',\n",
    "    user='root',\n",
    "    password=''\n",
    ")\n",
    "db=database.cursor()\n",
    "db.execute('create database hellopython')"
   ]
  },
  {
   "cell_type": "code",
   "execution_count": 3,
   "id": "f3672899",
   "metadata": {},
   "outputs": [],
   "source": [
    "import mysql.connector\n",
    "\n",
    "database=mysql.connector.connect(\n",
    "    host='localhost',\n",
    "    user='root',\n",
    "    password='',\n",
    "    database='hellopython'\n",
    ")\n",
    "db=database.cursor()\n",
    "db.execute('create table hpt1 (id int, name varchar(300), subject varchar(300), marks int)')"
   ]
  },
  {
   "cell_type": "code",
   "execution_count": 4,
   "id": "d4e4471d",
   "metadata": {},
   "outputs": [
    {
     "name": "stdout",
     "output_type": "stream",
     "text": [
      "1 record inserted\n"
     ]
    }
   ],
   "source": [
    "import mysql.connector\n",
    "\n",
    "database=mysql.connector.connect(\n",
    "    host='localhost',\n",
    "    user='root',\n",
    "    password='',\n",
    "    database='hellopython'\n",
    ")\n",
    "db=database.cursor()\n",
    "sql=\"insert into hpt1 (id,name,subject,marks) values (1,'sangit','math',98)\"\n",
    "db.execute(sql)\n",
    "database.commit()\n",
    "print(db.rowcount,\"record inserted\")"
   ]
  },
  {
   "cell_type": "code",
   "execution_count": 5,
   "id": "f85de7d3",
   "metadata": {},
   "outputs": [
    {
     "name": "stdout",
     "output_type": "stream",
     "text": [
      "3 record inserted\n"
     ]
    }
   ],
   "source": [
    "sql=\"insert into hpt1 (id,name,subject,marks) values (2,'pramit','science',96), (3,'sourya','english',94), (4,'kamal','nepali',92)\"\n",
    "db.execute(sql)\n",
    "database.commit()\n",
    "print(db.rowcount,\"record inserted\")"
   ]
  },
  {
   "cell_type": "code",
   "execution_count": 9,
   "id": "eaa8f89a",
   "metadata": {},
   "outputs": [
    {
     "name": "stdout",
     "output_type": "stream",
     "text": [
      "(1, 'sangit', 'math', 98)\n",
      "(2, 'pramit', 'science', 96)\n",
      "(3, 'sourya', 'english', 94)\n",
      "(4, 'kamal', 'nepali', 92)\n"
     ]
    }
   ],
   "source": [
    "import mysql.connector\n",
    "\n",
    "database=mysql.connector.connect(\n",
    "    host='localhost',\n",
    "    user='root',\n",
    "    password='',\n",
    "    database='hellopython'\n",
    ")\n",
    "db=database.cursor()\n",
    "\n",
    "sql=\"select * from hpt1\"\n",
    "db.execute(sql)\n",
    "result=db.fetchall()\n",
    "for x in result:\n",
    "    print(x)"
   ]
  },
  {
   "cell_type": "code",
   "execution_count": 10,
   "id": "089db93c",
   "metadata": {},
   "outputs": [
    {
     "name": "stdout",
     "output_type": "stream",
     "text": [
      "(1, 'sangit', 'math', 98)\n"
     ]
    }
   ],
   "source": [
    "sql=\"select * from hpt1 where name='sangit'\"\n",
    "db.execute(sql)\n",
    "result=db.fetchall()\n",
    "for x in result:\n",
    "    print(x)"
   ]
  },
  {
   "cell_type": "code",
   "execution_count": 11,
   "id": "ca60022e",
   "metadata": {},
   "outputs": [
    {
     "name": "stdout",
     "output_type": "stream",
     "text": [
      "1 record's deleted\n"
     ]
    }
   ],
   "source": [
    "sql=\"delete from hpt1 where name='sourya'\"\n",
    "db.execute(sql)\n",
    "database.commit()\n",
    "print(db.rowcount,\"record's deleted\")"
   ]
  },
  {
   "cell_type": "code",
   "execution_count": 12,
   "id": "c1d49730",
   "metadata": {},
   "outputs": [
    {
     "name": "stdout",
     "output_type": "stream",
     "text": [
      "(1, 'sangit', 'math', 98)\n",
      "(2, 'pramit', 'science', 96)\n",
      "(4, 'kamal', 'nepali', 92)\n"
     ]
    }
   ],
   "source": [
    "sql=\"select * from hpt1\"\n",
    "db.execute(sql)\n",
    "result=db.fetchall()\n",
    "for x in result:\n",
    "    print(x)"
   ]
  },
  {
   "cell_type": "code",
   "execution_count": 14,
   "id": "900227a4",
   "metadata": {},
   "outputs": [],
   "source": [
    "sql=\"update hpt1 set subject='Grammer' where id=2\"\n",
    "db.execute(sql)\n",
    "database.commit()"
   ]
  },
  {
   "cell_type": "code",
   "execution_count": 16,
   "id": "d4f7fbc2",
   "metadata": {},
   "outputs": [
    {
     "name": "stdout",
     "output_type": "stream",
     "text": [
      "(1, 'sangit', 'math', 98)\n",
      "(2, 'pramit', 'Grammer', 96)\n",
      "(4, 'kamal', 'nepali', 92)\n"
     ]
    }
   ],
   "source": [
    "sql=\"select * from hpt1\"\n",
    "db.execute(sql)\n",
    "result=db.fetchall()\n",
    "for x in result:\n",
    "    print(x)"
   ]
  },
  {
   "cell_type": "code",
   "execution_count": 3,
   "id": "69802858",
   "metadata": {},
   "outputs": [],
   "source": [
    "import mysql.connector\n",
    "\n",
    "database=mysql.connector.connect(\n",
    "    host='localhost',\n",
    "    user='root',\n",
    "    password='',\n",
    "    database='hellopython'\n",
    ")\n",
    "db=database.cursor()\n",
    "\n",
    "sql=\"update hpt1 set marks=94 where id=4\"\n",
    "db.execute(sql)\n",
    "database.commit()"
   ]
  },
  {
   "cell_type": "code",
   "execution_count": 4,
   "id": "574f3101",
   "metadata": {},
   "outputs": [
    {
     "name": "stdout",
     "output_type": "stream",
     "text": [
      "(1, 'sangit', 'math', 98)\n",
      "(2, 'pramit', 'Grammer', 96)\n",
      "(4, 'kamal', 'nepali', 94)\n"
     ]
    }
   ],
   "source": [
    "sql=\"select * from hpt1\"\n",
    "db.execute(sql)\n",
    "result=db.fetchall()\n",
    "for x in result:\n",
    "    print(x)"
   ]
  },
  {
   "cell_type": "code",
   "execution_count": 3,
   "id": "44a82573",
   "metadata": {},
   "outputs": [],
   "source": [
    "# creating next table in hpt1 database\n",
    "\n",
    "import mysql.connector\n",
    "\n",
    "database=mysql.connector.connect(\n",
    "    host='localhost',\n",
    "    user='root',\n",
    "    password='',\n",
    "    database='hellopython'\n",
    ")\n",
    "\n",
    "db=database.cursor()\n",
    "db.execute(\"create table hpt2(sn int,name varchar(300),age int, address varchar(300))\")"
   ]
  },
  {
   "cell_type": "code",
   "execution_count": 4,
   "id": "9bc4b115",
   "metadata": {},
   "outputs": [
    {
     "name": "stdout",
     "output_type": "stream",
     "text": [
      "1 record inserted\n"
     ]
    }
   ],
   "source": [
    "sql=\"insert into hpt2 (sn,name,age,address) values (1,'sangit',23,'dang')\"\n",
    "db.execute(sql)\n",
    "database.commit()\n",
    "print(db.rowcount,\"record inserted\")"
   ]
  },
  {
   "cell_type": "code",
   "execution_count": 5,
   "id": "9b97e3b3",
   "metadata": {},
   "outputs": [
    {
     "name": "stdout",
     "output_type": "stream",
     "text": [
      "3 record inserted\n"
     ]
    }
   ],
   "source": [
    "sql=\"insert into hpt2 (sn,name,age,address) values (2,'suman',24,'butwal'),(3,'kamal',45,'ktm'),(4,'Ramesh',43,'lalitpur')\"\n",
    "db.execute(sql)\n",
    "database.commit()\n",
    "print(db.rowcount,\"record inserted\")"
   ]
  },
  {
   "cell_type": "code",
   "execution_count": 13,
   "id": "db211b69",
   "metadata": {},
   "outputs": [],
   "source": [
    "# Assignment\n",
    "\n",
    "# input from user\n",
    "# 1 for insert\n",
    "# 2 for select \n",
    "# 3 for update\n",
    "# 4 for delete"
   ]
  },
  {
   "cell_type": "code",
   "execution_count": 24,
   "id": "2a3efd21",
   "metadata": {},
   "outputs": [
    {
     "name": "stdout",
     "output_type": "stream",
     "text": [
      "enter n = 4\n",
      "enter name = sita\n"
     ]
    }
   ],
   "source": [
    "import mysql.connector\n",
    "\n",
    "database=mysql.connector.connect(\n",
    "    host='localhost',\n",
    "    user='root',\n",
    "    password='',\n",
    "    database='hellopython'\n",
    ")\n",
    "\n",
    "db=database.cursor()\n",
    "\n",
    "n=int(input('enter n = '))\n",
    "\n",
    "# insert ko lagi\n",
    "\n",
    "if n==1:\n",
    "    m=int(input('enter m number = '))\n",
    "    for i in range(m):\n",
    "        sn=int(input('enter sn = '))\n",
    "        name=input('enter name = ')\n",
    "        age=int(input('enter age = '))\n",
    "        address=input('enter address = ')\n",
    "        sql=f\"insert into hpt2 (sn,name,age,address) values ({sn},'{name}',{age},'{address}')\"\n",
    "        db.execute(sql)\n",
    "    database.commit()\n",
    "    print(db.rowcount,\"values inserted\")\n",
    "\n",
    "# select ko lagi\n",
    "\n",
    "elif n==2:\n",
    "    db.execute(\"select * from hpt2\")\n",
    "    result= db.fetchall()\n",
    "    for x in result:\n",
    "        print(x)\n",
    "\n",
    "#update ko lagi\n",
    "\n",
    "elif n==3:\n",
    "    sn=int(input('enter sn = '))\n",
    "    name=input('enter name = ')\n",
    "    age=int(input('enter age = '))\n",
    "    address=input('enter address = ')\n",
    "    sql=f\"update hpt2 set name='{name}',age='{age}',address='{address}' where sn={sn}\"\n",
    "    db.execute(sql)\n",
    "    database.commit()\n",
    "\n",
    "#delete ko lagi\n",
    "    \n",
    "elif n==4:\n",
    "    name=input('enter name = ')\n",
    "    sql=f\"delete from hpt2 where name ='{name}'\"\n",
    "    db.execute(sql)\n",
    "    database.commit()\n",
    "\n",
    "else:\n",
    "    print(\"invalid number\")\n",
    "    \n",
    "    "
   ]
  },
  {
   "cell_type": "code",
   "execution_count": null,
   "id": "a532ebb4",
   "metadata": {},
   "outputs": [],
   "source": []
  },
  {
   "cell_type": "code",
   "execution_count": null,
   "id": "8671dff9",
   "metadata": {},
   "outputs": [],
   "source": []
  }
 ],
 "metadata": {
  "kernelspec": {
   "display_name": "Python 3 (ipykernel)",
   "language": "python",
   "name": "python3"
  },
  "language_info": {
   "codemirror_mode": {
    "name": "ipython",
    "version": 3
   },
   "file_extension": ".py",
   "mimetype": "text/x-python",
   "name": "python",
   "nbconvert_exporter": "python",
   "pygments_lexer": "ipython3",
   "version": "3.9.7"
  }
 },
 "nbformat": 4,
 "nbformat_minor": 5
}
