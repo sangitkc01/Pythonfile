{
 "cells": [
  {
   "cell_type": "code",
   "execution_count": 1,
   "id": "27505880",
   "metadata": {},
   "outputs": [],
   "source": [
    "# Dictionary\n",
    "#  -Indexed\n",
    "#  -Ordered\n",
    "#  -Multiple and duplicate value\n",
    "#  -Mutable Datatypes======>>>>>> Those datatypes whose state can be changed even after runtime.(eg;- list,set,dict)\n",
    "\n",
    "# Dictionary is used for mapping\n",
    "# a = { <key>:<value>,<key>:<value>,.....}"
   ]
  },
  {
   "cell_type": "code",
   "execution_count": 6,
   "id": "0869b679",
   "metadata": {},
   "outputs": [
    {
     "name": "stdout",
     "output_type": "stream",
     "text": [
      "{'name': 'sangit', 'age': 22, 'subject': 'Python'}\n",
      "sangit\n",
      "22\n",
      "Python\n",
      "<class 'dict'>\n",
      "sangit\n"
     ]
    }
   ],
   "source": [
    "a = {\n",
    "    \"name\":\"sangit\",\n",
    "    \"age\":22,\n",
    "    \"subject\":\"Python\"\n",
    "}\n",
    "print(a)\n",
    "print(a[\"name\"])\n",
    "print(a[\"age\"])\n",
    "print(a[\"subject\"])\n",
    "print(type(a))\n",
    "print(a.get(\"name\"))"
   ]
  },
  {
   "cell_type": "code",
   "execution_count": 9,
   "id": "b6153b56",
   "metadata": {},
   "outputs": [
    {
     "name": "stdout",
     "output_type": "stream",
     "text": [
      "sangit\n"
     ]
    }
   ],
   "source": [
    "a = {                                           \n",
    "    \"name\":\"sangit\", \n",
    "    \"age\":22,\n",
    "    \"subject\":\"Python\",\n",
    "    \"Name\":\"sangit\"                      # no duplicate key just value duplicate\n",
    "}\n",
    "print(a[\"Name\"])"
   ]
  },
  {
   "cell_type": "code",
   "execution_count": 10,
   "id": "b23ab701",
   "metadata": {},
   "outputs": [
    {
     "name": "stdout",
     "output_type": "stream",
     "text": [
      "<class 'dict'>\n"
     ]
    }
   ],
   "source": [
    "a= {}\n",
    "print(type(a))\n"
   ]
  },
  {
   "cell_type": "code",
   "execution_count": 12,
   "id": "d96c4908",
   "metadata": {},
   "outputs": [
    {
     "data": {
      "text/plain": [
       "{'name': 'sangit'}"
      ]
     },
     "execution_count": 12,
     "metadata": {},
     "output_type": "execute_result"
    }
   ],
   "source": [
    "# Adding key and value in the dictionary\n",
    "a = {}\n",
    "a['name']=\"sangit\"\n",
    "a"
   ]
  },
  {
   "cell_type": "code",
   "execution_count": 13,
   "id": "54d7321b",
   "metadata": {},
   "outputs": [
    {
     "data": {
      "text/plain": [
       "{'name': 'sangit', 'age': 22, 'subject': 'python'}"
      ]
     },
     "execution_count": 13,
     "metadata": {},
     "output_type": "execute_result"
    }
   ],
   "source": [
    "a = {}\n",
    "a['name']=\"sangit\"\n",
    "a['age']=22\n",
    "a['subject']=\"python\"\n",
    "a"
   ]
  },
  {
   "cell_type": "code",
   "execution_count": 8,
   "id": "2433197a",
   "metadata": {},
   "outputs": [
    {
     "data": {
      "text/plain": [
       "{'name': 'sangit', 'age': 22, 'subject': 'python'}"
      ]
     },
     "execution_count": 8,
     "metadata": {},
     "output_type": "execute_result"
    }
   ],
   "source": [
    "a = {}\n",
    "a['name']=\"sangit\"\n",
    "a['age']=22\n",
    "a['subject']=\"python\"\n",
    "a['name']=\"sangit\"\n",
    "a"
   ]
  },
  {
   "cell_type": "code",
   "execution_count": 3,
   "id": "e0da9e97",
   "metadata": {},
   "outputs": [
    {
     "name": "stdout",
     "output_type": "stream",
     "text": [
      "enter n = 2\n",
      "enter name = sangit\n",
      "enter phone = 543\n",
      "enter name = kamal\n",
      "enter phone = 5432\n"
     ]
    },
    {
     "data": {
      "text/plain": [
       "{'543': 'sangit', '5432': 'kamal'}"
      ]
     },
     "execution_count": 3,
     "metadata": {},
     "output_type": "execute_result"
    }
   ],
   "source": [
    "info = {}\n",
    "n=int(input(\"enter n = \"))\n",
    "for i in range(n):\n",
    "    name=input(\"enter name = \")\n",
    "    phone=input(\"enter phone = \")\n",
    "    info[phone]=name\n",
    "info"
   ]
  },
  {
   "cell_type": "code",
   "execution_count": 4,
   "id": "e79a6b6f",
   "metadata": {},
   "outputs": [
    {
     "name": "stdout",
     "output_type": "stream",
     "text": [
      "543\n",
      "5432\n"
     ]
    }
   ],
   "source": [
    "for i in info:\n",
    "    print(i)"
   ]
  },
  {
   "cell_type": "code",
   "execution_count": 5,
   "id": "c0698e09",
   "metadata": {},
   "outputs": [
    {
     "name": "stdout",
     "output_type": "stream",
     "text": [
      "sangit\n",
      "kamal\n"
     ]
    }
   ],
   "source": [
    "for i in info.values():\n",
    "    print(i)"
   ]
  },
  {
   "cell_type": "code",
   "execution_count": 6,
   "id": "299d2e76",
   "metadata": {
    "scrolled": true
   },
   "outputs": [
    {
     "name": "stdout",
     "output_type": "stream",
     "text": [
      "('543', 'sangit')\n",
      "('5432', 'kamal')\n"
     ]
    }
   ],
   "source": [
    "for i in info.items():\n",
    "    print(i)"
   ]
  },
  {
   "cell_type": "code",
   "execution_count": 7,
   "id": "ec5e662f",
   "metadata": {},
   "outputs": [
    {
     "name": "stdout",
     "output_type": "stream",
     "text": [
      "[('543', 'sangit'), ('5432', 'kamal')]\n"
     ]
    }
   ],
   "source": [
    "l = []\n",
    "for i in info.items():\n",
    "    l.append(i)\n",
    "print(l)"
   ]
  },
  {
   "cell_type": "code",
   "execution_count": 8,
   "id": "71bbfe61",
   "metadata": {},
   "outputs": [
    {
     "data": {
      "text/plain": [
       "{'543': 'sangit', '5432': 'kamal'}"
      ]
     },
     "execution_count": 8,
     "metadata": {},
     "output_type": "execute_result"
    }
   ],
   "source": [
    "dict(l)"
   ]
  },
  {
   "cell_type": "code",
   "execution_count": 15,
   "id": "1a8d6df0",
   "metadata": {},
   "outputs": [
    {
     "data": {
      "text/plain": [
       "{'Ram': '45678975', 'shyam': '5678974789'}"
      ]
     },
     "execution_count": 15,
     "metadata": {},
     "output_type": "execute_result"
    }
   ],
   "source": [
    "a=(('Ram','45678975'),('shyam','5678974789'))\n",
    "dict(a)"
   ]
  },
  {
   "cell_type": "code",
   "execution_count": 10,
   "id": "2df035b5",
   "metadata": {},
   "outputs": [
    {
     "data": {
      "text/plain": [
       "{'Ram': '45678975', 'shyam': '5678974789'}"
      ]
     },
     "execution_count": 10,
     "metadata": {},
     "output_type": "execute_result"
    }
   ],
   "source": [
    "a=[('Ram','45678975'),('shyam','5678974789')]\n",
    "dict(a)"
   ]
  },
  {
   "cell_type": "code",
   "execution_count": 13,
   "id": "99d349db",
   "metadata": {},
   "outputs": [
    {
     "data": {
      "text/plain": [
       "{'Ram': '45678975', 'shyam': '56789747'}"
      ]
     },
     "execution_count": 13,
     "metadata": {},
     "output_type": "execute_result"
    }
   ],
   "source": [
    "a=[['Ram','45678975'],['shyam','56789747']]\n",
    "dict(a)"
   ]
  },
  {
   "cell_type": "code",
   "execution_count": null,
   "id": "ca919d32",
   "metadata": {},
   "outputs": [],
   "source": []
  },
  {
   "cell_type": "code",
   "execution_count": 14,
   "id": "d7fbe269",
   "metadata": {},
   "outputs": [
    {
     "ename": "TypeError",
     "evalue": "unsupported operand type(s) for +: 'dict' and 'dict'",
     "output_type": "error",
     "traceback": [
      "\u001b[1;31m---------------------------------------------------------------------------\u001b[0m",
      "\u001b[1;31mTypeError\u001b[0m                                 Traceback (most recent call last)",
      "\u001b[1;32m~\\AppData\\Local\\Temp/ipykernel_2580/2716847467.py\u001b[0m in \u001b[0;36m<module>\u001b[1;34m\u001b[0m\n\u001b[0;32m      1\u001b[0m \u001b[0ma\u001b[0m\u001b[1;33m=\u001b[0m \u001b[1;33m{\u001b[0m\u001b[1;34m'Ram'\u001b[0m\u001b[1;33m:\u001b[0m \u001b[1;34m'45678975'\u001b[0m\u001b[1;33m,\u001b[0m \u001b[1;34m'shyam'\u001b[0m\u001b[1;33m:\u001b[0m \u001b[1;34m'5678974789'\u001b[0m\u001b[1;33m}\u001b[0m\u001b[1;33m\u001b[0m\u001b[1;33m\u001b[0m\u001b[0m\n\u001b[0;32m      2\u001b[0m \u001b[0mb\u001b[0m\u001b[1;33m=\u001b[0m \u001b[1;33m{\u001b[0m\u001b[1;34m\"hari\"\u001b[0m\u001b[1;33m:\u001b[0m\u001b[1;34m\"876567890\"\u001b[0m\u001b[1;33m}\u001b[0m\u001b[1;33m\u001b[0m\u001b[1;33m\u001b[0m\u001b[0m\n\u001b[1;32m----> 3\u001b[1;33m \u001b[0mc\u001b[0m \u001b[1;33m=\u001b[0m \u001b[0ma\u001b[0m\u001b[1;33m+\u001b[0m\u001b[0mb\u001b[0m\u001b[1;33m\u001b[0m\u001b[1;33m\u001b[0m\u001b[0m\n\u001b[0m\u001b[0;32m      4\u001b[0m \u001b[0mc\u001b[0m\u001b[1;33m\u001b[0m\u001b[1;33m\u001b[0m\u001b[0m\n",
      "\u001b[1;31mTypeError\u001b[0m: unsupported operand type(s) for +: 'dict' and 'dict'"
     ]
    }
   ],
   "source": [
    "a= {'Ram': '45678975', 'shyam': '5678974789'}     # concatenation hudaina\n",
    "b= {\"hari\":\"876567890\"}\n",
    "c = a+b\n",
    "c"
   ]
  },
  {
   "cell_type": "code",
   "execution_count": 2,
   "id": "b51b0686",
   "metadata": {},
   "outputs": [
    {
     "data": {
      "text/plain": [
       "{'Ram': '45678975', 'shyam': '5678974789', 'hari': '876567890'}"
      ]
     },
     "execution_count": 2,
     "metadata": {},
     "output_type": "execute_result"
    }
   ],
   "source": [
    "a= {'Ram': '45678975', 'shyam': '5678974789'}     # update hunxa\n",
    "b= {\"hari\":\"876567890\"}\n",
    "a.update(b)\n",
    "a"
   ]
  },
  {
   "cell_type": "code",
   "execution_count": 16,
   "id": "65388920",
   "metadata": {},
   "outputs": [
    {
     "data": {
      "text/plain": [
       "{'shyam': '5678974789', 'hari': '876567890'}"
      ]
     },
     "execution_count": 16,
     "metadata": {},
     "output_type": "execute_result"
    }
   ],
   "source": [
    "#del pop()\n",
    "\n",
    "# only key delete garda tesko value pani delete hunxa\n",
    "\n",
    "a = {'Ram': '45678975', 'shyam': '5678974789', 'hari': '876567890'}\n",
    "del a['Ram']\n",
    "a"
   ]
  },
  {
   "cell_type": "code",
   "execution_count": 17,
   "id": "c3005704",
   "metadata": {},
   "outputs": [
    {
     "data": {
      "text/plain": [
       "4"
      ]
     },
     "execution_count": 17,
     "metadata": {},
     "output_type": "execute_result"
    }
   ],
   "source": [
    "a = {1:1,2:4,3:9,4:16}\n",
    "len(a)"
   ]
  },
  {
   "cell_type": "code",
   "execution_count": 18,
   "id": "c34d4147",
   "metadata": {},
   "outputs": [
    {
     "data": {
      "text/plain": [
       "{'Ram': '45678975', 'hari': '876567890'}"
      ]
     },
     "execution_count": 18,
     "metadata": {},
     "output_type": "execute_result"
    }
   ],
   "source": [
    "a = {'Ram': '45678975', 'shyam': '5678974789', 'hari': '876567890'}\n",
    "a.pop(\"shyam\")\n",
    "a"
   ]
  },
  {
   "cell_type": "code",
   "execution_count": 19,
   "id": "8a2d7173",
   "metadata": {},
   "outputs": [
    {
     "name": "stdout",
     "output_type": "stream",
     "text": [
      "{'Ram': '45678975', 'hari': '876567890'}\n",
      "5678974789\n"
     ]
    }
   ],
   "source": [
    "a = {'Ram': '45678975', 'shyam': '5678974789', 'hari': '876567890'}\n",
    "b = a.pop(\"shyam\")\n",
    "print(a)\n",
    "print(b)            # Value move garna milxa"
   ]
  },
  {
   "cell_type": "code",
   "execution_count": 20,
   "id": "c9833dc5",
   "metadata": {},
   "outputs": [
    {
     "name": "stdout",
     "output_type": "stream",
     "text": [
      "{'Ram': [9876548, 765478965], 'shyam': [876543456, 854678865], 'hari': [345678543, 765445678]}\n"
     ]
    }
   ],
   "source": [
    "# list inside dict\n",
    "\n",
    "a = {'Ram': [9876548,765478965], 'shyam': [876543456,854678865], 'hari': [345678543,765445678]}\n",
    "print(a)\n"
   ]
  },
  {
   "cell_type": "code",
   "execution_count": 23,
   "id": "b197e732",
   "metadata": {},
   "outputs": [
    {
     "name": "stdout",
     "output_type": "stream",
     "text": [
      "{'Ram': [9876548, 765478965], 'shyam': [876543456, 854678865], 'hari': [345678543, 765445678]}\n"
     ]
    }
   ],
   "source": [
    "\n",
    "a = {'Ram': [9876548,765478965], 'shyam': [876543456,854678865], 'hari': [345678543,765445678]}\n",
    "print(a)\n"
   ]
  },
  {
   "cell_type": "code",
   "execution_count": 21,
   "id": "5c1aaf27",
   "metadata": {},
   "outputs": [
    {
     "name": "stdout",
     "output_type": "stream",
     "text": [
      "enter n = 2\n",
      "enter name = sangit\n",
      "enter NTC phone = 245678\n",
      "enter NCELL phone = 6543\n",
      "enter name = pramit\n",
      "enter NTC phone = 34678\n",
      "enter NCELL phone = 844567\n"
     ]
    },
    {
     "data": {
      "text/plain": [
       "{'sangit': ['245678', '6543'], 'pramit': ['34678', '844567']}"
      ]
     },
     "execution_count": 21,
     "metadata": {},
     "output_type": "execute_result"
    }
   ],
   "source": [
    "info = {}\n",
    "n=int(input(\"enter n = \"))\n",
    "for i in range(n):\n",
    "    name=input(\"enter name = \")\n",
    "    ntc_phone=input(\"enter NTC phone = \")\n",
    "    ncell_phone=input(\"enter NCELL phone = \")\n",
    "    info[name]=[ntc_phone,ncell_phone]\n",
    "info"
   ]
  },
  {
   "cell_type": "code",
   "execution_count": 22,
   "id": "493b61e9",
   "metadata": {},
   "outputs": [
    {
     "name": "stdout",
     "output_type": "stream",
     "text": [
      "enter name = san\n",
      "enter NTC phone = 4789\n",
      "enter NCELL phone = 765\n"
     ]
    }
   ],
   "source": [
    "name= input(\"enter name = \")\n",
    "ntc_phone=input(\"enter NTC phone = \")\n",
    "ncell_phone=input(\"enter NCELL phone = \")\n",
    "info[name]=[ntc_phone,ncell_phone]"
   ]
  },
  {
   "cell_type": "code",
   "execution_count": 23,
   "id": "758946b2",
   "metadata": {},
   "outputs": [
    {
     "data": {
      "text/plain": [
       "{'sangit': ['245678', '6543'],\n",
       " 'pramit': ['34678', '844567'],\n",
       " 'san': ['4789', '765']}"
      ]
     },
     "execution_count": 23,
     "metadata": {},
     "output_type": "execute_result"
    }
   ],
   "source": [
    "info"
   ]
  },
  {
   "cell_type": "code",
   "execution_count": 24,
   "id": "75e2c973",
   "metadata": {},
   "outputs": [
    {
     "data": {
      "text/plain": [
       "['245678', '6543']"
      ]
     },
     "execution_count": 24,
     "metadata": {},
     "output_type": "execute_result"
    }
   ],
   "source": [
    "info[\"sangit\"]"
   ]
  },
  {
   "cell_type": "code",
   "execution_count": 25,
   "id": "7570cf07",
   "metadata": {},
   "outputs": [
    {
     "data": {
      "text/plain": [
       "{'sangit': ['245678', '6543', 8763456789],\n",
       " 'pramit': ['34678', '844567'],\n",
       " 'san': ['4789', '765']}"
      ]
     },
     "execution_count": 25,
     "metadata": {},
     "output_type": "execute_result"
    }
   ],
   "source": [
    "info[\"sangit\"].append(8763456789)\n",
    "info"
   ]
  },
  {
   "cell_type": "code",
   "execution_count": 26,
   "id": "adeb8acd",
   "metadata": {},
   "outputs": [
    {
     "data": {
      "text/plain": [
       "'245678'"
      ]
     },
     "execution_count": 26,
     "metadata": {},
     "output_type": "execute_result"
    }
   ],
   "source": [
    "info[\"sangit\"][0]"
   ]
  },
  {
   "cell_type": "code",
   "execution_count": 27,
   "id": "2953356a",
   "metadata": {},
   "outputs": [
    {
     "data": {
      "text/plain": [
       "{'sangit': [976556789, '6543', 8763456789],\n",
       " 'pramit': ['34678', '844567'],\n",
       " 'san': ['4789', '765']}"
      ]
     },
     "execution_count": 27,
     "metadata": {},
     "output_type": "execute_result"
    }
   ],
   "source": [
    "info[\"sangit\"][0]=976556789          # updating\n",
    "info"
   ]
  },
  {
   "cell_type": "code",
   "execution_count": 31,
   "id": "b3ad9bcd",
   "metadata": {},
   "outputs": [
    {
     "ename": "TypeError",
     "evalue": "unhashable type: 'list'",
     "output_type": "error",
     "traceback": [
      "\u001b[1;31m---------------------------------------------------------------------------\u001b[0m",
      "\u001b[1;31mTypeError\u001b[0m                                 Traceback (most recent call last)",
      "\u001b[1;32m~\\AppData\\Local\\Temp/ipykernel_2580/1364238426.py\u001b[0m in \u001b[0;36m<module>\u001b[1;34m\u001b[0m\n\u001b[1;32m----> 1\u001b[1;33m \u001b[0ma\u001b[0m\u001b[1;33m=\u001b[0m\u001b[1;33m{\u001b[0m\u001b[1;33m[\u001b[0m\u001b[1;34m\"Apple\"\u001b[0m\u001b[1;33m,\u001b[0m\u001b[1;34m\"Ball\"\u001b[0m\u001b[1;33m]\u001b[0m\u001b[1;33m:\u001b[0m\u001b[1;34m\"A\"\u001b[0m\u001b[1;33m}\u001b[0m\u001b[1;33m\u001b[0m\u001b[1;33m\u001b[0m\u001b[0m\n\u001b[0m\u001b[0;32m      2\u001b[0m \u001b[0ma\u001b[0m\u001b[1;33m\u001b[0m\u001b[1;33m\u001b[0m\u001b[0m\n",
      "\u001b[1;31mTypeError\u001b[0m: unhashable type: 'list'"
     ]
    }
   ],
   "source": [
    "a={[\"Apple\",\"Ball\"]:\"A\"}    "
   ]
  },
  {
   "cell_type": "code",
   "execution_count": 32,
   "id": "b28be7a7",
   "metadata": {},
   "outputs": [
    {
     "data": {
      "text/plain": [
       "{('Apple', 'Ball'): 'A'}"
      ]
     },
     "execution_count": 32,
     "metadata": {},
     "output_type": "execute_result"
    }
   ],
   "source": [
    "a={(\"Apple\",\"Ball\"):\"A\"}\n",
    "a"
   ]
  },
  {
   "cell_type": "code",
   "execution_count": 9,
   "id": "0da06718",
   "metadata": {},
   "outputs": [
    {
     "data": {
      "text/plain": [
       "{1: {'Name': 'Ram', 'Age': 56, 'address': 'Kathmandu'},\n",
       " 2: {'Name': 'Shyam', 'Age': 67, 'address': 'Bara'},\n",
       " 3: {'Name': 'Hari', 'Age': 12, 'address': 'Bhaktapur'}}"
      ]
     },
     "execution_count": 9,
     "metadata": {},
     "output_type": "execute_result"
    }
   ],
   "source": [
    "# Dictionary inside Dictionary\n",
    "\n",
    "d = {1:{\"Name\":\"Ram\",\"Age\":56,\"address\":\"Kathmandu\"},\n",
    "     2:{\"Name\":\"Shyam\",\"Age\":67,\"address\":\"Bara\"},\n",
    "     3:{\"Name\":\"Hari\",\"Age\":12,\"address\":\"Bhaktapur\"}}\n",
    "\n",
    "d\n"
   ]
  },
  {
   "cell_type": "code",
   "execution_count": 10,
   "id": "89ab50ea",
   "metadata": {},
   "outputs": [
    {
     "data": {
      "text/plain": [
       "{1: {'Name': 'Ram', 'Age': 56, 'address': 'Kathmandu', 'phone': 8765456789},\n",
       " 2: {'Name': 'Shyam', 'Age': 67, 'address': 'Bara', 'phone': 9876548978},\n",
       " 3: {'Name': 'Hari', 'Age': 12, 'address': 'Bhaktapur', 'phone': 4567898765}}"
      ]
     },
     "execution_count": 10,
     "metadata": {},
     "output_type": "execute_result"
    }
   ],
   "source": [
    "d = {1:{\"Name\":\"Ram\",\"Age\":56,\"address\":\"Kathmandu\"},\n",
    "     2:{\"Name\":\"Shyam\",\"Age\":67,\"address\":\"Bara\"},\n",
    "     3:{\"Name\":\"Hari\",\"Age\":12,\"address\":\"Bhaktapur\"}}\n",
    "d[1][\"phone\"]=8765456789\n",
    "d[2][\"phone\"]=9876548978\n",
    "d[3][\"phone\"]=4567898765\n",
    "d"
   ]
  },
  {
   "cell_type": "code",
   "execution_count": 15,
   "id": "dcc78f28",
   "metadata": {},
   "outputs": [
    {
     "data": {
      "text/plain": [
       "{1: {'Name': 'Ram', 'Age': 56, 'address': 'Kathmandu', 'phone': 8765456789},\n",
       " 2: {'Name': 'Shyam', 'Age': 67, 'address': 'Bara', 'phone': 9876548978},\n",
       " 3: {'Name': 'Hari', 'Age': 12, 'address': 'Bhaktapur', 'phone': 4567898765}}"
      ]
     },
     "execution_count": 15,
     "metadata": {},
     "output_type": "execute_result"
    }
   ],
   "source": [
    "d = {1:{\"Name\":\"Ram\",\"Age\":56,\"address\":\"Kathmandu\"},\n",
    "     2:{\"Name\":\"Shyam\",\"Age\":67,\"address\":\"Bara\"},\n",
    "     3:{\"Name\":\"Hari\",\"Age\":12,\"address\":\"Bhaktapur\"}}\n",
    "d[1][\"phone\"]=8765456789\n",
    "d[2][\"phone\"]=9876548978\n",
    "d[3][\"phone\"]=4567898765\n",
    "d\n",
    "   "
   ]
  },
  {
   "cell_type": "code",
   "execution_count": 16,
   "id": "fabbc63c",
   "metadata": {},
   "outputs": [
    {
     "name": "stdout",
     "output_type": "stream",
     "text": [
      "enter n = 2\n",
      "enter name = sangit\n",
      "enter age = 22\n",
      "enter add = dang\n",
      "enter phone = 543234\n",
      "enter name = pramit\n",
      "enter age = 25\n",
      "enter add = kathmandu\n",
      "enter phone = 2345432\n",
      "{1: {'Name': 'sangit', 'Age': '22', 'Address': 'dang', 'Phone': '543234'}, 2: {'Name': 'pramit', 'Age': '25', 'Address': 'kathmandu', 'Phone': '2345432'}}\n"
     ]
    }
   ],
   "source": [
    "d={}\n",
    "n=int(input(\"enter n = \"))\n",
    "for i in range(1,n+1):\n",
    "    name=input(\"enter name = \")\n",
    "    age=input(\"enter age = \")\n",
    "    add=input(\"enter add = \")\n",
    "    phone=input(\"enter phone = \")\n",
    "    d[i]={\"Name\":name,\"Age\":age,\"Address\":add,\"Phone\":phone}\n",
    "print(d)"
   ]
  },
  {
   "cell_type": "code",
   "execution_count": 2,
   "id": "415b5818",
   "metadata": {},
   "outputs": [
    {
     "name": "stdout",
     "output_type": "stream",
     "text": [
      "enter name = Ram\n",
      "enter name = Hari\n",
      "enter name = Sita\n",
      "enter age = 21\n",
      "enter age = 23\n",
      "enter age = 34\n",
      "enter address = Kathmandu\n",
      "enter address = Bhaktapur\n",
      "enter address = Lalitpur\n"
     ]
    },
    {
     "data": {
      "text/plain": [
       "{'Name': ['Ram', 'Hari', 'Sita'],\n",
       " 'Age': [21, 23, 34],\n",
       " 'Address': ['Kathmandu', 'Bhaktapur', 'Lalitpur']}"
      ]
     },
     "execution_count": 2,
     "metadata": {},
     "output_type": "execute_result"
    }
   ],
   "source": [
    "# This is not effective\n",
    "\n",
    "# WAP to create following type and perform CRUD\n",
    "\n",
    "# d= {\"Name\":[\"Ram\",\"Hari\",\"Sita\"],\n",
    "#    \"Age\":[21,23,34],\n",
    "#    \"Address\":[\"Kathmandu\",\"Bhaktapur\",\"Lalitpur\"]}\n",
    "\n",
    "d={}\n",
    "name_1st=input(\"enter name = \")\n",
    "name_2nd=input(\"enter name = \")\n",
    "name_3rd=input(\"enter name = \")\n",
    "\n",
    "age_1st=int(input(\"enter age = \"))\n",
    "age_2nd=int(input(\"enter age = \"))\n",
    "age_3rd=int(input(\"enter age = \"))\n",
    "\n",
    "address_1st=input(\"enter address = \")\n",
    "address_2nd=input(\"enter address = \")\n",
    "address_3rd=input(\"enter address = \")\n",
    "\n",
    "d[\"Name\"]=[name_1st,name_2nd,name_3rd]\n",
    "d[\"Age\"]=[age_1st,age_2nd,age_3rd]\n",
    "d[\"Address\"]=[address_1st,address_2nd,address_3rd]\n",
    "\n",
    "d"
   ]
  },
  {
   "cell_type": "code",
   "execution_count": 2,
   "id": "350da78b",
   "metadata": {},
   "outputs": [
    {
     "name": "stdout",
     "output_type": "stream",
     "text": [
      "enter number = 1\n",
      "enter name = ram\n",
      "enter age = 12\n",
      "enter address = ramechap\n"
     ]
    },
    {
     "data": {
      "text/plain": [
       "[{'name': 'ram', 'age': 12, 'address': 'ramechap'},\n",
       " {'name': 'shyam', 'age': 34, 'address': 'parsa'},\n",
       " {'name': 'sanju', 'age': 27, 'address': 'bara'}]"
      ]
     },
     "execution_count": 2,
     "metadata": {},
     "output_type": "execute_result"
    }
   ],
   "source": [
    "# This is not effective\n",
    "# Like a wrong but not wrong\n",
    "\n",
    "# a = [{'name': 'ram', 'age': 12, 'address': 'ramechap'},\n",
    "#      {'name': 'shyam', 'age': 34, 'address': 'parsa'},\n",
    "#      {'Name': 'sanju', 'age': 27, 'address': 'bara\n",
    "\n",
    "\n",
    "l=[]\n",
    "n=int(input(\"enter number = \"))\n",
    "a=0\n",
    "while a<n:\n",
    "    name=input(\"enter name = \")\n",
    "    age=int(input(\"enter age = \"))\n",
    "    address=input(\"enter address = \")\n",
    "    d={\"name\":name,\"age\":age,\"address\":address} \n",
    "    a=a+1\n",
    "l.append(d)\n",
    "l.append({\"name\":\"shyam\",\"age\":34,\"address\":\"parsa\"})\n",
    "l.append({\"name\":\"sanju\",\"age\":27,\"address\":\"bara\"})\n",
    "l"
   ]
  },
  {
   "cell_type": "code",
   "execution_count": 10,
   "id": "b810e998",
   "metadata": {},
   "outputs": [
    {
     "data": {
      "text/plain": [
       "{1: {'Name': 'ram', 'age': 56, 'address': 'ktm'},\n",
       " 2: {'Name': 'Sush', 'age': 20, 'address': 'putalisadak'}}"
      ]
     },
     "execution_count": 10,
     "metadata": {},
     "output_type": "execute_result"
    }
   ],
   "source": [
    "d = {1:{\"Name\":\"ram\", \"age\":56, \"address\":\"ktm\"},\n",
    "     2:{\"Name\":\"Sush\", \"age\":20, \"address\":\"putalisadak\"},\n",
    "     3:{\"Name\":\"sanju\", \"age\":27, \"address\":\"bara\"}}\n",
    "del d [3]\n",
    "d"
   ]
  },
  {
   "cell_type": "code",
   "execution_count": 4,
   "id": "28ce17d9",
   "metadata": {},
   "outputs": [
    {
     "name": "stdout",
     "output_type": "stream",
     "text": [
      "enter name = ram\n",
      "enter age = 12\n",
      "enter address = ramchap\n"
     ]
    },
    {
     "data": {
      "text/plain": [
       "[{'name': 'ram', 'age': 12, 'address': 'ramchap'},\n",
       " {'name': 'shyam', 'age': 34, 'address': 'parsa'},\n",
       " {'name': 'sanju', 'age': 27, 'address': 'bara'}]"
      ]
     },
     "execution_count": 4,
     "metadata": {},
     "output_type": "execute_result"
    }
   ],
   "source": [
    "# This is not effective\n",
    "# Like a wrong but not wrong\n",
    "\n",
    "# Without loops\n",
    "\n",
    "# a = [{'name': 'ram', 'age': 12, 'address': 'ramechap'},\n",
    "#      {'name': 'shyam', 'age': 34, 'address': 'parsa'},\n",
    "#      {'Name': 'sanju', 'age': 27, 'address': 'bara\n",
    "\n",
    "\n",
    "l=[]\n",
    "name=input(\"enter name = \")\n",
    "age=int(input(\"enter age = \"))\n",
    "address=input(\"enter address = \")\n",
    "d={\"name\":name,\"age\":age,\"address\":address} \n",
    "   \n",
    "l.append(d)\n",
    "l.append({\"name\":\"shyam\",\"age\":34,\"address\":\"parsa\"})\n",
    "l.append({\"name\":\"sanju\",\"age\":27,\"address\":\"bara\"})\n",
    "l"
   ]
  },
  {
   "cell_type": "code",
   "execution_count": 10,
   "id": "e40685e1",
   "metadata": {},
   "outputs": [
    {
     "name": "stdout",
     "output_type": "stream",
     "text": [
      "enter number = 2\n",
      "enter name = sangit\n",
      "enter name = kamla\n",
      "enter age = 32\n",
      "enter age = 23\n",
      "enter address = dang\n",
      "enter address = ktm\n"
     ]
    },
    {
     "data": {
      "text/plain": [
       "{'Name': ['kamla'], 'Age': [23], 'Address': ['ktm']}"
      ]
     },
     "execution_count": 10,
     "metadata": {},
     "output_type": "execute_result"
    }
   ],
   "source": [
    "# Wrong\n",
    "# Wrong\n",
    "# Wrong\n",
    "# Right for only one user ko data ko lagi\n",
    "\n",
    "# WAP to create following type and perform CRUD\n",
    "\n",
    "# d= {\"Name\":[\"Ram\",\"Hari\",\"Sita\"],\n",
    "#    \"Age\":[21,23,34],\n",
    "#    \"Address\":[\"Kathmandu\",\"Bhaktapur\",\"Lalitpur\"]}\n",
    "\n",
    "d={}\n",
    "n=int(input(\"enter number = \"))\n",
    "for i in range(n):\n",
    "    name=input(\"enter name = \")\n",
    "    d[\"Name\"]=[name]\n",
    "for j in range(n):\n",
    "    age=int(input(\"enter age = \"))\n",
    "    d[\"Age\"]=[age]\n",
    "for k in range(n):\n",
    "    address=input(\"enter address = \")\n",
    "    d[\"Address\"]=[address]\n",
    "d\n",
    "    \n"
   ]
  },
  {
   "cell_type": "code",
   "execution_count": 31,
   "id": "e67afd66",
   "metadata": {},
   "outputs": [
    {
     "name": "stdout",
     "output_type": "stream",
     "text": [
      "enter number = 3\n",
      "enter name = Ram\n",
      "enter name = Hari\n",
      "enter name = Sita\n",
      "enter age = 21\n",
      "enter age = 23\n",
      "enter age = 34\n",
      "enter address = Kathmandu\n",
      "enter address = Bhaktapur\n",
      "enter address = Lalitpur\n"
     ]
    },
    {
     "data": {
      "text/plain": [
       "{'Name': ['Ram', 'Hari', 'Sita'],\n",
       " 'Age': [21, 23, 34],\n",
       " 'Address': ['Kathmandu', 'Bhaktapur', 'Lalitpur']}"
      ]
     },
     "execution_count": 31,
     "metadata": {},
     "output_type": "execute_result"
    }
   ],
   "source": [
    "# Best Way\n",
    "# With Loops\n",
    "\n",
    "# d= {\"Name\":[\"Ram\",\"Hari\",\"Sita\"],\n",
    "#    \"Age\":[21,23,34],\n",
    "#    \"Address\":[\"Kathmandu\",\"Bhaktapur\",\"Lalitpur\"]}\n",
    " \n",
    "d={}\n",
    "na=[]\n",
    "n=int(input(\"enter number = \"))\n",
    "for i in range(n):\n",
    "    name=input(\"enter name = \")\n",
    "    info=name\n",
    "    na.append(info)\n",
    "d['Name']=na\n",
    "\n",
    "ag=[]\n",
    "for i in range(n):    \n",
    "    age=int(input(\"enter age = \"))\n",
    "    info=age\n",
    "    ag.append(info)\n",
    "d['Age']=ag\n",
    "\n",
    "ad=[]\n",
    "for i in range(n):    \n",
    "    address=input(\"enter address = \")\n",
    "    info=address\n",
    "    ad.append(info)\n",
    "d['Address']=ad\n",
    "\n",
    "d"
   ]
  },
  {
   "cell_type": "code",
   "execution_count": 8,
   "id": "a3092cc3",
   "metadata": {},
   "outputs": [
    {
     "name": "stdout",
     "output_type": "stream",
     "text": [
      "enter number = 3\n",
      "enter name = ram\n",
      "enter age = 12\n",
      "enter address = ramechap\n",
      "enter name = shyam\n",
      "enter age = 34\n",
      "enter address = parsa\n",
      "enter name = sanju\n",
      "enter age = 27\n",
      "enter address = bara\n"
     ]
    },
    {
     "data": {
      "text/plain": [
       "[{'Name': 'ram', 'Age': 12, 'Address': 'ramechap'},\n",
       " {'Name': 'shyam', 'Age': 34, 'Address': 'parsa'},\n",
       " {'Name': 'sanju', 'Age': 27, 'Address': 'bara'}]"
      ]
     },
     "execution_count": 8,
     "metadata": {},
     "output_type": "execute_result"
    }
   ],
   "source": [
    "# Best Way\n",
    "# With Loops\n",
    "\n",
    "# a = [{'name': 'ram', 'age': 12, 'address': 'ramechap'},\n",
    "#      {'name': 'shyam', 'age': 34, 'address': 'parsa'},\n",
    "#      {'Name': 'sanju', 'age': 27, 'address': 'bara\n",
    "\n",
    "# info={}\n",
    "\n",
    "l=[]\n",
    "n=int(input(\"enter number = \"))\n",
    "for i in range(1,n+1):\n",
    "    name=input(\"enter name = \")\n",
    "    age=int(input(\"enter age = \"))\n",
    "    address=input(\"enter address = \") \n",
    "    \n",
    "#     info['name']=name\n",
    "#     info['age']=age\n",
    "#     info['address']=address\n",
    "\n",
    "    d={\"Name\":name,\"Age\":age,\"Address\":address}\n",
    "    l.append(d)\n",
    "l"
   ]
  },
  {
   "cell_type": "code",
   "execution_count": null,
   "id": "756a43b4",
   "metadata": {},
   "outputs": [],
   "source": []
  }
 ],
 "metadata": {
  "kernelspec": {
   "display_name": "Python 3 (ipykernel)",
   "language": "python",
   "name": "python3"
  },
  "language_info": {
   "codemirror_mode": {
    "name": "ipython",
    "version": 3
   },
   "file_extension": ".py",
   "mimetype": "text/x-python",
   "name": "python",
   "nbconvert_exporter": "python",
   "pygments_lexer": "ipython3",
   "version": "3.9.7"
  }
 },
 "nbformat": 4,
 "nbformat_minor": 5
}
