{
 "cells": [
  {
   "cell_type": "code",
   "execution_count": 1,
   "id": "2ae9f526",
   "metadata": {},
   "outputs": [
    {
     "name": "stdout",
     "output_type": "stream",
     "text": [
      "True\n",
      "False\n"
     ]
    }
   ],
   "source": [
    "#Comparison Operator < > >= <= == !=\n",
    "a=10\n",
    "b=20\n",
    "print(a<b)\n",
    "print(a>b)"
   ]
  },
  {
   "cell_type": "code",
   "execution_count": 2,
   "id": "f2e8552a",
   "metadata": {},
   "outputs": [
    {
     "name": "stdout",
     "output_type": "stream",
     "text": [
      "True\n"
     ]
    }
   ],
   "source": [
    "a=20\n",
    "b=20\n",
    "print(a==b)"
   ]
  },
  {
   "cell_type": "code",
   "execution_count": 3,
   "id": "0841a818",
   "metadata": {},
   "outputs": [
    {
     "name": "stdout",
     "output_type": "stream",
     "text": [
      "True\n"
     ]
    }
   ],
   "source": [
    "a=20\n",
    "b=20\n",
    "print(a>=b)"
   ]
  },
  {
   "cell_type": "code",
   "execution_count": 4,
   "id": "0b39e7ed",
   "metadata": {},
   "outputs": [
    {
     "name": "stdout",
     "output_type": "stream",
     "text": [
      "True\n"
     ]
    }
   ],
   "source": [
    "a=10\n",
    "b=20\n",
    "print(a!=b)"
   ]
  },
  {
   "cell_type": "code",
   "execution_count": 1,
   "id": "434c1522",
   "metadata": {},
   "outputs": [
    {
     "name": "stdout",
     "output_type": "stream",
     "text": [
      "enter number22\n",
      "you are satifised\n"
     ]
    }
   ],
   "source": [
    "a =int(input(\"enter number\"))\n",
    "if(a<10):\n",
    "    print(\"you are not eligible\")\n",
    "elif(a<25):\n",
    "    print(\"you are satifised\")\n",
    "else:\n",
    "    print(\"you are okay\")"
   ]
  },
  {
   "cell_type": "code",
   "execution_count": 7,
   "id": "78b9746d",
   "metadata": {},
   "outputs": [
    {
     "name": "stdout",
     "output_type": "stream",
     "text": [
      "enter a= 14\n",
      "this is even no\n"
     ]
    }
   ],
   "source": [
    "a=int(input(\"enter a= \"))\n",
    "if a%2==0:\n",
    "    print(\"this is even no\")"
   ]
  },
  {
   "cell_type": "code",
   "execution_count": 9,
   "id": "222f3399",
   "metadata": {},
   "outputs": [
    {
     "name": "stdout",
     "output_type": "stream",
     "text": [
      "enter a= 13\n",
      "this is odd no.\n"
     ]
    }
   ],
   "source": [
    "a=int(input(\"enter a= \"))\n",
    "if(a%2==0):\n",
    "    print(\"this is even no.\")\n",
    "else:\n",
    "    print(\"this is odd no.\")"
   ]
  },
  {
   "cell_type": "code",
   "execution_count": 10,
   "id": "241da6c5",
   "metadata": {},
   "outputs": [
    {
     "name": "stdout",
     "output_type": "stream",
     "text": [
      "enter a= 13\n",
      "this is odd no.\n"
     ]
    }
   ],
   "source": [
    "a=int(input(\"enter a= \"))\n",
    "if a%2==0:\n",
    "    print(\"this is even no.\")\n",
    "else:\n",
    "    print(\"this is odd no.\")"
   ]
  },
  {
   "cell_type": "code",
   "execution_count": 14,
   "id": "58f6d73b",
   "metadata": {},
   "outputs": [
    {
     "name": "stdout",
     "output_type": "stream",
     "text": [
      "enter a = 11\n"
     ]
    },
    {
     "data": {
      "text/plain": [
       "False"
      ]
     },
     "execution_count": 14,
     "metadata": {},
     "output_type": "execute_result"
    }
   ],
   "source": [
    "a=int(input('enter a = '))\n",
    "a%2==0"
   ]
  },
  {
   "cell_type": "code",
   "execution_count": 16,
   "id": "c26940fe",
   "metadata": {},
   "outputs": [
    {
     "name": "stdout",
     "output_type": "stream",
     "text": [
      "enter a=12\n",
      "enter b=23\n",
      "23 is greater\n"
     ]
    }
   ],
   "source": [
    "a=int(input(\"enter a=\"))\n",
    "b=int(input(\"enter b=\"))\n",
    "if a>b:\n",
    "    print(a,\"is greater\")\n",
    "elif b>a:\n",
    "    print(b,\"is greater\")\n",
    "else:\n",
    "    print(\"both are equal\")"
   ]
  },
  {
   "cell_type": "code",
   "execution_count": 17,
   "id": "b6a5d19b",
   "metadata": {},
   "outputs": [
    {
     "name": "stdout",
     "output_type": "stream",
     "text": [
      "enter a = 10\n",
      "enter b = 23\n",
      "enter + - * / +\n",
      "33\n"
     ]
    }
   ],
   "source": [
    "a=int(input(\"enter a = \"))\n",
    "b=int(input(\"enter b = \"))\n",
    "o=input(\"enter + - * / \")\n",
    "if o == \"+\":\n",
    "    print(a+b)\n",
    "elif o == \"-\":\n",
    "    print(a-b)\n",
    "elif o == \"*\":\n",
    "    print(a*b)\n",
    "elif o == \"/\":\n",
    "    print(a/b)\n",
    "else:\n",
    "    print(\"invalid operator\")"
   ]
  },
  {
   "cell_type": "code",
   "execution_count": 18,
   "id": "a8450625",
   "metadata": {},
   "outputs": [
    {
     "name": "stdout",
     "output_type": "stream",
     "text": [
      "enter a = 12\n",
      "enter b = 34\n",
      "enter + - * / /\n",
      "0.35294117647058826\n"
     ]
    }
   ],
   "source": [
    "a=int(input(\"enter a = \"))\n",
    "b=int(input(\"enter b = \"))\n",
    "o=input(\"enter + - * / \")\n",
    "if o == \"+\":\n",
    "    print(a+b)\n",
    "elif o == \"-\":\n",
    "    print(a-b)\n",
    "elif o == \"*\":\n",
    "    print(a*b)\n",
    "elif o == \"/\":\n",
    "    print(a/b)\n",
    "else:\n",
    "    print(\"invalid operator\")"
   ]
  },
  {
   "cell_type": "code",
   "execution_count": 1,
   "id": "18d7c22d",
   "metadata": {},
   "outputs": [
    {
     "name": "stdout",
     "output_type": "stream",
     "text": [
      "enter a = 35\n",
      "enter b = 45\n",
      "enter + - * / *\n",
      "1575\n"
     ]
    }
   ],
   "source": [
    "a=int(input(\"enter a = \"))\n",
    "b=int(input(\"enter b = \"))\n",
    "o=input(\"enter + - * / \")\n",
    "if o == \"+\":\n",
    "    print(a+b)\n",
    "elif o == \"-\":\n",
    "    print(a-b)\n",
    "elif o == \"*\":\n",
    "    print(a*b)\n",
    "elif o == \"/\":\n",
    "    print(a/b)\n",
    "else:\n",
    "    print(\"invalid operator\")"
   ]
  },
  {
   "cell_type": "code",
   "execution_count": 2,
   "id": "e91c9649",
   "metadata": {},
   "outputs": [
    {
     "name": "stdout",
     "output_type": "stream",
     "text": [
      "C:\\some\\name\n"
     ]
    }
   ],
   "source": [
    "print(r'C:\\some\\name')"
   ]
  },
  {
   "cell_type": "code",
   "execution_count": 3,
   "id": "6e03ab99",
   "metadata": {},
   "outputs": [
    {
     "name": "stdout",
     "output_type": "stream",
     "text": [
      "\n",
      "        Hey sangit\n",
      "        where are you?\n",
      "\n",
      "\n"
     ]
    }
   ],
   "source": [
    "print('''\n",
    "        Hey sangit\n",
    "        where are you?\n",
    "\n",
    "''')"
   ]
  },
  {
   "cell_type": "code",
   "execution_count": 23,
   "id": "8d77df12",
   "metadata": {},
   "outputs": [
    {
     "data": {
      "text/plain": [
       "36.504678"
      ]
     },
     "execution_count": 23,
     "metadata": {},
     "output_type": "execute_result"
    }
   ],
   "source": [
    "a=10.234\n",
    "b=3.567\n",
    "\n",
    "a*b\n"
   ]
  },
  {
   "cell_type": "code",
   "execution_count": 24,
   "id": "6e415069",
   "metadata": {},
   "outputs": [
    {
     "data": {
      "text/plain": [
       "40.071678"
      ]
     },
     "execution_count": 24,
     "metadata": {},
     "output_type": "execute_result"
    }
   ],
   "source": [
    "b + _  #the last printed expression is assigned to the variable _."
   ]
  },
  {
   "cell_type": "code",
   "execution_count": 25,
   "id": "de4aec3e",
   "metadata": {},
   "outputs": [
    {
     "data": {
      "text/plain": [
       "40.07"
      ]
     },
     "execution_count": 25,
     "metadata": {},
     "output_type": "execute_result"
    }
   ],
   "source": [
    "round(_,2)"
   ]
  },
  {
   "cell_type": "code",
   "execution_count": 1,
   "id": "09aa8818",
   "metadata": {},
   "outputs": [
    {
     "name": "stdout",
     "output_type": "stream",
     "text": [
      "sangit 6\n",
      "pramit 6\n",
      "kailash 7\n",
      "micheal 7\n"
     ]
    }
   ],
   "source": [
    "words=['sangit','pramit','kailash','micheal']\n",
    "for w in words:\n",
    "    print(w, len(w))\n"
   ]
  },
  {
   "cell_type": "code",
   "execution_count": 2,
   "id": "7186c289",
   "metadata": {},
   "outputs": [
    {
     "name": "stdout",
     "output_type": "stream",
     "text": [
      "False\n"
     ]
    }
   ],
   "source": [
    "a=30\n",
    "b=34\n",
    "print(a==b)"
   ]
  },
  {
   "cell_type": "code",
   "execution_count": 3,
   "id": "1bc02776",
   "metadata": {},
   "outputs": [
    {
     "name": "stdout",
     "output_type": "stream",
     "text": [
      "True\n",
      "True\n",
      "False\n"
     ]
    }
   ],
   "source": [
    "a=1\n",
    "b=3\n",
    "c=1\n",
    "print(a!=b)\n",
    "print(a==c)\n",
    "print(a==b)"
   ]
  },
  {
   "cell_type": "code",
   "execution_count": 5,
   "id": "b4d61317",
   "metadata": {},
   "outputs": [
    {
     "name": "stdout",
     "output_type": "stream",
     "text": [
      "enter a number 12\n",
      "enter a second number 12\n",
      "Both are equal\n"
     ]
    }
   ],
   "source": [
    "a=int(input('enter a number '))\n",
    "b=int(input('enter a second number '))\n",
    "if a>b:\n",
    "    print(a, 'is greater')\n",
    "elif a<b:\n",
    "    print(b,'is greater')\n",
    "else:\n",
    "    print('Both are equal')"
   ]
  },
  {
   "cell_type": "code",
   "execution_count": 6,
   "id": "fd20787d",
   "metadata": {},
   "outputs": [
    {
     "name": "stdout",
     "output_type": "stream",
     "text": [
      "enter first number21\n",
      "enter second number23\n",
      "enter + - * /+\n",
      "44\n"
     ]
    }
   ],
   "source": [
    "a=int(input('enter first number'))\n",
    "b=int(input('enter second number'))\n",
    "o=input('enter + - * /')\n",
    "if o=='+':\n",
    "    print(a+b)\n",
    "elif o=='-':\n",
    "    print(a-b)\n",
    "elif o=='*':\n",
    "    print(a*b)\n",
    "elif o=='/':\n",
    "    print(a/b)\n",
    "else:\n",
    "    print('invalid')\n",
    "    "
   ]
  },
  {
   "cell_type": "code",
   "execution_count": 16,
   "id": "ae718b0b",
   "metadata": {},
   "outputs": [
    {
     "name": "stdout",
     "output_type": "stream",
     "text": [
      "False\n",
      "True\n",
      "False\n",
      "True\n"
     ]
    }
   ],
   "source": [
    "a=True\n",
    "b=False\n",
    "c=True\n",
    "print(a and b)\n",
    "print(a or b)\n",
    "print(a & b)\n",
    "print(a | b)"
   ]
  },
  {
   "cell_type": "code",
   "execution_count": 17,
   "id": "0a0c913c",
   "metadata": {},
   "outputs": [
    {
     "name": "stdout",
     "output_type": "stream",
     "text": [
      "2\n"
     ]
    }
   ],
   "source": [
    "a=True\n",
    "b=True\n",
    "print(a+b)"
   ]
  },
  {
   "cell_type": "code",
   "execution_count": 18,
   "id": "179fa386",
   "metadata": {},
   "outputs": [
    {
     "name": "stdout",
     "output_type": "stream",
     "text": [
      "0\n"
     ]
    }
   ],
   "source": [
    "a=False\n",
    "b=False\n",
    "print(a*b)"
   ]
  },
  {
   "cell_type": "code",
   "execution_count": 19,
   "id": "3700131c",
   "metadata": {},
   "outputs": [
    {
     "name": "stdout",
     "output_type": "stream",
     "text": [
      "1\n"
     ]
    }
   ],
   "source": [
    "a=False\n",
    "b=True\n",
    "print(a+b)"
   ]
  },
  {
   "cell_type": "code",
   "execution_count": 23,
   "id": "a84d4cbe",
   "metadata": {},
   "outputs": [
    {
     "name": "stdout",
     "output_type": "stream",
     "text": [
      "enter a=24\n",
      "the value is even and greater than 10\n"
     ]
    }
   ],
   "source": [
    "a=int(input(\"enter a=\"))\n",
    "if (a%2==0) and (a>10):\n",
    "    print(\"the value is even and greater than 10\")\n",
    "else:\n",
    "    print(\"error\")"
   ]
  },
  {
   "cell_type": "code",
   "execution_count": 2,
   "id": "a67c2949",
   "metadata": {},
   "outputs": [
    {
     "name": "stdout",
     "output_type": "stream",
     "text": [
      "enter a=11\n",
      "the value is odd or greater than 10\n"
     ]
    }
   ],
   "source": [
    "a=int(input(\"enter a=\"))\n",
    "if (a%2==0) or (a>10):\n",
    "    print(\"the value is odd or greater than 10\")\n",
    "else:\n",
    "    print(\"error\")"
   ]
  },
  {
   "cell_type": "code",
   "execution_count": 27,
   "id": "a0738feb",
   "metadata": {},
   "outputs": [
    {
     "name": "stdout",
     "output_type": "stream",
     "text": [
      "enter a = 23\n",
      "error\n"
     ]
    }
   ],
   "source": [
    "#Nested IF condition\n",
    "\n",
    "a=int(input(\"enter a = \"))\n",
    "if (a%2==0):\n",
    "    if a>10:\n",
    "        print(\"the value is even and greater than 10\")\n",
    "    else:\n",
    "        print(\"the value is even but not greater than 10\")\n",
    "else:\n",
    "    print('error')"
   ]
  },
  {
   "cell_type": "code",
   "execution_count": 30,
   "id": "3d16a9c6",
   "metadata": {},
   "outputs": [
    {
     "name": "stdout",
     "output_type": "stream",
     "text": [
      "enter a = 10\n",
      "the value is even and equal to 10\n"
     ]
    }
   ],
   "source": [
    "#Nested IF condition\n",
    "\n",
    "a=int(input(\"enter a = \"))\n",
    "if (a%2==0):\n",
    "    if a>10:\n",
    "        print(\"the value is even and greater than 10\")\n",
    "    elif a==10:\n",
    "        print(\"the value is even and equal to 10\")\n",
    "    else:\n",
    "        print(\"the value is even but not greater than 10\")\n",
    "else:\n",
    "    print('error')"
   ]
  },
  {
   "cell_type": "code",
   "execution_count": 32,
   "id": "cc293047",
   "metadata": {},
   "outputs": [
    {
     "name": "stdout",
     "output_type": "stream",
     "text": [
      "enter first number = 12\n",
      "enter second number = 0\n",
      "enter + - * //\n",
      "the value of b cannot be zero.\n"
     ]
    }
   ],
   "source": [
    "a=int(input('enter first number = '))\n",
    "b=int(input('enter second number = '))\n",
    "o=input('enter + - * /')\n",
    "if o=='+':\n",
    "    print(a+b)\n",
    "elif o=='-':\n",
    "    print(a-b)\n",
    "elif o=='*':\n",
    "    print(a*b)\n",
    "elif o=='/':\n",
    "    if b!=0:\n",
    "        print(a/b)\n",
    "    else:\n",
    "        print('the value of b cannot be zero.')\n",
    "else:\n",
    "    print('invalid')\n",
    "    "
   ]
  },
  {
   "cell_type": "code",
   "execution_count": null,
   "id": "b377d4aa",
   "metadata": {},
   "outputs": [],
   "source": []
  }
 ],
 "metadata": {
  "kernelspec": {
   "display_name": "Python 3 (ipykernel)",
   "language": "python",
   "name": "python3"
  },
  "language_info": {
   "codemirror_mode": {
    "name": "ipython",
    "version": 3
   },
   "file_extension": ".py",
   "mimetype": "text/x-python",
   "name": "python",
   "nbconvert_exporter": "python",
   "pygments_lexer": "ipython3",
   "version": "3.9.7"
  }
 },
 "nbformat": 4,
 "nbformat_minor": 5
}
